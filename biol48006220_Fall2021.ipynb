{
  "nbformat": 4,
  "nbformat_minor": 0,
  "metadata": {
    "colab": {
      "provenance": [],
      "mount_file_id": "1Iz64HkBBw5oNcY2b1UkrSVDHCigwUP0b",
      "authorship_tag": "ABX9TyMUapn7b2fVFAadq9CDLMpb",
      "include_colab_link": true
    },
    "kernelspec": {
      "name": "python3",
      "display_name": "Python 3"
    },
    "language_info": {
      "name": "python"
    }
  },
  "cells": [
    {
      "cell_type": "markdown",
      "metadata": {
        "id": "view-in-github",
        "colab_type": "text"
      },
      "source": [
        "<a href=\"https://colab.research.google.com/github/brewerlab/practcomp_2022/blob/master/biol48006220_Fall2021.ipynb\" target=\"_parent\"><img src=\"https://colab.research.google.com/assets/colab-badge.svg\" alt=\"Open In Colab\"/></a>"
      ]
    },
    {
      "cell_type": "markdown",
      "metadata": {
        "id": "IkiijBAdAB1W"
      },
      "source": [
        "# BIOL 4800/6220 Coding Notebook Example"
      ]
    },
    {
      "cell_type": "markdown",
      "metadata": {
        "id": "R_QAy1vFAXDV"
      },
      "source": [
        "## Basics"
      ]
    },
    {
      "cell_type": "markdown",
      "metadata": {
        "id": "bvBsiuria8qv"
      },
      "source": [
        "### Markdown Carry over"
      ]
    },
    {
      "cell_type": "markdown",
      "metadata": {
        "id": "fx7_UxlFbC_n"
      },
      "source": [
        "* Use astericks\n",
        "* to create \n",
        "* unordered lists.\n",
        "\n",
        "1. Use numbers\n",
        "2. to created\n",
        "3. ordered lists.\n",
        "4. Top level\n",
        "  * Indent one\n",
        "  * Indent two\n",
        "    * Subindent one\n",
        "    * Subindent two\n",
        "\n",
        "Line\n",
        "breaks\n",
        "don't\n",
        "matter.\n",
        "\n",
        "But _blank lines_ create new paragraphs.\n",
        "\n",
        "[Brewer Lab](http://www.brewerlab.net)"
      ]
    },
    {
      "cell_type": "markdown",
      "metadata": {
        "id": "6p-Bl9fJcAMB"
      },
      "source": [
        "## Python Basics"
      ]
    },
    {
      "cell_type": "markdown",
      "metadata": {
        "id": "io-fj_cfcIgG"
      },
      "source": [
        "### Variables"
      ]
    },
    {
      "cell_type": "code",
      "metadata": {
        "id": "BxJDGrR8_6wW"
      },
      "source": [
        "myage = 38\n",
        "given_name = 'Michael'\n",
        "family_name = 'Brewer'\n"
      ],
      "execution_count": null,
      "outputs": []
    },
    {
      "cell_type": "code",
      "metadata": {
        "colab": {
          "base_uri": "https://localhost:8080/"
        },
        "id": "fGaK7UkCcqWn",
        "outputId": "b83c5021-b932-4529-a496-3df5e45e7051"
      },
      "source": [
        "print(given_name, 'is', myage, 'years old.')"
      ],
      "execution_count": null,
      "outputs": [
        {
          "output_type": "stream",
          "name": "stdout",
          "text": [
            "Michael is 38 years old.\n"
          ]
        }
      ]
    },
    {
      "cell_type": "code",
      "metadata": {
        "colab": {
          "base_uri": "https://localhost:8080/"
        },
        "id": "jdsWcGqWdk7O",
        "outputId": "ce0237e3-a31d-48cb-dde3-e8a47a7c9080"
      },
      "source": [
        "#type(myage)\n",
        "#type(given_name)\n",
        "\n",
        "print(type(myage), type(given_name))"
      ],
      "execution_count": null,
      "outputs": [
        {
          "output_type": "stream",
          "name": "stdout",
          "text": [
            "<class 'int'> <class 'str'>\n"
          ]
        }
      ]
    },
    {
      "cell_type": "code",
      "metadata": {
        "colab": {
          "base_uri": "https://localhost:8080/"
        },
        "id": "A-R_MXLqeRa4",
        "outputId": "27f897aa-a54c-41d5-887d-854cdafaff2d"
      },
      "source": [
        "myage_str = str(myage)\n",
        "type(myage_str)"
      ],
      "execution_count": null,
      "outputs": [
        {
          "output_type": "execute_result",
          "data": {
            "text/plain": [
              "str"
            ]
          },
          "metadata": {},
          "execution_count": 4
        }
      ]
    },
    {
      "cell_type": "code",
      "metadata": {
        "colab": {
          "base_uri": "https://localhost:8080/"
        },
        "id": "6opDKcbZeluC",
        "outputId": "b07b70f8-98d8-4db2-ee56-7c6b3cf7dd7e"
      },
      "source": [
        "print(myage + 1) # Integers can be subject to math"
      ],
      "execution_count": null,
      "outputs": [
        {
          "output_type": "stream",
          "name": "stdout",
          "text": [
            "39\n"
          ]
        }
      ]
    },
    {
      "cell_type": "code",
      "metadata": {
        "colab": {
          "base_uri": "https://localhost:8080/"
        },
        "id": "P_QlnZb2e1Gj",
        "outputId": "72031dc7-7447-4ba3-bb13-b74c9b932a1b"
      },
      "source": [
        "print(myage_str + str(1))"
      ],
      "execution_count": null,
      "outputs": [
        {
          "output_type": "stream",
          "name": "stdout",
          "text": [
            "381\n"
          ]
        }
      ]
    },
    {
      "cell_type": "code",
      "metadata": {
        "colab": {
          "base_uri": "https://localhost:8080/"
        },
        "id": "NdwKUfpPfJPs",
        "outputId": "f0e4b765-243c-44d9-dd4b-78d7ca47647b"
      },
      "source": [
        "myage + myage"
      ],
      "execution_count": null,
      "outputs": [
        {
          "output_type": "execute_result",
          "data": {
            "text/plain": [
              "76"
            ]
          },
          "metadata": {},
          "execution_count": 7
        }
      ]
    },
    {
      "cell_type": "code",
      "metadata": {
        "colab": {
          "base_uri": "https://localhost:8080/",
          "height": 35
        },
        "id": "o_IsPY3afNnb",
        "outputId": "d7c992ca-d680-4bb2-9eb0-8dc54c19b5cc"
      },
      "source": [
        "str(myage) + str(myage)"
      ],
      "execution_count": null,
      "outputs": [
        {
          "output_type": "execute_result",
          "data": {
            "application/vnd.google.colaboratory.intrinsic+json": {
              "type": "string"
            },
            "text/plain": [
              "'3838'"
            ]
          },
          "metadata": {},
          "execution_count": 8
        }
      ]
    },
    {
      "cell_type": "markdown",
      "metadata": {
        "id": "BAeGReREf7Rz"
      },
      "source": [
        "**Python starts counting at _0_**"
      ]
    },
    {
      "cell_type": "code",
      "metadata": {
        "colab": {
          "base_uri": "https://localhost:8080/",
          "height": 35
        },
        "id": "nZnPisxpfg80",
        "outputId": "d9567bc3-9ca4-430e-a4d3-116396cbe088"
      },
      "source": [
        "given_name[1:]"
      ],
      "execution_count": null,
      "outputs": [
        {
          "output_type": "execute_result",
          "data": {
            "application/vnd.google.colaboratory.intrinsic+json": {
              "type": "string"
            },
            "text/plain": [
              "'ichael'"
            ]
          },
          "metadata": {},
          "execution_count": 9
        }
      ]
    },
    {
      "cell_type": "code",
      "metadata": {
        "colab": {
          "base_uri": "https://localhost:8080/"
        },
        "id": "u8ypR4vzgIGv",
        "outputId": "5aeccd03-530f-44e3-e7aa-a3287028bae1"
      },
      "source": [
        "len(given_name)"
      ],
      "execution_count": null,
      "outputs": [
        {
          "output_type": "execute_result",
          "data": {
            "text/plain": [
              "7"
            ]
          },
          "metadata": {},
          "execution_count": 10
        }
      ]
    },
    {
      "cell_type": "code",
      "metadata": {
        "colab": {
          "base_uri": "https://localhost:8080/"
        },
        "id": "LjbZ432-gXrH",
        "outputId": "9b310f03-c204-4c8b-8117-26f8b32c1da4"
      },
      "source": [
        "type(myage/3)"
      ],
      "execution_count": null,
      "outputs": [
        {
          "output_type": "execute_result",
          "data": {
            "text/plain": [
              "float"
            ]
          },
          "metadata": {},
          "execution_count": 11
        }
      ]
    },
    {
      "cell_type": "code",
      "metadata": {
        "colab": {
          "base_uri": "https://localhost:8080/"
        },
        "id": "OXCpaXUdgsPp",
        "outputId": "1ee16c7a-0bc6-401f-b61e-e270dd64cdb1"
      },
      "source": [
        "float(myage)"
      ],
      "execution_count": null,
      "outputs": [
        {
          "output_type": "execute_result",
          "data": {
            "text/plain": [
              "38.0"
            ]
          },
          "metadata": {},
          "execution_count": 12
        }
      ]
    },
    {
      "cell_type": "code",
      "metadata": {
        "colab": {
          "base_uri": "https://localhost:8080/"
        },
        "id": "qF2L9rTPg29r",
        "outputId": "823cbf05-c1e2-4022-a542-b57753e4e5dc"
      },
      "source": [
        "myage + float(myage)"
      ],
      "execution_count": null,
      "outputs": [
        {
          "output_type": "execute_result",
          "data": {
            "text/plain": [
              "76.0"
            ]
          },
          "metadata": {},
          "execution_count": 13
        }
      ]
    },
    {
      "cell_type": "code",
      "metadata": {
        "colab": {
          "base_uri": "https://localhost:8080/"
        },
        "id": "Vd45wxjXhAyG",
        "outputId": "528942cd-7023-48d7-c7b1-60c96b45d44d"
      },
      "source": [
        "full_name = given_name+' Scott '+family_name+' II is my full name.'\n",
        "print(full_name)"
      ],
      "execution_count": null,
      "outputs": [
        {
          "output_type": "stream",
          "name": "stdout",
          "text": [
            "Michael Scott Brewer II is my full name.\n"
          ]
        }
      ]
    },
    {
      "cell_type": "markdown",
      "metadata": {
        "id": "bJ8O-pIyhc4C"
      },
      "source": [
        "### Math in Python"
      ]
    },
    {
      "cell_type": "code",
      "metadata": {
        "colab": {
          "base_uri": "https://localhost:8080/"
        },
        "id": "2BTZiHMKhg1d",
        "outputId": "248a2d3f-0457-4233-d1ad-f88e595e41c8"
      },
      "source": [
        "6/2"
      ],
      "execution_count": null,
      "outputs": [
        {
          "output_type": "execute_result",
          "data": {
            "text/plain": [
              "3.0"
            ]
          },
          "metadata": {},
          "execution_count": 15
        }
      ]
    },
    {
      "cell_type": "code",
      "metadata": {
        "colab": {
          "base_uri": "https://localhost:8080/"
        },
        "id": "vvYraHhMhnHa",
        "outputId": "80d6eb3d-48c0-4af8-b71a-d21755dcf08f"
      },
      "source": [
        "5/2"
      ],
      "execution_count": null,
      "outputs": [
        {
          "output_type": "execute_result",
          "data": {
            "text/plain": [
              "2.5"
            ]
          },
          "metadata": {},
          "execution_count": 16
        }
      ]
    },
    {
      "cell_type": "code",
      "metadata": {
        "colab": {
          "base_uri": "https://localhost:8080/"
        },
        "id": "4b9hKowyhqux",
        "outputId": "85ead230-87fb-4a8e-ea5a-01f915815a60"
      },
      "source": [
        "5//2"
      ],
      "execution_count": null,
      "outputs": [
        {
          "output_type": "execute_result",
          "data": {
            "text/plain": [
              "2"
            ]
          },
          "metadata": {},
          "execution_count": 17
        }
      ]
    },
    {
      "cell_type": "code",
      "metadata": {
        "colab": {
          "base_uri": "https://localhost:8080/"
        },
        "id": "x3D04YWEisSv",
        "outputId": "44988aa6-442f-4295-9c8f-147168f36e12"
      },
      "source": [
        "5%2"
      ],
      "execution_count": null,
      "outputs": [
        {
          "output_type": "execute_result",
          "data": {
            "text/plain": [
              "1"
            ]
          },
          "metadata": {},
          "execution_count": 18
        }
      ]
    },
    {
      "cell_type": "code",
      "metadata": {
        "colab": {
          "base_uri": "https://localhost:8080/"
        },
        "id": "IL1r_dvKiyZq",
        "outputId": "f069e5fc-583b-4d7e-ba46-36d17595bb84"
      },
      "source": [
        "2*6"
      ],
      "execution_count": null,
      "outputs": [
        {
          "output_type": "execute_result",
          "data": {
            "text/plain": [
              "12"
            ]
          },
          "metadata": {},
          "execution_count": 19
        }
      ]
    },
    {
      "cell_type": "code",
      "metadata": {
        "colab": {
          "base_uri": "https://localhost:8080/"
        },
        "id": "5uylJt8fi3OT",
        "outputId": "f0f08019-f725-4481-ee38-0ddb2d958360"
      },
      "source": [
        "1+1"
      ],
      "execution_count": null,
      "outputs": [
        {
          "output_type": "execute_result",
          "data": {
            "text/plain": [
              "2"
            ]
          },
          "metadata": {},
          "execution_count": 20
        }
      ]
    },
    {
      "cell_type": "code",
      "metadata": {
        "colab": {
          "base_uri": "https://localhost:8080/"
        },
        "id": "uFxiAASWi5Ik",
        "outputId": "a9b4c611-80f2-42d4-94b6-dcb0df7a9ff3"
      },
      "source": [
        "1-1"
      ],
      "execution_count": null,
      "outputs": [
        {
          "output_type": "execute_result",
          "data": {
            "text/plain": [
              "0"
            ]
          },
          "metadata": {},
          "execution_count": 21
        }
      ]
    },
    {
      "cell_type": "markdown",
      "metadata": {
        "id": "zmISa8JJi7qZ"
      },
      "source": [
        "### Built-in Summary Tools"
      ]
    },
    {
      "cell_type": "code",
      "metadata": {
        "colab": {
          "base_uri": "https://localhost:8080/"
        },
        "id": "bxxGSAqtjAC3",
        "outputId": "cdceee24-b3d3-426e-f15a-a6ba2f432342"
      },
      "source": [
        "nums = (1,2,3,4,5)\n",
        "type(nums)"
      ],
      "execution_count": null,
      "outputs": [
        {
          "output_type": "execute_result",
          "data": {
            "text/plain": [
              "tuple"
            ]
          },
          "metadata": {},
          "execution_count": 22
        }
      ]
    },
    {
      "cell_type": "code",
      "metadata": {
        "colab": {
          "base_uri": "https://localhost:8080/"
        },
        "id": "yiEf0DZojQT4",
        "outputId": "f78c7429-10f8-445a-fe0d-33829cbf0748"
      },
      "source": [
        "max(nums)"
      ],
      "execution_count": null,
      "outputs": [
        {
          "output_type": "execute_result",
          "data": {
            "text/plain": [
              "5"
            ]
          },
          "metadata": {},
          "execution_count": 23
        }
      ]
    },
    {
      "cell_type": "code",
      "metadata": {
        "colab": {
          "base_uri": "https://localhost:8080/"
        },
        "id": "ryTerqOFjYO6",
        "outputId": "a6fa8274-0b4d-4121-b743-8cc36a734d51"
      },
      "source": [
        "min(nums)"
      ],
      "execution_count": null,
      "outputs": [
        {
          "output_type": "execute_result",
          "data": {
            "text/plain": [
              "1"
            ]
          },
          "metadata": {},
          "execution_count": 24
        }
      ]
    },
    {
      "cell_type": "code",
      "metadata": {
        "colab": {
          "base_uri": "https://localhost:8080/"
        },
        "id": "OAj7PkY9jer5",
        "outputId": "dfeb6184-f5e0-47e9-b698-de10641c6e10"
      },
      "source": [
        "pi = 3.14159\n",
        "print(pi)"
      ],
      "execution_count": null,
      "outputs": [
        {
          "output_type": "stream",
          "name": "stdout",
          "text": [
            "3.14159\n"
          ]
        }
      ]
    },
    {
      "cell_type": "code",
      "metadata": {
        "colab": {
          "base_uri": "https://localhost:8080/"
        },
        "id": "Ul6yaYdMjlok",
        "outputId": "b7f6eb11-b166-420f-93ea-4bb7debf2be9"
      },
      "source": [
        "round(pi, ndigits=2)"
      ],
      "execution_count": null,
      "outputs": [
        {
          "output_type": "execute_result",
          "data": {
            "text/plain": [
              "3.14"
            ]
          },
          "metadata": {},
          "execution_count": 26
        }
      ]
    },
    {
      "cell_type": "code",
      "metadata": {
        "colab": {
          "base_uri": "https://localhost:8080/"
        },
        "id": "2LdQ3316kCmb",
        "outputId": "69d00f87-a7d4-4218-ea0c-1d5b1f956d11"
      },
      "source": [
        "round(2.55, ndigits=0)"
      ],
      "execution_count": null,
      "outputs": [
        {
          "output_type": "execute_result",
          "data": {
            "text/plain": [
              "3.0"
            ]
          },
          "metadata": {},
          "execution_count": 27
        }
      ]
    },
    {
      "cell_type": "code",
      "metadata": {
        "colab": {
          "base_uri": "https://localhost:8080/"
        },
        "id": "cN5_BFwtkOPS",
        "outputId": "ee5e07b7-45e5-4e3d-fdec-05d432e0be7c"
      },
      "source": [
        "help(round)"
      ],
      "execution_count": null,
      "outputs": [
        {
          "output_type": "stream",
          "name": "stdout",
          "text": [
            "Help on built-in function round in module builtins:\n",
            "\n",
            "round(number, ndigits=None)\n",
            "    Round a number to a given precision in decimal digits.\n",
            "    \n",
            "    The return value is an integer if ndigits is omitted or None.  Otherwise\n",
            "    the return value has the same type as the number.  ndigits may be negative.\n",
            "\n"
          ]
        }
      ]
    },
    {
      "cell_type": "markdown",
      "metadata": {
        "id": "zKhc_46dkZ5I"
      },
      "source": [
        "### Libraries"
      ]
    },
    {
      "cell_type": "code",
      "metadata": {
        "id": "cv26wV36kddx"
      },
      "source": [
        "import math"
      ],
      "execution_count": null,
      "outputs": []
    },
    {
      "cell_type": "code",
      "metadata": {
        "colab": {
          "base_uri": "https://localhost:8080/"
        },
        "id": "kacjSWsYkj0J",
        "outputId": "b6b3c23b-781d-471f-efac-5ef2f3e5153a"
      },
      "source": [
        "print(math.pi)"
      ],
      "execution_count": null,
      "outputs": [
        {
          "output_type": "stream",
          "name": "stdout",
          "text": [
            "3.141592653589793\n"
          ]
        }
      ]
    },
    {
      "cell_type": "code",
      "metadata": {
        "colab": {
          "base_uri": "https://localhost:8080/"
        },
        "id": "abLOFXfmkijW",
        "outputId": "ac63796d-4405-49a4-c7f9-84f84b959219"
      },
      "source": [
        "print(math.pi)"
      ],
      "execution_count": null,
      "outputs": [
        {
          "output_type": "stream",
          "name": "stdout",
          "text": [
            "3.141592653589793\n"
          ]
        }
      ]
    },
    {
      "cell_type": "code",
      "metadata": {
        "colab": {
          "base_uri": "https://localhost:8080/"
        },
        "id": "6QwOsU8Ok61u",
        "outputId": "d18ad217-4657-4938-ed23-73e723461a3f"
      },
      "source": [
        "import math as m\n",
        "print('pi is', m.pi)"
      ],
      "execution_count": null,
      "outputs": [
        {
          "output_type": "stream",
          "name": "stdout",
          "text": [
            "pi is 3.141592653589793\n"
          ]
        }
      ]
    },
    {
      "cell_type": "code",
      "metadata": {
        "colab": {
          "base_uri": "https://localhost:8080/"
        },
        "id": "hxO_W_azlIPa",
        "outputId": "a5ec18d2-9903-478a-fa4a-3b53595e0f39"
      },
      "source": [
        "print('cosine of pi is',m.cos(m.pi))"
      ],
      "execution_count": null,
      "outputs": [
        {
          "output_type": "stream",
          "name": "stdout",
          "text": [
            "cosine of pi is -1.0\n"
          ]
        }
      ]
    },
    {
      "cell_type": "code",
      "metadata": {
        "colab": {
          "base_uri": "https://localhost:8080/"
        },
        "id": "UQRQe69SlTGo",
        "outputId": "3ecad924-83ce-4831-e35a-89c15e14f035"
      },
      "source": [
        "help(math)"
      ],
      "execution_count": null,
      "outputs": [
        {
          "output_type": "stream",
          "name": "stdout",
          "text": [
            "Help on built-in module math:\n",
            "\n",
            "NAME\n",
            "    math\n",
            "\n",
            "DESCRIPTION\n",
            "    This module provides access to the mathematical functions\n",
            "    defined by the C standard.\n",
            "\n",
            "FUNCTIONS\n",
            "    acos(x, /)\n",
            "        Return the arc cosine (measured in radians) of x.\n",
            "    \n",
            "    acosh(x, /)\n",
            "        Return the inverse hyperbolic cosine of x.\n",
            "    \n",
            "    asin(x, /)\n",
            "        Return the arc sine (measured in radians) of x.\n",
            "    \n",
            "    asinh(x, /)\n",
            "        Return the inverse hyperbolic sine of x.\n",
            "    \n",
            "    atan(x, /)\n",
            "        Return the arc tangent (measured in radians) of x.\n",
            "    \n",
            "    atan2(y, x, /)\n",
            "        Return the arc tangent (measured in radians) of y/x.\n",
            "        \n",
            "        Unlike atan(y/x), the signs of both x and y are considered.\n",
            "    \n",
            "    atanh(x, /)\n",
            "        Return the inverse hyperbolic tangent of x.\n",
            "    \n",
            "    ceil(x, /)\n",
            "        Return the ceiling of x as an Integral.\n",
            "        \n",
            "        This is the smallest integer >= x.\n",
            "    \n",
            "    copysign(x, y, /)\n",
            "        Return a float with the magnitude (absolute value) of x but the sign of y.\n",
            "        \n",
            "        On platforms that support signed zeros, copysign(1.0, -0.0)\n",
            "        returns -1.0.\n",
            "    \n",
            "    cos(x, /)\n",
            "        Return the cosine of x (measured in radians).\n",
            "    \n",
            "    cosh(x, /)\n",
            "        Return the hyperbolic cosine of x.\n",
            "    \n",
            "    degrees(x, /)\n",
            "        Convert angle x from radians to degrees.\n",
            "    \n",
            "    erf(x, /)\n",
            "        Error function at x.\n",
            "    \n",
            "    erfc(x, /)\n",
            "        Complementary error function at x.\n",
            "    \n",
            "    exp(x, /)\n",
            "        Return e raised to the power of x.\n",
            "    \n",
            "    expm1(x, /)\n",
            "        Return exp(x)-1.\n",
            "        \n",
            "        This function avoids the loss of precision involved in the direct evaluation of exp(x)-1 for small x.\n",
            "    \n",
            "    fabs(x, /)\n",
            "        Return the absolute value of the float x.\n",
            "    \n",
            "    factorial(x, /)\n",
            "        Find x!.\n",
            "        \n",
            "        Raise a ValueError if x is negative or non-integral.\n",
            "    \n",
            "    floor(x, /)\n",
            "        Return the floor of x as an Integral.\n",
            "        \n",
            "        This is the largest integer <= x.\n",
            "    \n",
            "    fmod(x, y, /)\n",
            "        Return fmod(x, y), according to platform C.\n",
            "        \n",
            "        x % y may differ.\n",
            "    \n",
            "    frexp(x, /)\n",
            "        Return the mantissa and exponent of x, as pair (m, e).\n",
            "        \n",
            "        m is a float and e is an int, such that x = m * 2.**e.\n",
            "        If x is 0, m and e are both 0.  Else 0.5 <= abs(m) < 1.0.\n",
            "    \n",
            "    fsum(seq, /)\n",
            "        Return an accurate floating point sum of values in the iterable seq.\n",
            "        \n",
            "        Assumes IEEE-754 floating point arithmetic.\n",
            "    \n",
            "    gamma(x, /)\n",
            "        Gamma function at x.\n",
            "    \n",
            "    gcd(x, y, /)\n",
            "        greatest common divisor of x and y\n",
            "    \n",
            "    hypot(x, y, /)\n",
            "        Return the Euclidean distance, sqrt(x*x + y*y).\n",
            "    \n",
            "    isclose(a, b, *, rel_tol=1e-09, abs_tol=0.0)\n",
            "        Determine whether two floating point numbers are close in value.\n",
            "        \n",
            "          rel_tol\n",
            "            maximum difference for being considered \"close\", relative to the\n",
            "            magnitude of the input values\n",
            "          abs_tol\n",
            "            maximum difference for being considered \"close\", regardless of the\n",
            "            magnitude of the input values\n",
            "        \n",
            "        Return True if a is close in value to b, and False otherwise.\n",
            "        \n",
            "        For the values to be considered close, the difference between them\n",
            "        must be smaller than at least one of the tolerances.\n",
            "        \n",
            "        -inf, inf and NaN behave similarly to the IEEE 754 Standard.  That\n",
            "        is, NaN is not close to anything, even itself.  inf and -inf are\n",
            "        only close to themselves.\n",
            "    \n",
            "    isfinite(x, /)\n",
            "        Return True if x is neither an infinity nor a NaN, and False otherwise.\n",
            "    \n",
            "    isinf(x, /)\n",
            "        Return True if x is a positive or negative infinity, and False otherwise.\n",
            "    \n",
            "    isnan(x, /)\n",
            "        Return True if x is a NaN (not a number), and False otherwise.\n",
            "    \n",
            "    ldexp(x, i, /)\n",
            "        Return x * (2**i).\n",
            "        \n",
            "        This is essentially the inverse of frexp().\n",
            "    \n",
            "    lgamma(x, /)\n",
            "        Natural logarithm of absolute value of Gamma function at x.\n",
            "    \n",
            "    log(...)\n",
            "        log(x, [base=math.e])\n",
            "        Return the logarithm of x to the given base.\n",
            "        \n",
            "        If the base not specified, returns the natural logarithm (base e) of x.\n",
            "    \n",
            "    log10(x, /)\n",
            "        Return the base 10 logarithm of x.\n",
            "    \n",
            "    log1p(x, /)\n",
            "        Return the natural logarithm of 1+x (base e).\n",
            "        \n",
            "        The result is computed in a way which is accurate for x near zero.\n",
            "    \n",
            "    log2(x, /)\n",
            "        Return the base 2 logarithm of x.\n",
            "    \n",
            "    modf(x, /)\n",
            "        Return the fractional and integer parts of x.\n",
            "        \n",
            "        Both results carry the sign of x and are floats.\n",
            "    \n",
            "    pow(x, y, /)\n",
            "        Return x**y (x to the power of y).\n",
            "    \n",
            "    radians(x, /)\n",
            "        Convert angle x from degrees to radians.\n",
            "    \n",
            "    remainder(x, y, /)\n",
            "        Difference between x and the closest integer multiple of y.\n",
            "        \n",
            "        Return x - n*y where n*y is the closest integer multiple of y.\n",
            "        In the case where x is exactly halfway between two multiples of\n",
            "        y, the nearest even value of n is used. The result is always exact.\n",
            "    \n",
            "    sin(x, /)\n",
            "        Return the sine of x (measured in radians).\n",
            "    \n",
            "    sinh(x, /)\n",
            "        Return the hyperbolic sine of x.\n",
            "    \n",
            "    sqrt(x, /)\n",
            "        Return the square root of x.\n",
            "    \n",
            "    tan(x, /)\n",
            "        Return the tangent of x (measured in radians).\n",
            "    \n",
            "    tanh(x, /)\n",
            "        Return the hyperbolic tangent of x.\n",
            "    \n",
            "    trunc(x, /)\n",
            "        Truncates the Real x to the nearest Integral toward 0.\n",
            "        \n",
            "        Uses the __trunc__ magic method.\n",
            "\n",
            "DATA\n",
            "    e = 2.718281828459045\n",
            "    inf = inf\n",
            "    nan = nan\n",
            "    pi = 3.141592653589793\n",
            "    tau = 6.283185307179586\n",
            "\n",
            "FILE\n",
            "    (built-in)\n",
            "\n",
            "\n"
          ]
        }
      ]
    },
    {
      "cell_type": "code",
      "metadata": {
        "colab": {
          "base_uri": "https://localhost:8080/"
        },
        "id": "89blPDl9ljcZ",
        "outputId": "e15b7e52-96a7-4a86-a927-7b83cfc8c62a"
      },
      "source": [
        "print(m.log10(nums[2]))"
      ],
      "execution_count": null,
      "outputs": [
        {
          "output_type": "stream",
          "name": "stdout",
          "text": [
            "0.47712125471966244\n"
          ]
        }
      ]
    },
    {
      "cell_type": "markdown",
      "metadata": {
        "id": "xFjE1MJdnnO_"
      },
      "source": [
        "### Reading Tables as Data"
      ]
    },
    {
      "cell_type": "code",
      "metadata": {
        "id": "IT8kAMC-nt9l"
      },
      "source": [
        "import pandas as pd"
      ],
      "execution_count": null,
      "outputs": []
    },
    {
      "cell_type": "code",
      "metadata": {
        "colab": {
          "base_uri": "https://localhost:8080/"
        },
        "id": "vIN070P-n1zk",
        "outputId": "f0be27e5-b245-4335-c4c8-e9b7c5e5c030"
      },
      "source": [
        "help(pd)"
      ],
      "execution_count": null,
      "outputs": [
        {
          "output_type": "stream",
          "name": "stdout",
          "text": [
            "Help on package pandas:\n",
            "\n",
            "NAME\n",
            "    pandas\n",
            "\n",
            "DESCRIPTION\n",
            "    pandas - a powerful data analysis and manipulation library for Python\n",
            "    =====================================================================\n",
            "    \n",
            "    **pandas** is a Python package providing fast, flexible, and expressive data\n",
            "    structures designed to make working with \"relational\" or \"labeled\" data both\n",
            "    easy and intuitive. It aims to be the fundamental high-level building block for\n",
            "    doing practical, **real world** data analysis in Python. Additionally, it has\n",
            "    the broader goal of becoming **the most powerful and flexible open source data\n",
            "    analysis / manipulation tool available in any language**. It is already well on\n",
            "    its way toward this goal.\n",
            "    \n",
            "    Main Features\n",
            "    -------------\n",
            "    Here are just a few of the things that pandas does well:\n",
            "    \n",
            "      - Easy handling of missing data in floating point as well as non-floating\n",
            "        point data.\n",
            "      - Size mutability: columns can be inserted and deleted from DataFrame and\n",
            "        higher dimensional objects\n",
            "      - Automatic and explicit data alignment: objects can be explicitly aligned\n",
            "        to a set of labels, or the user can simply ignore the labels and let\n",
            "        `Series`, `DataFrame`, etc. automatically align the data for you in\n",
            "        computations.\n",
            "      - Powerful, flexible group by functionality to perform split-apply-combine\n",
            "        operations on data sets, for both aggregating and transforming data.\n",
            "      - Make it easy to convert ragged, differently-indexed data in other Python\n",
            "        and NumPy data structures into DataFrame objects.\n",
            "      - Intelligent label-based slicing, fancy indexing, and subsetting of large\n",
            "        data sets.\n",
            "      - Intuitive merging and joining data sets.\n",
            "      - Flexible reshaping and pivoting of data sets.\n",
            "      - Hierarchical labeling of axes (possible to have multiple labels per tick).\n",
            "      - Robust IO tools for loading data from flat files (CSV and delimited),\n",
            "        Excel files, databases, and saving/loading data from the ultrafast HDF5\n",
            "        format.\n",
            "      - Time series-specific functionality: date range generation and frequency\n",
            "        conversion, moving window statistics, date shifting and lagging.\n",
            "\n",
            "PACKAGE CONTENTS\n",
            "    _config (package)\n",
            "    _libs (package)\n",
            "    _testing\n",
            "    _typing\n",
            "    _version\n",
            "    api (package)\n",
            "    arrays (package)\n",
            "    compat (package)\n",
            "    conftest\n",
            "    core (package)\n",
            "    errors (package)\n",
            "    io (package)\n",
            "    plotting (package)\n",
            "    testing\n",
            "    tests (package)\n",
            "    tseries (package)\n",
            "    util (package)\n",
            "\n",
            "SUBMODULES\n",
            "    _hashtable\n",
            "    _lib\n",
            "    _tslib\n",
            "    offsets\n",
            "\n",
            "FUNCTIONS\n",
            "    __getattr__(name)\n",
            "\n",
            "DATA\n",
            "    IndexSlice = <pandas.core.indexing._IndexSlice object>\n",
            "    NA = <NA>\n",
            "    NaT = NaT\n",
            "    __docformat__ = 'restructuredtext'\n",
            "    __git_version__ = 'b5958ee1999e9aead1938c0bba2b674378807b3d'\n",
            "    describe_option = <pandas._config.config.CallableDynamicDoc object>\n",
            "    get_option = <pandas._config.config.CallableDynamicDoc object>\n",
            "    options = <pandas._config.config.DictWrapper object>\n",
            "    reset_option = <pandas._config.config.CallableDynamicDoc object>\n",
            "    set_option = <pandas._config.config.CallableDynamicDoc object>\n",
            "\n",
            "VERSION\n",
            "    1.1.5\n",
            "\n",
            "FILE\n",
            "    /usr/local/lib/python3.7/dist-packages/pandas/__init__.py\n",
            "\n",
            "\n"
          ]
        }
      ]
    },
    {
      "cell_type": "code",
      "metadata": {
        "colab": {
          "base_uri": "https://localhost:8080/"
        },
        "id": "tJbIKZtloAso",
        "outputId": "09a631f4-0d80-4aff-ba71-18c29c1f4170"
      },
      "source": [
        "data = pd.read_csv('sample_data/california_housing_test.csv')\n",
        "print(data)"
      ],
      "execution_count": null,
      "outputs": [
        {
          "output_type": "stream",
          "name": "stdout",
          "text": [
            "      longitude  latitude  ...  median_income  median_house_value\n",
            "0       -122.05     37.37  ...         6.6085            344700.0\n",
            "1       -118.30     34.26  ...         3.5990            176500.0\n",
            "2       -117.81     33.78  ...         5.7934            270500.0\n",
            "3       -118.36     33.82  ...         6.1359            330000.0\n",
            "4       -119.67     36.33  ...         2.9375             81700.0\n",
            "...         ...       ...  ...            ...                 ...\n",
            "2995    -119.86     34.42  ...         1.1790            225000.0\n",
            "2996    -118.14     34.06  ...         3.3906            237200.0\n",
            "2997    -119.70     36.30  ...         2.2895             62000.0\n",
            "2998    -117.12     34.10  ...         3.2708            162500.0\n",
            "2999    -119.63     34.42  ...         8.5608            500001.0\n",
            "\n",
            "[3000 rows x 9 columns]\n"
          ]
        }
      ]
    },
    {
      "cell_type": "code",
      "metadata": {
        "colab": {
          "base_uri": "https://localhost:8080/"
        },
        "id": "q0u2e6P1ospQ",
        "outputId": "c04b60c7-0219-4e47-f218-0e4431632210"
      },
      "source": [
        "data = pd.read_csv('sample_data/california_housing_test.csv', index_col='median_income')\n",
        "print(data)"
      ],
      "execution_count": null,
      "outputs": [
        {
          "output_type": "stream",
          "name": "stdout",
          "text": [
            "               longitude  latitude  ...  households  median_house_value\n",
            "median_income                       ...                                \n",
            "6.6085           -122.05     37.37  ...       606.0            344700.0\n",
            "3.5990           -118.30     34.26  ...       277.0            176500.0\n",
            "5.7934           -117.81     33.78  ...       495.0            270500.0\n",
            "6.1359           -118.36     33.82  ...        11.0            330000.0\n",
            "2.9375           -119.67     36.33  ...       237.0             81700.0\n",
            "...                  ...       ...  ...         ...                 ...\n",
            "1.1790           -119.86     34.42  ...       607.0            225000.0\n",
            "3.3906           -118.14     34.06  ...      1036.0            237200.0\n",
            "2.2895           -119.70     36.30  ...       220.0             62000.0\n",
            "3.2708           -117.12     34.10  ...        14.0            162500.0\n",
            "8.5608           -119.63     34.42  ...       260.0            500001.0\n",
            "\n",
            "[3000 rows x 8 columns]\n"
          ]
        }
      ]
    },
    {
      "cell_type": "code",
      "metadata": {
        "colab": {
          "base_uri": "https://localhost:8080/"
        },
        "id": "DfQ7U-azpDg-",
        "outputId": "e2262ab2-199e-41c1-c193-474d4382b4f2"
      },
      "source": [
        "type(data)"
      ],
      "execution_count": null,
      "outputs": [
        {
          "output_type": "execute_result",
          "data": {
            "text/plain": [
              "pandas.core.frame.DataFrame"
            ]
          },
          "metadata": {},
          "execution_count": 40
        }
      ]
    },
    {
      "cell_type": "code",
      "metadata": {
        "colab": {
          "base_uri": "https://localhost:8080/"
        },
        "id": "MkRdDx7mpJe-",
        "outputId": "cc603d63-92de-4d10-8886-d3d312093640"
      },
      "source": [
        "data.info()"
      ],
      "execution_count": null,
      "outputs": [
        {
          "output_type": "stream",
          "name": "stdout",
          "text": [
            "<class 'pandas.core.frame.DataFrame'>\n",
            "Float64Index: 3000 entries, 6.6085 to 8.5608\n",
            "Data columns (total 8 columns):\n",
            " #   Column              Non-Null Count  Dtype  \n",
            "---  ------              --------------  -----  \n",
            " 0   longitude           3000 non-null   float64\n",
            " 1   latitude            3000 non-null   float64\n",
            " 2   housing_median_age  3000 non-null   float64\n",
            " 3   total_rooms         3000 non-null   float64\n",
            " 4   total_bedrooms      3000 non-null   float64\n",
            " 5   population          3000 non-null   float64\n",
            " 6   households          3000 non-null   float64\n",
            " 7   median_house_value  3000 non-null   float64\n",
            "dtypes: float64(8)\n",
            "memory usage: 210.9 KB\n"
          ]
        }
      ]
    },
    {
      "cell_type": "code",
      "metadata": {
        "colab": {
          "base_uri": "https://localhost:8080/"
        },
        "id": "5KVjhkgMpV6I",
        "outputId": "f2b4ea8f-819e-4135-f228-b04e8e5db5dc"
      },
      "source": [
        "print(data.columns)"
      ],
      "execution_count": null,
      "outputs": [
        {
          "output_type": "stream",
          "name": "stdout",
          "text": [
            "Index(['longitude', 'latitude', 'housing_median_age', 'total_rooms',\n",
            "       'total_bedrooms', 'population', 'households', 'median_house_value'],\n",
            "      dtype='object')\n"
          ]
        }
      ]
    },
    {
      "cell_type": "code",
      "metadata": {
        "colab": {
          "base_uri": "https://localhost:8080/"
        },
        "id": "EfFW9yNtpcao",
        "outputId": "0b53723d-8b86-4e4b-be57-fad18d714b3b"
      },
      "source": [
        "print(data.T)"
      ],
      "execution_count": null,
      "outputs": [
        {
          "output_type": "stream",
          "name": "stdout",
          "text": [
            "median_income          6.6085     3.5990  ...     3.2708     8.5608\n",
            "longitude             -122.05    -118.30  ...    -117.12    -119.63\n",
            "latitude                37.37      34.26  ...      34.10      34.42\n",
            "housing_median_age      27.00      43.00  ...      40.00      42.00\n",
            "total_rooms           3885.00    1510.00  ...      96.00    1765.00\n",
            "total_bedrooms         661.00     310.00  ...      14.00     263.00\n",
            "population            1537.00     809.00  ...      46.00     753.00\n",
            "households             606.00     277.00  ...      14.00     260.00\n",
            "median_house_value  344700.00  176500.00  ...  162500.00  500001.00\n",
            "\n",
            "[8 rows x 3000 columns]\n"
          ]
        }
      ]
    },
    {
      "cell_type": "code",
      "metadata": {
        "colab": {
          "base_uri": "https://localhost:8080/"
        },
        "id": "zmCqq1amposI",
        "outputId": "2589b7ad-3830-409c-9359-41745d1f58d5"
      },
      "source": [
        "print(data.describe())"
      ],
      "execution_count": null,
      "outputs": [
        {
          "output_type": "stream",
          "name": "stdout",
          "text": [
            "         longitude    latitude  ...  households  median_house_value\n",
            "count  3000.000000  3000.00000  ...  3000.00000          3000.00000\n",
            "mean   -119.589200    35.63539  ...   489.91200        205846.27500\n",
            "std       1.994936     2.12967  ...   365.42271        113119.68747\n",
            "min    -124.180000    32.56000  ...     2.00000         22500.00000\n",
            "25%    -121.810000    33.93000  ...   273.00000        121200.00000\n",
            "50%    -118.485000    34.27000  ...   409.50000        177650.00000\n",
            "75%    -118.020000    37.69000  ...   597.25000        263975.00000\n",
            "max    -114.490000    41.92000  ...  4930.00000        500001.00000\n",
            "\n",
            "[8 rows x 8 columns]\n"
          ]
        }
      ]
    },
    {
      "cell_type": "code",
      "metadata": {
        "id": "-CE50cQlp6x9"
      },
      "source": [
        "data.T.to_csv('sample_data/california_housing_test_TRANSPOSED.csv')"
      ],
      "execution_count": null,
      "outputs": []
    },
    {
      "cell_type": "markdown",
      "metadata": {
        "id": "VoDT2C1tMjRQ"
      },
      "source": [
        "### Plotting Data"
      ]
    },
    {
      "cell_type": "code",
      "metadata": {
        "id": "Tcxh-fbJMoUv"
      },
      "source": [
        "%matplotlib inline\n",
        "import matplotlib.pyplot as plt"
      ],
      "execution_count": null,
      "outputs": []
    },
    {
      "cell_type": "code",
      "metadata": {
        "id": "c0DRVcp_M1by"
      },
      "source": [
        "time = [0,1,2,3,4,5]\n",
        "response = [20,25,40,80,65,47]"
      ],
      "execution_count": null,
      "outputs": []
    },
    {
      "cell_type": "code",
      "metadata": {
        "colab": {
          "base_uri": "https://localhost:8080/"
        },
        "id": "82Gl8lsmNAeJ",
        "outputId": "af2285ca-b41c-464a-8195-c69321deaf31"
      },
      "source": [
        "print(time, response)"
      ],
      "execution_count": null,
      "outputs": [
        {
          "output_type": "stream",
          "name": "stdout",
          "text": [
            "[0, 1, 2, 3, 4, 5] [20, 25, 40, 80, 65, 47]\n"
          ]
        }
      ]
    },
    {
      "cell_type": "code",
      "metadata": {
        "colab": {
          "base_uri": "https://localhost:8080/"
        },
        "id": "74Lt2TJCNIN0",
        "outputId": "08fcfafe-1ea2-4031-ed44-70bcf9964893"
      },
      "source": [
        "plt.plot(time,response)\n",
        "plt.xlabel('Time (hours)')\n",
        "plt.ylabel('Response (cm)')"
      ],
      "execution_count": null,
      "outputs": [
        {
          "output_type": "execute_result",
          "data": {
            "text/plain": [
              "Text(0, 0.5, 'Response (cm)')"
            ]
          },
          "metadata": {},
          "execution_count": 49
        },
        {
          "output_type": "display_data",
          "data": {
            "image/png": "[encoded data removed]",
            "text/plain": [
              "<Figure size 432x288 with 1 Axes>"
            ]
          },
          "metadata": {
            "needs_background": "light"
          }
        }
      ]
    },
    {
      "cell_type": "code",
      "metadata": {
        "id": "ukjQumVENojj"
      },
      "source": [
        "data = pd.read_csv('gapminder_gdp_oceania.csv', index_col='country')"
      ],
      "execution_count": null,
      "outputs": []
    },
    {
      "cell_type": "code",
      "metadata": {
        "colab": {
          "base_uri": "https://localhost:8080/"
        },
        "id": "e7BI--BTOQyM",
        "outputId": "782213f3-be2b-46da-89da-f41f0f6f0feb"
      },
      "source": [
        "print(data)"
      ],
      "execution_count": null,
      "outputs": [
        {
          "output_type": "stream",
          "name": "stdout",
          "text": [
            "             gdpPercap_1952  gdpPercap_1957  ...  gdpPercap_2002  gdpPercap_2007\n",
            "country                                      ...                                \n",
            "Australia       10039.59564     10949.64959  ...     30687.75473     34435.36744\n",
            "New Zealand     10556.57566     12247.39532  ...     23189.80135     25185.00911\n",
            "\n",
            "[2 rows x 12 columns]\n"
          ]
        }
      ]
    },
    {
      "cell_type": "code",
      "metadata": {
        "id": "tK8Kso8uOsPp"
      },
      "source": [
        "years = data.columns.str.strip('gdpPercap_') # stripping letters off column headers to leave only years"
      ],
      "execution_count": null,
      "outputs": []
    },
    {
      "cell_type": "code",
      "metadata": {
        "colab": {
          "base_uri": "https://localhost:8080/"
        },
        "id": "ayHny9sRO99F",
        "outputId": "002bf6f4-d655-4578-e49f-9cde58253f83"
      },
      "source": [
        "print(years)"
      ],
      "execution_count": null,
      "outputs": [
        {
          "output_type": "stream",
          "name": "stdout",
          "text": [
            "Index(['1952', '1957', '1962', '1967', '1972', '1977', '1982', '1987', '1992',\n",
            "       '1997', '2002', '2007'],\n",
            "      dtype='object')\n"
          ]
        }
      ]
    },
    {
      "cell_type": "code",
      "metadata": {
        "colab": {
          "base_uri": "https://localhost:8080/"
        },
        "id": "JaZwiZVrO_mx",
        "outputId": "e3bb3d1d-39cb-4352-ab2a-5df57447a050"
      },
      "source": [
        "type(years)"
      ],
      "execution_count": null,
      "outputs": [
        {
          "output_type": "execute_result",
          "data": {
            "text/plain": [
              "pandas.core.indexes.base.Index"
            ]
          },
          "metadata": {},
          "execution_count": 54
        }
      ]
    },
    {
      "cell_type": "code",
      "metadata": {
        "colab": {
          "base_uri": "https://localhost:8080/"
        },
        "id": "1xVn6RXJR5Uo",
        "outputId": "f61a3f87-b30e-4c4e-8666-c5faf250a930"
      },
      "source": [
        "data.info()"
      ],
      "execution_count": null,
      "outputs": [
        {
          "output_type": "stream",
          "name": "stdout",
          "text": [
            "<class 'pandas.core.frame.DataFrame'>\n",
            "Index: 2 entries, Australia to New Zealand\n",
            "Data columns (total 12 columns):\n",
            " #   Column          Non-Null Count  Dtype  \n",
            "---  ------          --------------  -----  \n",
            " 0   gdpPercap_1952  2 non-null      float64\n",
            " 1   gdpPercap_1957  2 non-null      float64\n",
            " 2   gdpPercap_1962  2 non-null      float64\n",
            " 3   gdpPercap_1967  2 non-null      float64\n",
            " 4   gdpPercap_1972  2 non-null      float64\n",
            " 5   gdpPercap_1977  2 non-null      float64\n",
            " 6   gdpPercap_1982  2 non-null      float64\n",
            " 7   gdpPercap_1987  2 non-null      float64\n",
            " 8   gdpPercap_1992  2 non-null      float64\n",
            " 9   gdpPercap_1997  2 non-null      float64\n",
            " 10  gdpPercap_2002  2 non-null      float64\n",
            " 11  gdpPercap_2007  2 non-null      float64\n",
            "dtypes: float64(12)\n",
            "memory usage: 208.0+ bytes\n"
          ]
        }
      ]
    },
    {
      "cell_type": "code",
      "metadata": {
        "colab": {
          "base_uri": "https://localhost:8080/"
        },
        "id": "fcFn_90PS8eE",
        "outputId": "44cad495-9a8f-4fc0-c6ea-0efc97f46f24"
      },
      "source": [
        "print(data.columns)"
      ],
      "execution_count": null,
      "outputs": [
        {
          "output_type": "stream",
          "name": "stdout",
          "text": [
            "Index(['gdpPercap_1952', 'gdpPercap_1957', 'gdpPercap_1962', 'gdpPercap_1967',\n",
            "       'gdpPercap_1972', 'gdpPercap_1977', 'gdpPercap_1982', 'gdpPercap_1987',\n",
            "       'gdpPercap_1992', 'gdpPercap_1997', 'gdpPercap_2002', 'gdpPercap_2007'],\n",
            "      dtype='object')\n"
          ]
        }
      ]
    },
    {
      "cell_type": "code",
      "metadata": {
        "colab": {
          "base_uri": "https://localhost:8080/"
        },
        "id": "ypr9v3AMTI36",
        "outputId": "b871da6d-4ccc-43ac-a695-01ab9ce403b1"
      },
      "source": [
        "print(data.T)"
      ],
      "execution_count": null,
      "outputs": [
        {
          "output_type": "stream",
          "name": "stdout",
          "text": [
            "country           Australia  New Zealand\n",
            "gdpPercap_1952  10039.59564  10556.57566\n",
            "gdpPercap_1957  10949.64959  12247.39532\n",
            "gdpPercap_1962  12217.22686  13175.67800\n",
            "gdpPercap_1967  14526.12465  14463.91893\n",
            "gdpPercap_1972  16788.62948  16046.03728\n",
            "gdpPercap_1977  18334.19751  16233.71770\n",
            "gdpPercap_1982  19477.00928  17632.41040\n",
            "gdpPercap_1987  21888.88903  19007.19129\n",
            "gdpPercap_1992  23424.76683  18363.32494\n",
            "gdpPercap_1997  26997.93657  21050.41377\n",
            "gdpPercap_2002  30687.75473  23189.80135\n",
            "gdpPercap_2007  34435.36744  25185.00911\n"
          ]
        }
      ]
    },
    {
      "cell_type": "code",
      "metadata": {
        "colab": {
          "base_uri": "https://localhost:8080/"
        },
        "id": "4gM4soIETu59",
        "outputId": "b2dfb3a5-86b6-40b5-c94e-d9b5cc96d18d"
      },
      "source": [
        "print(data.describe())"
      ],
      "execution_count": null,
      "outputs": [
        {
          "output_type": "stream",
          "name": "stdout",
          "text": [
            "       gdpPercap_1952  gdpPercap_1957  ...  gdpPercap_2002  gdpPercap_2007\n",
            "count        2.000000        2.000000  ...        2.000000        2.000000\n",
            "mean     10298.085650    11598.522455  ...    26938.778040    29810.188275\n",
            "std        365.560078      917.644806  ...     5301.853680     6540.991104\n",
            "min      10039.595640    10949.649590  ...    23189.801350    25185.009110\n",
            "25%      10168.840645    11274.086022  ...    25064.289695    27497.598692\n",
            "50%      10298.085650    11598.522455  ...    26938.778040    29810.188275\n",
            "75%      10427.330655    11922.958888  ...    28813.266385    32122.777857\n",
            "max      10556.575660    12247.395320  ...    30687.754730    34435.367440\n",
            "\n",
            "[8 rows x 12 columns]\n"
          ]
        }
      ]
    },
    {
      "cell_type": "code",
      "metadata": {
        "id": "opY5UCyMT8n6"
      },
      "source": [
        "data.columns = years.astype(int)"
      ],
      "execution_count": null,
      "outputs": []
    },
    {
      "cell_type": "code",
      "metadata": {
        "colab": {
          "base_uri": "https://localhost:8080/"
        },
        "id": "8LM8XOzIUFHK",
        "outputId": "f913abd2-b9f0-4782-dc7b-dacfe716c5ad"
      },
      "source": [
        "print(data.columns)\n",
        "print(type(data.columns))"
      ],
      "execution_count": null,
      "outputs": [
        {
          "output_type": "stream",
          "name": "stdout",
          "text": [
            "Int64Index([1952, 1957, 1962, 1967, 1972, 1977, 1982, 1987, 1992, 1997, 2002,\n",
            "            2007],\n",
            "           dtype='int64')\n",
            "<class 'pandas.core.indexes.numeric.Int64Index'>\n"
          ]
        }
      ]
    },
    {
      "cell_type": "code",
      "metadata": {
        "colab": {
          "base_uri": "https://localhost:8080/"
        },
        "id": "sAwLYr5VUR7F",
        "outputId": "fc5225e4-0850-466c-d142-363d63b936ee"
      },
      "source": [
        "data.plot()"
      ],
      "execution_count": null,
      "outputs": [
        {
          "output_type": "execute_result",
          "data": {
            "text/plain": [
              "<matplotlib.axes._subplots.AxesSubplot at 0x7f5524e2ae90>"
            ]
          },
          "metadata": {},
          "execution_count": 61
        },
        {
          "output_type": "display_data",
          "data": {
            "image/png": "[encoded data removed]",
            "text/plain": [
              "<Figure size 432x288 with 1 Axes>"
            ]
          },
          "metadata": {
            "needs_background": "light"
          }
        }
      ]
    },
    {
      "cell_type": "code",
      "metadata": {
        "colab": {
          "base_uri": "https://localhost:8080/"
        },
        "id": "LBFz1ECCUbIA",
        "outputId": "eb7db0a8-0329-45c7-8453-088b14f8fcc1"
      },
      "source": [
        "data.loc['Australia'].plot()"
      ],
      "execution_count": null,
      "outputs": [
        {
          "output_type": "execute_result",
          "data": {
            "text/plain": [
              "<matplotlib.axes._subplots.AxesSubplot at 0x7f5524d92d50>"
            ]
          },
          "metadata": {},
          "execution_count": 62
        },
        {
          "output_type": "display_data",
          "data": {
            "image/png": "[encoded data removed]",
            "text/plain": [
              "<Figure size 432x288 with 1 Axes>"
            ]
          },
          "metadata": {
            "needs_background": "light"
          }
        }
      ]
    },
    {
      "cell_type": "code",
      "metadata": {
        "colab": {
          "base_uri": "https://localhost:8080/"
        },
        "id": "sl8gUAVgUlyd",
        "outputId": "2ee8b1b2-dc80-4726-c517-6575b9b4a04c"
      },
      "source": [
        "data.T.plot()\n",
        "plt.ylabel('GDP/capita')\n",
        "plt.xlabel('Year')"
      ],
      "execution_count": null,
      "outputs": [
        {
          "output_type": "execute_result",
          "data": {
            "text/plain": [
              "Text(0.5, 0, 'Year')"
            ]
          },
          "metadata": {},
          "execution_count": 63
        },
        {
          "output_type": "display_data",
          "data": {
            "image/png": "[encoded data removed]",
            "text/plain": [
              "<Figure size 432x288 with 1 Axes>"
            ]
          },
          "metadata": {
            "needs_background": "light"
          }
        }
      ]
    },
    {
      "cell_type": "code",
      "metadata": {
        "colab": {
          "base_uri": "https://localhost:8080/"
        },
        "id": "zcTztycMVE2b",
        "outputId": "8747d613-c98c-4c20-efc4-92292f27249d"
      },
      "source": [
        "plt.style.use('ggplot')\n",
        "data.T.plot()\n",
        "plt.ylabel('GDP/capita')\n",
        "plt.xlabel('Year')"
      ],
      "execution_count": null,
      "outputs": [
        {
          "output_type": "execute_result",
          "data": {
            "text/plain": [
              "Text(0.5, 0, 'Year')"
            ]
          },
          "metadata": {},
          "execution_count": 64
        },
        {
          "output_type": "display_data",
          "data": {
            "image/png": "[encoded data removed]",
            "text/plain": [
              "<Figure size 432x288 with 1 Axes>"
            ]
          },
          "metadata": {}
        }
      ]
    },
    {
      "cell_type": "code",
      "metadata": {
        "colab": {
          "base_uri": "https://localhost:8080/"
        },
        "id": "RuTF0C-oVQlw",
        "outputId": "aeadf16b-1cd4-4e42-8479-8165b13bd36e"
      },
      "source": [
        "plt.style.use('ggplot')\n",
        "data.T.plot(kind='bar')\n",
        "plt.ylabel('GDP/capita')\n",
        "plt.xlabel('Year')"
      ],
      "execution_count": null,
      "outputs": [
        {
          "output_type": "execute_result",
          "data": {
            "text/plain": [
              "Text(0.5, 0, 'Year')"
            ]
          },
          "metadata": {},
          "execution_count": 65
        },
        {
          "output_type": "display_data",
          "data": {
            "image/png": "[encoded data removed]",
            "text/plain": [
              "<Figure size 432x288 with 1 Axes>"
            ]
          },
          "metadata": {}
        }
      ]
    },
    {
      "cell_type": "code",
      "metadata": {
        "colab": {
          "base_uri": "https://localhost:8080/"
        },
        "id": "6TPldReeWXlz",
        "outputId": "321d7678-2b28-4c2c-a4fb-7054a19b606c"
      },
      "source": [
        "plt.plot(time,response, 'g--')"
      ],
      "execution_count": null,
      "outputs": [
        {
          "output_type": "execute_result",
          "data": {
            "text/plain": [
              "[<matplotlib.lines.Line2D at 0x7f5524b20450>]"
            ]
          },
          "metadata": {},
          "execution_count": 66
        },
        {
          "output_type": "display_data",
          "data": {
            "image/png": "[encoded data removed]",
            "text/plain": [
              "<Figure size 432x288 with 1 Axes>"
            ]
          },
          "metadata": {}
        }
      ]
    },
    {
      "cell_type": "code",
      "metadata": {
        "colab": {
          "base_uri": "https://localhost:8080/"
        },
        "id": "OU1kPAN_WxI8",
        "outputId": "76e6b561-1d3e-4cc6-fafb-4e3c901b7a98"
      },
      "source": [
        "plt.plot(time,response, 'bo')"
      ],
      "execution_count": null,
      "outputs": [
        {
          "output_type": "execute_result",
          "data": {
            "text/plain": [
              "[<matplotlib.lines.Line2D at 0x7f5524a97050>]"
            ]
          },
          "metadata": {},
          "execution_count": 67
        },
        {
          "output_type": "display_data",
          "data": {
            "image/png": "[encoded data removed]",
            "text/plain": [
              "<Figure size 432x288 with 1 Axes>"
            ]
          },
          "metadata": {}
        }
      ]
    },
    {
      "cell_type": "code",
      "metadata": {
        "colab": {
          "base_uri": "https://localhost:8080/"
        },
        "id": "o5IlwtE7W71c",
        "outputId": "8e8c2857-53aa-41d7-b82d-dff32474ec74"
      },
      "source": [
        "gpd_australia = data.loc['Australia']\n",
        "gpd_nz = data.loc['New Zealand']\n",
        "\n",
        "plt.plot(years,gpd_australia, 'g--', label=\"Australia\")\n",
        "plt.plot(years,gpd_nz, 'o-', label=\"New Zealand\")\n",
        "\n",
        "plt.xlabel('Year')\n",
        "plt.ylabel('GDP/Capita')\n",
        "plt.legend(loc='lower right')"
      ],
      "execution_count": null,
      "outputs": [
        {
          "output_type": "execute_result",
          "data": {
            "text/plain": [
              "<matplotlib.legend.Legend at 0x7f5524a00510>"
            ]
          },
          "metadata": {},
          "execution_count": 68
        },
        {
          "output_type": "display_data",
          "data": {
            "image/png": "[encoded data removed]",
            "text/plain": [
              "<Figure size 432x288 with 1 Axes>"
            ]
          },
          "metadata": {}
        }
      ]
    },
    {
      "cell_type": "code",
      "metadata": {
        "colab": {
          "base_uri": "https://localhost:8080/"
        },
        "id": "s5XS1g3ZYBKi",
        "outputId": "0e01f421-99ee-4300-875c-907836a7a2f2"
      },
      "source": [
        "plt.scatter(gpd_australia,gpd_nz)"
      ],
      "execution_count": null,
      "outputs": [
        {
          "output_type": "execute_result",
          "data": {
            "text/plain": [
              "<matplotlib.collections.PathCollection at 0x7f55249eb190>"
            ]
          },
          "metadata": {},
          "execution_count": 69
        },
        {
          "output_type": "display_data",
          "data": {
            "image/png": "[encoded data removed]",
            "text/plain": [
              "<Figure size 432x288 with 1 Axes>"
            ]
          },
          "metadata": {}
        }
      ]
    },
    {
      "cell_type": "markdown",
      "metadata": {
        "id": "LqT15_08efAO"
      },
      "source": [
        "#### Fancier Plotting and Stats"
      ]
    },
    {
      "cell_type": "code",
      "metadata": {
        "colab": {
          "base_uri": "https://localhost:8080/"
        },
        "id": "TLiDqSvkejju",
        "outputId": "c1c48e7b-daf9-4564-e05c-cd07f7e8b822"
      },
      "source": [
        "%matplotlib inline\n",
        "import matplotlib.pyplot as plt\n",
        "\n",
        "import numpy as np\n",
        "randx = np.random.randint(0,1000,size=100)\n",
        "print(randx)"
      ],
      "execution_count": null,
      "outputs": [
        {
          "output_type": "stream",
          "name": "stdout",
          "text": [
            "[ 60 367 859  40 113 103 722 921 949 810 246 185 220 579 906 288 943 640\n",
            " 149 541  71 972 160 536 698 173 618 170 125 206 433 526 243 667 837 599\n",
            " 465  86 817 323 836  32 638 770 923 652 776 116 734 211 267  89 656 310\n",
            " 542 403 222 345 680  46 765 578 539 252 357  92 385 822 415 637 412 804\n",
            "  52 772 569 440 817 842 127 296 790 131 861 958 475 420 596 786 629 716\n",
            " 512 800 186 517 921 647 221 883  58 154]\n"
          ]
        }
      ]
    },
    {
      "cell_type": "code",
      "metadata": {
        "id": "a6i1hABokF1V"
      },
      "source": [
        "randy=np.random.randint(0,1000,size=100)"
      ],
      "execution_count": null,
      "outputs": []
    },
    {
      "cell_type": "code",
      "metadata": {
        "colab": {
          "base_uri": "https://localhost:8080/"
        },
        "id": "izXAi85jkOq8",
        "outputId": "6f98b022-2be1-4a95-adea-148124b4dadf"
      },
      "source": [
        "plt.style.use(\"Solarize_Light2\")\n",
        "plt.scatter(randx,randy)"
      ],
      "execution_count": null,
      "outputs": [
        {
          "output_type": "execute_result",
          "data": {
            "text/plain": [
              "<matplotlib.collections.PathCollection at 0x7f5524dd90d0>"
            ]
          },
          "metadata": {},
          "execution_count": 72
        },
        {
          "output_type": "display_data",
          "data": {
            "image/png": "[encoded data removed]",
            "text/plain": [
              "<Figure size 432x288 with 1 Axes>"
            ]
          },
          "metadata": {}
        }
      ]
    },
    {
      "cell_type": "code",
      "metadata": {
        "colab": {
          "base_uri": "https://localhost:8080/"
        },
        "id": "p2b0WnRPkh7B",
        "outputId": "01fe25cd-1d07-4c12-83dd-28c22bdc9e64"
      },
      "source": [
        "np.corrcoef(randx,randy)"
      ],
      "execution_count": null,
      "outputs": [
        {
          "output_type": "execute_result",
          "data": {
            "text/plain": [
              "array([[1.        , 0.09455899],\n",
              "       [0.09455899, 1.        ]])"
            ]
          },
          "metadata": {},
          "execution_count": 73
        }
      ]
    },
    {
      "cell_type": "code",
      "metadata": {
        "colab": {
          "base_uri": "https://localhost:8080/"
        },
        "id": "3TLmnR_TmOiq",
        "outputId": "a4cfba1a-1d20-4f83-9413-479dc032f8d6"
      },
      "source": [
        "import seaborn as sns\n",
        "rand_df=pd.DataFrame()\n",
        "rand_df['x']=randx\n",
        "rand_df['y']=randy\n",
        "\n",
        "print(rand_df)"
      ],
      "execution_count": null,
      "outputs": [
        {
          "output_type": "stream",
          "name": "stdout",
          "text": [
            "      x    y\n",
            "0    60  259\n",
            "1   367  125\n",
            "2   859  163\n",
            "3    40   83\n",
            "4   113  272\n",
            "..  ...  ...\n",
            "95  647   38\n",
            "96  221  606\n",
            "97  883  466\n",
            "98   58  265\n",
            "99  154  200\n",
            "\n",
            "[100 rows x 2 columns]\n"
          ]
        }
      ]
    },
    {
      "cell_type": "code",
      "metadata": {
        "colab": {
          "base_uri": "https://localhost:8080/"
        },
        "id": "ZKq4La5enQ1t",
        "outputId": "1421dd71-c9b3-4b60-f352-019d99f75787"
      },
      "source": [
        "plt.scatter('x','y', data=rand_df)"
      ],
      "execution_count": null,
      "outputs": [
        {
          "output_type": "execute_result",
          "data": {
            "text/plain": [
              "<matplotlib.collections.PathCollection at 0x7f5516e4a710>"
            ]
          },
          "metadata": {},
          "execution_count": 75
        },
        {
          "output_type": "display_data",
          "data": {
            "image/png": "[encoded data removed]",
            "text/plain": [
              "<Figure size 432x288 with 1 Axes>"
            ]
          },
          "metadata": {}
        }
      ]
    },
    {
      "cell_type": "code",
      "metadata": {
        "colab": {
          "base_uri": "https://localhost:8080/"
        },
        "id": "F3KqiSI9ncaW",
        "outputId": "d7f40444-1f6f-40be-8457-d0f65b7d073c"
      },
      "source": [
        "sns.regplot('x','y', data=rand_df)"
      ],
      "execution_count": null,
      "outputs": [
        {
          "output_type": "stream",
          "name": "stderr",
          "text": [
            "/usr/local/lib/python3.7/dist-packages/seaborn/_decorators.py:43: FutureWarning: Pass the following variables as keyword args: x, y. From version 0.12, the only valid positional argument will be `data`, and passing other arguments without an explicit keyword will result in an error or misinterpretation.\n",
            "  FutureWarning\n"
          ]
        },
        {
          "output_type": "execute_result",
          "data": {
            "text/plain": [
              "<matplotlib.axes._subplots.AxesSubplot at 0x7f551662ced0>"
            ]
          },
          "metadata": {},
          "execution_count": 76
        },
        {
          "output_type": "display_data",
          "data": {
            "image/png": "[encoded data removed]",
            "text/plain": [
              "<Figure size 432x288 with 1 Axes>"
            ]
          },
          "metadata": {}
        }
      ]
    },
    {
      "cell_type": "code",
      "metadata": {
        "colab": {
          "base_uri": "https://localhost:8080/"
        },
        "id": "11yQCmQPnzc9",
        "outputId": "ec4afb04-bff2-48be-feba-dc613ab607ce"
      },
      "source": [
        "sns.lmplot('x','y',data=rand_df)"
      ],
      "execution_count": null,
      "outputs": [
        {
          "output_type": "stream",
          "name": "stderr",
          "text": [
            "/usr/local/lib/python3.7/dist-packages/seaborn/_decorators.py:43: FutureWarning: Pass the following variables as keyword args: x, y. From version 0.12, the only valid positional argument will be `data`, and passing other arguments without an explicit keyword will result in an error or misinterpretation.\n",
            "  FutureWarning\n"
          ]
        },
        {
          "output_type": "execute_result",
          "data": {
            "text/plain": [
              "<seaborn.axisgrid.FacetGrid at 0x7f55166b0110>"
            ]
          },
          "metadata": {},
          "execution_count": 77
        },
        {
          "output_type": "display_data",
          "data": {
            "image/png": "[encoded data removed]",
            "text/plain": [
              "<Figure size 360x360 with 1 Axes>"
            ]
          },
          "metadata": {}
        }
      ]
    },
    {
      "cell_type": "code",
      "metadata": {
        "colab": {
          "base_uri": "https://localhost:8080/"
        },
        "id": "YXAAeDoRoOW9",
        "outputId": "3b059f7c-d2c0-4022-f818-3d0f2f3b9690"
      },
      "source": [
        "sns.kdeplot(rand_df.y,rand_df.x)"
      ],
      "execution_count": null,
      "outputs": [
        {
          "output_type": "stream",
          "name": "stderr",
          "text": [
            "/usr/local/lib/python3.7/dist-packages/seaborn/_decorators.py:43: FutureWarning: Pass the following variable as a keyword arg: y. From version 0.12, the only valid positional argument will be `data`, and passing other arguments without an explicit keyword will result in an error or misinterpretation.\n",
            "  FutureWarning\n"
          ]
        },
        {
          "output_type": "execute_result",
          "data": {
            "text/plain": [
              "<matplotlib.axes._subplots.AxesSubplot at 0x7f550e537610>"
            ]
          },
          "metadata": {},
          "execution_count": 78
        },
        {
          "output_type": "display_data",
          "data": {
            "image/png": "[encoded data removed]",
            "text/plain": [
              "<Figure size 432x288 with 1 Axes>"
            ]
          },
          "metadata": {}
        }
      ]
    },
    {
      "cell_type": "code",
      "metadata": {
        "colab": {
          "base_uri": "https://localhost:8080/"
        },
        "id": "-2uhXoENohMg",
        "outputId": "2fdbfd71-24f2-46e3-f482-384e282a51be"
      },
      "source": [
        "sns.barplot('x', data=rand_df)"
      ],
      "execution_count": null,
      "outputs": [
        {
          "output_type": "stream",
          "name": "stderr",
          "text": [
            "/usr/local/lib/python3.7/dist-packages/seaborn/_decorators.py:43: FutureWarning: Pass the following variable as a keyword arg: x. From version 0.12, the only valid positional argument will be `data`, and passing other arguments without an explicit keyword will result in an error or misinterpretation.\n",
            "  FutureWarning\n"
          ]
        },
        {
          "output_type": "execute_result",
          "data": {
            "text/plain": [
              "<matplotlib.axes._subplots.AxesSubplot at 0x7f550e2589d0>"
            ]
          },
          "metadata": {},
          "execution_count": 79
        },
        {
          "output_type": "display_data",
          "data": {
            "image/png": "[encoded data removed]",
            "text/plain": [
              "<Figure size 432x288 with 1 Axes>"
            ]
          },
          "metadata": {}
        }
      ]
    },
    {
      "cell_type": "code",
      "metadata": {
        "colab": {
          "base_uri": "https://localhost:8080/"
        },
        "id": "Ej0_-Bttotg5",
        "outputId": "47cdbbf5-4c29-4a98-c6ff-f6ab7b858981"
      },
      "source": [
        "sns.barplot(rand_df.y)"
      ],
      "execution_count": null,
      "outputs": [
        {
          "output_type": "stream",
          "name": "stderr",
          "text": [
            "/usr/local/lib/python3.7/dist-packages/seaborn/_decorators.py:43: FutureWarning: Pass the following variable as a keyword arg: x. From version 0.12, the only valid positional argument will be `data`, and passing other arguments without an explicit keyword will result in an error or misinterpretation.\n",
            "  FutureWarning\n"
          ]
        },
        {
          "output_type": "execute_result",
          "data": {
            "text/plain": [
              "<matplotlib.axes._subplots.AxesSubplot at 0x7f552537f810>"
            ]
          },
          "metadata": {},
          "execution_count": 80
        },
        {
          "output_type": "display_data",
          "data": {
            "image/png": "[encoded data removed]",
            "text/plain": [
              "<Figure size 432x288 with 1 Axes>"
            ]
          },
          "metadata": {}
        }
      ]
    },
    {
      "cell_type": "code",
      "metadata": {
        "colab": {
          "base_uri": "https://localhost:8080/"
        },
        "id": "hlXOTVgio5Er",
        "outputId": "0d6b4258-be1e-4e2b-f551-4665c5323d94"
      },
      "source": [
        "rand_df.describe()"
      ],
      "execution_count": null,
      "outputs": [
        {
          "output_type": "execute_result",
          "data": {
            "text/html": [
              "<div>\n",
              "<style scoped>\n",
              "    .dataframe tbody tr th:only-of-type {\n",
              "        vertical-align: middle;\n",
              "    }\n",
              "\n",
              "    .dataframe tbody tr th {\n",
              "        vertical-align: top;\n",
              "    }\n",
              "\n",
              "    .dataframe thead th {\n",
              "        text-align: right;\n",
              "    }\n",
              "</style>\n",
              "<table border=\"1\" class=\"dataframe\">\n",
              "  <thead>\n",
              "    <tr style=\"text-align: right;\">\n",
              "      <th></th>\n",
              "      <th>x</th>\n",
              "      <th>y</th>\n",
              "    </tr>\n",
              "  </thead>\n",
              "  <tbody>\n",
              "    <tr>\n",
              "      <th>count</th>\n",
              "      <td>100.000000</td>\n",
              "      <td>100.000000</td>\n",
              "    </tr>\n",
              "    <tr>\n",
              "      <th>mean</th>\n",
              "      <td>488.480000</td>\n",
              "      <td>489.990000</td>\n",
              "    </tr>\n",
              "    <tr>\n",
              "      <th>std</th>\n",
              "      <td>288.462013</td>\n",
              "      <td>277.462219</td>\n",
              "    </tr>\n",
              "    <tr>\n",
              "      <th>min</th>\n",
              "      <td>32.000000</td>\n",
              "      <td>5.000000</td>\n",
              "    </tr>\n",
              "    <tr>\n",
              "      <th>25%</th>\n",
              "      <td>217.750000</td>\n",
              "      <td>268.250000</td>\n",
              "    </tr>\n",
              "    <tr>\n",
              "      <th>50%</th>\n",
              "      <td>521.500000</td>\n",
              "      <td>483.500000</td>\n",
              "    </tr>\n",
              "    <tr>\n",
              "      <th>75%</th>\n",
              "      <td>766.250000</td>\n",
              "      <td>735.000000</td>\n",
              "    </tr>\n",
              "    <tr>\n",
              "      <th>max</th>\n",
              "      <td>972.000000</td>\n",
              "      <td>997.000000</td>\n",
              "    </tr>\n",
              "  </tbody>\n",
              "</table>\n",
              "</div>"
            ],
            "text/plain": [
              "                x           y\n",
              "count  100.000000  100.000000\n",
              "mean   488.480000  489.990000\n",
              "std    288.462013  277.462219\n",
              "min     32.000000    5.000000\n",
              "25%    217.750000  268.250000\n",
              "50%    521.500000  483.500000\n",
              "75%    766.250000  735.000000\n",
              "max    972.000000  997.000000"
            ]
          },
          "metadata": {},
          "execution_count": 81
        }
      ]
    },
    {
      "cell_type": "code",
      "metadata": {
        "colab": {
          "base_uri": "https://localhost:8080/"
        },
        "id": "NKlTf3qHpCwu",
        "outputId": "9e18ee5c-5d18-4ba2-b58c-7c11d5c66ead"
      },
      "source": [
        "sns.violinplot(rand_df.x)"
      ],
      "execution_count": null,
      "outputs": [
        {
          "output_type": "stream",
          "name": "stderr",
          "text": [
            "/usr/local/lib/python3.7/dist-packages/seaborn/_decorators.py:43: FutureWarning: Pass the following variable as a keyword arg: x. From version 0.12, the only valid positional argument will be `data`, and passing other arguments without an explicit keyword will result in an error or misinterpretation.\n",
            "  FutureWarning\n"
          ]
        },
        {
          "output_type": "execute_result",
          "data": {
            "text/plain": [
              "<matplotlib.axes._subplots.AxesSubplot at 0x7f550af69350>"
            ]
          },
          "metadata": {},
          "execution_count": 82
        },
        {
          "output_type": "display_data",
          "data": {
            "image/png": "[encoded data removed]",
            "text/plain": [
              "<Figure size 432x288 with 1 Axes>"
            ]
          },
          "metadata": {}
        }
      ]
    },
    {
      "cell_type": "code",
      "metadata": {
        "colab": {
          "base_uri": "https://localhost:8080/"
        },
        "id": "ikjHipC-pUFP",
        "outputId": "c0e50bb6-3531-4098-ba77-040d205991d1"
      },
      "source": [
        "sns.violinplot('y', data=rand_df)"
      ],
      "execution_count": null,
      "outputs": [
        {
          "output_type": "stream",
          "name": "stderr",
          "text": [
            "/usr/local/lib/python3.7/dist-packages/seaborn/_decorators.py:43: FutureWarning: Pass the following variable as a keyword arg: x. From version 0.12, the only valid positional argument will be `data`, and passing other arguments without an explicit keyword will result in an error or misinterpretation.\n",
            "  FutureWarning\n"
          ]
        },
        {
          "output_type": "execute_result",
          "data": {
            "text/plain": [
              "<matplotlib.axes._subplots.AxesSubplot at 0x7f550af34790>"
            ]
          },
          "metadata": {},
          "execution_count": 83
        },
        {
          "output_type": "display_data",
          "data": {
            "image/png": "[encoded data removed]",
            "text/plain": [
              "<Figure size 432x288 with 1 Axes>"
            ]
          },
          "metadata": {}
        }
      ]
    },
    {
      "cell_type": "code",
      "metadata": {
        "colab": {
          "base_uri": "https://localhost:8080/"
        },
        "id": "hafhRCFbpefz",
        "outputId": "70340daa-db86-4f37-eab7-21af6bc9b931"
      },
      "source": [
        "!pip install py3Dmol"
      ],
      "execution_count": null,
      "outputs": [
        {
          "output_type": "stream",
          "name": "stdout",
          "text": [
            "Collecting py3Dmol\n",
            "  Downloading py3Dmol-1.7.0-py2.py3-none-any.whl (6.3 kB)\n",
            "Installing collected packages: py3Dmol\n",
            "Successfully installed py3Dmol-1.7.0\n"
          ]
        }
      ]
    },
    {
      "cell_type": "code",
      "metadata": {
        "colab": {
          "base_uri": "https://localhost:8080/"
        },
        "id": "QcsKNvgCp2-O",
        "outputId": "e5de2a01-5bf0-4622-fcf8-308eace1d636"
      },
      "source": [
        "import py3Dmol\n",
        "view = py3Dmol.view(query='pdb:6s8u')\n",
        "view.setStyle({'cartoon':{'color':'spectrum'}})\n",
        "view"
      ],
      "execution_count": null,
      "outputs": [
        {
          "output_type": "display_data",
          "data": {
            "application/3dmoljs_load.v0": "<div id=\"3dmolviewer_16336403213533533\"  style=\"position: relative; width: 640px; height: 480px\">\n        <p id=\"3dmolwarning_16336403213533533\" style=\"background-color:#ffcccc;color:black\">You appear to be running in JupyterLab (or JavaScript failed to load for some other reason).  You need to install the 3dmol extension: <br>\n        <tt>jupyter labextension install jupyterlab_3dmol</tt></p>\n        </div>\n<script>\n\nvar loadScriptAsync = function(uri){\n  return new Promise((resolve, reject) => {\n    var tag = document.createElement('script');\n    tag.src = uri;\n    tag.async = true;\n    tag.onload = () => {\n      resolve();\n    };\n  var firstScriptTag = document.getElementsByTagName('script')[0];\n  firstScriptTag.parentNode.insertBefore(tag, firstScriptTag);\n});\n};\n\nif(typeof $3Dmolpromise === 'undefined') {\n$3Dmolpromise = null;\n  $3Dmolpromise = loadScriptAsync('https://3dmol.org/build/3Dmol.js');\n}\n\nvar viewer_16336403213533533 = null;\nvar warn = document.getElementById(\"3dmolwarning_16336403213533533\");\nif(warn) {\n    warn.parentNode.removeChild(warn);\n}\n$3Dmolpromise.then(function() {\nviewer_16336403213533533 = $3Dmol.createViewer($(\"#3dmolviewer_16336403213533533\"),{backgroundColor:\"white\"});\n$3Dmol.download(\"pdb:6s8u\", viewer_16336403213533533, {}, function() {\nviewer_16336403213533533.zoomTo();\n\tviewer_16336403213533533.setStyle({\"cartoon\": {\"color\": \"spectrum\"}});\nviewer_16336403213533533.render();\n})\n});\n</script>",
            "text/html": [
              "<div id=\"3dmolviewer_16336403213533533\"  style=\"position: relative; width: 640px; height: 480px\">\n",
              "        <p id=\"3dmolwarning_16336403213533533\" style=\"background-color:#ffcccc;color:black\">You appear to be running in JupyterLab (or JavaScript failed to load for some other reason).  You need to install the 3dmol extension: <br>\n",
              "        <tt>jupyter labextension install jupyterlab_3dmol</tt></p>\n",
              "        </div>\n",
              "<script>\n",
              "\n",
              "var loadScriptAsync = function(uri){\n",
              "  return new Promise((resolve, reject) => {\n",
              "    var tag = document.createElement('script');\n",
              "    tag.src = uri;\n",
              "    tag.async = true;\n",
              "    tag.onload = () => {\n",
              "      resolve();\n",
              "    };\n",
              "  var firstScriptTag = document.getElementsByTagName('script')[0];\n",
              "  firstScriptTag.parentNode.insertBefore(tag, firstScriptTag);\n",
              "});\n",
              "};\n",
              "\n",
              "if(typeof $3Dmolpromise === 'undefined') {\n",
              "$3Dmolpromise = null;\n",
              "  $3Dmolpromise = loadScriptAsync('https://3dmol.org/build/3Dmol.js');\n",
              "}\n",
              "\n",
              "var viewer_16336403213533533 = null;\n",
              "var warn = document.getElementById(\"3dmolwarning_16336403213533533\");\n",
              "if(warn) {\n",
              "    warn.parentNode.removeChild(warn);\n",
              "}\n",
              "$3Dmolpromise.then(function() {\n",
              "viewer_16336403213533533 = $3Dmol.createViewer($(\"#3dmolviewer_16336403213533533\"),{backgroundColor:\"white\"});\n",
              "$3Dmol.download(\"pdb:6s8u\", viewer_16336403213533533, {}, function() {\n",
              "viewer_16336403213533533.zoomTo();\n",
              "\tviewer_16336403213533533.setStyle({\"cartoon\": {\"color\": \"spectrum\"}});\n",
              "viewer_16336403213533533.render();\n",
              "})\n",
              "});\n",
              "</script>"
            ]
          },
          "metadata": {}
        },
        {
          "output_type": "execute_result",
          "data": {
            "text/plain": [
              "<py3Dmol.view at 0x7f550ae46c50>"
            ]
          },
          "metadata": {},
          "execution_count": 85
        }
      ]
    },
    {
      "cell_type": "markdown",
      "metadata": {
        "id": "8f4ZYOXKN8Hv"
      },
      "source": [
        "## Lists and Loops"
      ]
    },
    {
      "cell_type": "code",
      "metadata": {
        "id": "5dBmG3xTN_0V"
      },
      "source": [
        "temps = [0.0, 32.0, 100, 212, 98.6]"
      ],
      "execution_count": null,
      "outputs": []
    },
    {
      "cell_type": "code",
      "metadata": {
        "colab": {
          "base_uri": "https://localhost:8080/"
        },
        "id": "kRqaXH0FOVfZ",
        "outputId": "3dd66922-f6b5-47e7-f304-1fa50f29797a"
      },
      "source": [
        "print('temperatures:', temps)\n",
        "print('length:', len(temps))"
      ],
      "execution_count": null,
      "outputs": [
        {
          "output_type": "stream",
          "name": "stdout",
          "text": [
            "temperatures: [0.0, 32.0, 100, 212, 98.6]\n",
            "length: 5\n"
          ]
        }
      ]
    },
    {
      "cell_type": "code",
      "metadata": {
        "colab": {
          "base_uri": "https://localhost:8080/"
        },
        "id": "ArQNmfq-QGZc",
        "outputId": "d49d5444-b6b4-4815-ae0d-7a1483f7ec49"
      },
      "source": [
        "print('first temperature:', temps[0])\n",
        "print('last temperature:', temps[-1])\n",
        "print('middle temperatures:', temps[1:4])"
      ],
      "execution_count": null,
      "outputs": [
        {
          "output_type": "stream",
          "name": "stdout",
          "text": [
            "first temperature: 0.0\n",
            "last temperature: 98.6\n",
            "middle temperatures: [32.0, 100, 212]\n"
          ]
        }
      ]
    },
    {
      "cell_type": "code",
      "metadata": {
        "colab": {
          "base_uri": "https://localhost:8080/"
        },
        "id": "N7Qt7OyjQ7BR",
        "outputId": "9d19ddab-f91f-4f5b-fd6a-7c7888f478f0"
      },
      "source": [
        "temps[0]=-5\n",
        "print(temps)"
      ],
      "execution_count": null,
      "outputs": [
        {
          "output_type": "stream",
          "name": "stdout",
          "text": [
            "[-5, 32.0, 100, 212, 98.6]\n"
          ]
        }
      ]
    },
    {
      "cell_type": "code",
      "metadata": {
        "colab": {
          "base_uri": "https://localhost:8080/"
        },
        "id": "F-X1Eo8RRC3L",
        "outputId": "19133a4f-fe6f-4e25-abb3-9fbe30095d8b"
      },
      "source": [
        "temps.append(72)\n",
        "print(temps)"
      ],
      "execution_count": null,
      "outputs": [
        {
          "output_type": "stream",
          "name": "stdout",
          "text": [
            "[-5, 32.0, 100, 212, 98.6, 72]\n"
          ]
        }
      ]
    },
    {
      "cell_type": "code",
      "metadata": {
        "colab": {
          "base_uri": "https://localhost:8080/"
        },
        "id": "QwfAe9BTRO21",
        "outputId": "c5bd5f3a-4235-4df3-da0b-63849cd87ab1"
      },
      "source": [
        "temps2 = [-45,75,1000]\n",
        "print(temps2)"
      ],
      "execution_count": null,
      "outputs": [
        {
          "output_type": "stream",
          "name": "stdout",
          "text": [
            "[-45, 75, 1000]\n"
          ]
        }
      ]
    },
    {
      "cell_type": "code",
      "metadata": {
        "colab": {
          "base_uri": "https://localhost:8080/"
        },
        "id": "XY00GgmrRWT3",
        "outputId": "ac57b3e6-8bb5-4dbb-e4af-81a5af58696f"
      },
      "source": [
        "temps.extend(temps2)\n",
        "print(temps)"
      ],
      "execution_count": null,
      "outputs": [
        {
          "output_type": "stream",
          "name": "stdout",
          "text": [
            "[-5, 32.0, 100, 212, 98.6, 72, -45, 75, 1000]\n"
          ]
        }
      ]
    },
    {
      "cell_type": "code",
      "metadata": {
        "colab": {
          "base_uri": "https://localhost:8080/"
        },
        "id": "csQlUj4jRgaa",
        "outputId": "2e39d606-d4f2-4c40-a4e5-f044c7cfda4d"
      },
      "source": [
        "del temps[6:]\n",
        "print(temps)"
      ],
      "execution_count": null,
      "outputs": [
        {
          "output_type": "stream",
          "name": "stdout",
          "text": [
            "[-5, 32.0, 100, 212, 98.6, 72]\n"
          ]
        }
      ]
    },
    {
      "cell_type": "code",
      "metadata": {
        "colab": {
          "base_uri": "https://localhost:8080/"
        },
        "id": "qi0QJVuUR8Xm",
        "outputId": "192a0aa7-da76-44b7-c6e6-25067a77621f"
      },
      "source": [
        "data = ['large',25,'green',62.25]\n",
        "print(data)"
      ],
      "execution_count": null,
      "outputs": [
        {
          "output_type": "stream",
          "name": "stdout",
          "text": [
            "['large', 25, 'green', 62.25]\n"
          ]
        }
      ]
    },
    {
      "cell_type": "code",
      "metadata": {
        "colab": {
          "base_uri": "https://localhost:8080/"
        },
        "id": "3CT0k0pMSIyQ",
        "outputId": "9a784bda-e1d9-4c39-e771-a6b3afe39413"
      },
      "source": [
        "print(data[0])"
      ],
      "execution_count": null,
      "outputs": [
        {
          "output_type": "stream",
          "name": "stdout",
          "text": [
            "large\n"
          ]
        }
      ]
    },
    {
      "cell_type": "code",
      "metadata": {
        "colab": {
          "base_uri": "https://localhost:8080/"
        },
        "id": "9rPZKw_ISQdT",
        "outputId": "0c20d186-8389-4b76-a31c-a97a47cd0bc2"
      },
      "source": [
        "print(data[0][0:3])"
      ],
      "execution_count": null,
      "outputs": [
        {
          "output_type": "stream",
          "name": "stdout",
          "text": [
            "lar\n"
          ]
        }
      ]
    },
    {
      "cell_type": "code",
      "metadata": {
        "colab": {
          "base_uri": "https://localhost:8080/"
        },
        "id": "BS1K9PL3Sotn",
        "outputId": "1b08bb7b-76a7-4030-e950-853a25758552"
      },
      "source": [
        "print(sorted(temps))"
      ],
      "execution_count": null,
      "outputs": [
        {
          "output_type": "stream",
          "name": "stdout",
          "text": [
            "[-5, 32.0, 72, 98.6, 100, 212]\n"
          ]
        }
      ]
    },
    {
      "cell_type": "code",
      "metadata": {
        "id": "TzHYRUf6TLo5"
      },
      "source": [
        "temps.sort()"
      ],
      "execution_count": null,
      "outputs": []
    },
    {
      "cell_type": "code",
      "metadata": {
        "colab": {
          "base_uri": "https://localhost:8080/"
        },
        "id": "V6n6sTdgS-rk",
        "outputId": "26d59f7c-6fb9-4eb0-a527-96d314350fd9"
      },
      "source": [
        "print(temps[0])\n",
        "print(temps[1])\n",
        "print(temps[2])\n",
        "print(temps[3])\n",
        "print(temps[4])\n",
        "print(temps[5])"
      ],
      "execution_count": null,
      "outputs": [
        {
          "output_type": "stream",
          "name": "stdout",
          "text": [
            "-5\n",
            "32.0\n",
            "72\n",
            "98.6\n",
            "100\n",
            "212\n"
          ]
        }
      ]
    },
    {
      "cell_type": "code",
      "metadata": {
        "colab": {
          "base_uri": "https://localhost:8080/"
        },
        "id": "iPl1w7MjTgUG",
        "outputId": "a221059f-25cf-425c-a697-f808882c7bed"
      },
      "source": [
        "for temp in temps:\n",
        "  print(temp)"
      ],
      "execution_count": null,
      "outputs": [
        {
          "output_type": "stream",
          "name": "stdout",
          "text": [
            "-5\n",
            "32.0\n",
            "72\n",
            "98.6\n",
            "100\n",
            "212\n"
          ]
        }
      ]
    },
    {
      "cell_type": "code",
      "metadata": {
        "colab": {
          "base_uri": "https://localhost:8080/"
        },
        "id": "OjeQwshOUZJA",
        "outputId": "c7b9951a-acba-410e-ef6b-42792fdbb1a8"
      },
      "source": [
        "for x in [1,2,3,4,5]:\n",
        "  y=x*10\n",
        "  print(y)"
      ],
      "execution_count": null,
      "outputs": [
        {
          "output_type": "stream",
          "name": "stdout",
          "text": [
            "10\n",
            "20\n",
            "30\n",
            "40\n",
            "50\n"
          ]
        }
      ]
    },
    {
      "cell_type": "code",
      "metadata": {
        "colab": {
          "base_uri": "https://localhost:8080/"
        },
        "id": "GgXqOj0bVE9a",
        "outputId": "fb837696-b8a7-40d7-add8-8f1dabd33047"
      },
      "source": [
        "import math as m\n",
        "for x in [1,2,3,4,5]:\n",
        "  sq=x ** 2\n",
        "  cb=x ** 3\n",
        "  log=m.log(x)\n",
        "\n",
        "  print(x,sq,cb,log)"
      ],
      "execution_count": null,
      "outputs": [
        {
          "output_type": "stream",
          "name": "stdout",
          "text": [
            "1 1 1 0.0\n",
            "2 4 8 0.6931471805599453\n",
            "3 9 27 1.0986122886681098\n",
            "4 16 64 1.3862943611198906\n",
            "5 25 125 1.6094379124341003\n"
          ]
        }
      ]
    },
    {
      "cell_type": "code",
      "metadata": {
        "colab": {
          "base_uri": "https://localhost:8080/"
        },
        "id": "MAPcQs35Vkbl",
        "outputId": "a04e2968-fd9c-4852-9746-233a3d51b461"
      },
      "source": [
        "ls = []\n",
        "for x in range(10,1000):\n",
        "  #print(x,x*x)\n",
        "  ls.append(x*x)\n",
        "print(ls[42])"
      ],
      "execution_count": null,
      "outputs": [
        {
          "output_type": "stream",
          "name": "stdout",
          "text": [
            "2704\n"
          ]
        }
      ]
    },
    {
      "cell_type": "markdown",
      "metadata": {
        "id": "GJmXpHPSW5hJ"
      },
      "source": [
        "### Conditionals"
      ]
    },
    {
      "cell_type": "code",
      "metadata": {
        "colab": {
          "base_uri": "https://localhost:8080/"
        },
        "id": "WyD6fOP3W4tG",
        "outputId": "5d4efb5e-a58b-494d-8758-e69dc44c9b73"
      },
      "source": [
        "temp=200\n",
        "if temp <200:\n",
        "  print('TOO COLD')\n",
        "elif temp >200:\n",
        "  print('TOO HOT')\n",
        "else:\n",
        "  print('JUST RIGHT')"
      ],
      "execution_count": null,
      "outputs": [
        {
          "output_type": "stream",
          "name": "stdout",
          "text": [
            "JUST RIGHT\n"
          ]
        }
      ]
    },
    {
      "cell_type": "code",
      "metadata": {
        "colab": {
          "base_uri": "https://localhost:8080/"
        },
        "id": "eKNjm779XfFX",
        "outputId": "8faea986-510e-4426-83c4-8bd4122cd639"
      },
      "source": [
        "for temp in temps:\n",
        "  if temp < 98.6:\n",
        "    print('TOO COLD')\n",
        "  elif temp > 98.6:\n",
        "    print('TOO HOT')\n",
        "  else:\n",
        "    print('JUST RIGHT')"
      ],
      "execution_count": null,
      "outputs": [
        {
          "output_type": "stream",
          "name": "stdout",
          "text": [
            "TOO COLD\n",
            "TOO COLD\n",
            "TOO COLD\n",
            "JUST RIGHT\n",
            "TOO HOT\n",
            "TOO HOT\n"
          ]
        }
      ]
    },
    {
      "cell_type": "code",
      "metadata": {
        "colab": {
          "base_uri": "https://localhost:8080/"
        },
        "id": "GEbssiqTXxxV",
        "outputId": "b93ea9c1-b52e-4a96-a9f1-743a89244dae"
      },
      "source": [
        "dummy = 1\n",
        "while dummy <= 10:\n",
        "  print(dummy)\n",
        "  dummy+=1"
      ],
      "execution_count": null,
      "outputs": [
        {
          "output_type": "stream",
          "name": "stdout",
          "text": [
            "1\n",
            "2\n",
            "3\n",
            "4\n",
            "5\n",
            "6\n",
            "7\n",
            "8\n",
            "9\n",
            "10\n"
          ]
        }
      ]
    },
    {
      "cell_type": "markdown",
      "metadata": {
        "id": "J84FqFPSYdP3"
      },
      "source": [
        "### Looping Over Datasets"
      ]
    },
    {
      "cell_type": "code",
      "metadata": {
        "colab": {
          "base_uri": "https://localhost:8080/"
        },
        "id": "tFVq6kA3YgZr",
        "outputId": "e3797ff4-ea91-4978-a817-91c1fffc18de"
      },
      "source": [
        "import pandas as pd\n",
        "for FileName in ['gapminder_gdp_americas.csv', 'gapminder_gdp_asia.csv']:\n",
        "  data = pd.read_csv(FileName, index_col='country')\n",
        "  print(FileName,data.min())"
      ],
      "execution_count": null,
      "outputs": [
        {
          "output_type": "stream",
          "name": "stdout",
          "text": [
            "gapminder_gdp_americas.csv continent         Americas\n",
            "gdpPercap_1952     1397.72\n",
            "gdpPercap_1957      1544.4\n",
            "gdpPercap_1962     1662.14\n",
            "gdpPercap_1967     1452.06\n",
            "gdpPercap_1972     1654.46\n",
            "gdpPercap_1977      1874.3\n",
            "gdpPercap_1982     2011.16\n",
            "gdpPercap_1987     1823.02\n",
            "gdpPercap_1992     1456.31\n",
            "gdpPercap_1997     1341.73\n",
            "gdpPercap_2002     1270.36\n",
            "gdpPercap_2007     1201.64\n",
            "dtype: object\n",
            "gapminder_gdp_asia.csv gdpPercap_1952    331.0\n",
            "gdpPercap_1957    350.0\n",
            "gdpPercap_1962    388.0\n",
            "gdpPercap_1967    349.0\n",
            "gdpPercap_1972    357.0\n",
            "gdpPercap_1977    371.0\n",
            "gdpPercap_1982    424.0\n",
            "gdpPercap_1987    385.0\n",
            "gdpPercap_1992    347.0\n",
            "gdpPercap_1997    415.0\n",
            "gdpPercap_2002    611.0\n",
            "gdpPercap_2007    944.0\n",
            "dtype: float64\n"
          ]
        }
      ]
    },
    {
      "cell_type": "code",
      "metadata": {
        "colab": {
          "base_uri": "https://localhost:8080/"
        },
        "id": "u2mYd18NZJxC",
        "outputId": "0d5557d4-2447-4a45-a49f-263dc6b56d6c"
      },
      "source": [
        "import glob\n",
        "print('all csv files:',glob.glob('gapminder_*.csv'))"
      ],
      "execution_count": null,
      "outputs": [
        {
          "output_type": "stream",
          "name": "stdout",
          "text": [
            "all csv files: ['gapminder_gdp_africa.csv', 'gapminder_gdp_oceania.csv', 'gapminder_gdp_americas.csv', 'gapminder_gdp_europe.csv', 'gapminder_gdp_asia.csv', 'gapminder_all.csv']\n"
          ]
        }
      ]
    },
    {
      "cell_type": "code",
      "metadata": {
        "colab": {
          "base_uri": "https://localhost:8080/"
        },
        "id": "jnwWorq-bCtH",
        "outputId": "41dfe1c9-dbc2-41b9-d26a-43641ce635ad"
      },
      "source": [
        "for FileName in glob.glob('gapminder_gdp*.csv'):\n",
        "  data = pd.read_csv(FileName)\n",
        "  print(FileName,'GDP_1977_MINIMUM:', data['gdpPercap_1977'].min())"
      ],
      "execution_count": null,
      "outputs": [
        {
          "output_type": "stream",
          "name": "stdout",
          "text": [
            "gapminder_gdp_africa.csv GDP_1977_MINIMUM: 502.31973339999996\n",
            "gapminder_gdp_oceania.csv GDP_1977_MINIMUM: 16233.7177\n",
            "gapminder_gdp_americas.csv GDP_1977_MINIMUM: 1874.2989309999998\n",
            "gapminder_gdp_europe.csv GDP_1977_MINIMUM: 3528.481305\n",
            "gapminder_gdp_asia.csv GDP_1977_MINIMUM: 371.0\n"
          ]
        }
      ]
    },
    {
      "cell_type": "markdown",
      "metadata": {
        "id": "iaUNjpbAgmIZ"
      },
      "source": [
        "### Functions"
      ]
    },
    {
      "cell_type": "code",
      "metadata": {
        "colab": {
          "base_uri": "https://localhost:8080/"
        },
        "id": "qNIcYWPLgpp5",
        "outputId": "a3326881-f79a-4548-d63d-9615cf48a632"
      },
      "source": [
        "InitCtemp=0\n",
        "Ftemp=(9/5)*float(InitCtemp)+32\n",
        "print(Ftemp)"
      ],
      "execution_count": null,
      "outputs": [
        {
          "output_type": "stream",
          "name": "stdout",
          "text": [
            "32.0\n"
          ]
        }
      ]
    },
    {
      "cell_type": "code",
      "metadata": {
        "colab": {
          "base_uri": "https://localhost:8080/"
        },
        "id": "tTWGX0kWhMlq",
        "outputId": "f2449721-c29f-4052-ce4f-a13abaddea4b"
      },
      "source": [
        "def temp_cov(temp, scale):\n",
        "  if scale.upper()=='C' or scale.upper()=='CELCIUS':\n",
        "    print(str(temp)+\" C = \"+str((9/5)*float(temp)+32)+\" F\")\n",
        "    z=(9/5)*float(temp)+32\n",
        "  elif scale.upper()=='F' or scale.upper()=='FAHRENHEIT':\n",
        "    print(str(temp)+ ' F = '+str((5/9)*(float(temp)-32))+' C')\n",
        "    z=(5/9)*(float(temp)-32)\n",
        "  else:\n",
        "    print('You made a mistake!!!')\n",
        "\n",
        "temp_cov(32,\"f\")"
      ],
      "execution_count": null,
      "outputs": [
        {
          "output_type": "stream",
          "name": "stdout",
          "text": [
            "32 F = 0.0 C\n"
          ]
        }
      ]
    },
    {
      "cell_type": "code",
      "metadata": {
        "colab": {
          "base_uri": "https://localhost:8080/"
        },
        "id": "RFZtcNT_jD7E",
        "outputId": "db80dff3-8d82-45ab-b717-7ebb4512cf2b"
      },
      "source": [
        "temp_cov(98.6,'f')"
      ],
      "execution_count": null,
      "outputs": [
        {
          "output_type": "stream",
          "name": "stdout",
          "text": [
            "98.6 F = 37.0 C\n"
          ]
        }
      ]
    },
    {
      "cell_type": "code",
      "metadata": {
        "colab": {
          "base_uri": "https://localhost:8080/"
        },
        "id": "Ep4W_GEkkmNY",
        "outputId": "0ad39ca1-971a-450c-cf77-8b03acf33348"
      },
      "source": [
        "temps=[-5.0,32.0,72,98.6,212]\n",
        "print(temps)"
      ],
      "execution_count": null,
      "outputs": [
        {
          "output_type": "stream",
          "name": "stdout",
          "text": [
            "[-5.0, 32.0, 72, 98.6, 212]\n"
          ]
        }
      ]
    },
    {
      "cell_type": "code",
      "metadata": {
        "colab": {
          "base_uri": "https://localhost:8080/"
        },
        "id": "NX2yhoEKkxvi",
        "outputId": "cad4a5be-1065-4a23-c1fc-7af651dd6058"
      },
      "source": [
        "new_temps=[]\n",
        "for x in temps:\n",
        "  y=str(temp_cov(x, 'F'))\n",
        "  #print(y)\n",
        "  new_temps.append(y)"
      ],
      "execution_count": null,
      "outputs": [
        {
          "output_type": "stream",
          "name": "stdout",
          "text": [
            "-5.0 F = -20.555555555555557 C\n",
            "32.0 F = 0.0 C\n",
            "72 F = 22.22222222222222 C\n",
            "98.6 F = 37.0 C\n",
            "212 F = 100.0 C\n"
          ]
        }
      ]
    },
    {
      "cell_type": "code",
      "metadata": {
        "colab": {
          "base_uri": "https://localhost:8080/"
        },
        "id": "7_Chb4mLlaZg",
        "outputId": "9cb31aa8-12d1-4670-8524-d68a76c5fa77"
      },
      "source": [
        "print(new_temps)"
      ],
      "execution_count": null,
      "outputs": [
        {
          "output_type": "stream",
          "name": "stdout",
          "text": [
            "['None', 'None', 'None', 'None', 'None']\n"
          ]
        }
      ]
    }
  ]
}