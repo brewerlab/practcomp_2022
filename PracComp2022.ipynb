{
  "nbformat": 4,
  "nbformat_minor": 0,
  "metadata": {
    "colab": {
      "provenance": [],
      "collapsed_sections": [
        "Rybz1Or3BCGU",
        "Ww98uLn1BtNS",
        "R-6eg0g4E3ld"
      ],
      "mount_file_id": "1w39lcGgE5PeEJ33TpCEnl9i-y_6qGH1u",
      "authorship_tag": "ABX9TyMSrhyfq/1UbZroX1ZKiSOm",
      "include_colab_link": true
    },
    "kernelspec": {
      "name": "python3",
      "display_name": "Python 3"
    },
    "language_info": {
      "name": "python"
    }
  },
  "cells": [
    {
      "cell_type": "markdown",
      "metadata": {
        "id": "view-in-github",
        "colab_type": "text"
      },
      "source": [
        "<a href=\"https://colab.research.google.com/github/brewerlab/practcomp_2022/blob/master/PracComp2022.ipynb\" target=\"_parent\"><img src=\"https://colab.research.google.com/assets/colab-badge.svg\" alt=\"Open In Colab\"/></a>"
      ]
    },
    {
      "cell_type": "markdown",
      "source": [
        "# Basics"
      ],
      "metadata": {
        "id": "d29JA3ia7u2O"
      }
    },
    {
      "cell_type": "markdown",
      "source": [
        "## Markdown Carry Over"
      ],
      "metadata": {
        "id": "9EcMlrcB73-t"
      }
    },
    {
      "cell_type": "markdown",
      "source": [
        "* Use asterices\n",
        "* to create\n",
        "* unordered lists.\n",
        "1. Use numbers\n",
        "2. to create\n",
        "3. ordered lists.\n",
        "\n",
        "* Top level\n",
        "  * Indent one\n",
        "  * Indent two\n",
        "    * Subindent one\n",
        "    * Subindent two\n",
        "\n",
        "Line\n",
        "breaks \n",
        "don't \n",
        "matter.\n",
        "\n",
        "But _blank lines_ create new paragraphs.\n",
        "\n",
        "[Brewer Lab](http://brewerlab.net)"
      ],
      "metadata": {
        "id": "UtFn3sDm7-mP"
      }
    },
    {
      "cell_type": "markdown",
      "source": [
        "# Python Basics"
      ],
      "metadata": {
        "id": "izuvNU8J86md"
      }
    },
    {
      "cell_type": "markdown",
      "source": [
        "## Variables"
      ],
      "metadata": {
        "id": "mZk5OGxf8-bf"
      }
    },
    {
      "cell_type": "code",
      "source": [
        "myage = 39\n",
        "given_name = 'Michael'\n",
        "family_name = 'Brewer'"
      ],
      "metadata": {
        "id": "YH8hRqed9BBg"
      },
      "execution_count": null,
      "outputs": []
    },
    {
      "cell_type": "code",
      "source": [
        "print(given_name, 'is', myage, 'years old.')"
      ],
      "metadata": {
        "colab": {
          "base_uri": "https://localhost:8080/"
        },
        "id": "yzYH1qnA9foM",
        "outputId": "9cfac1d9-5a54-45bd-b5fc-d65385fa8a6e"
      },
      "execution_count": null,
      "outputs": [
        {
          "output_type": "stream",
          "name": "stdout",
          "text": [
            "Michael is 39 years old.\n"
          ]
        }
      ]
    },
    {
      "cell_type": "markdown",
      "source": [
        "### Objects: strings vs. integers"
      ],
      "metadata": {
        "id": "MW2h89ccABOW"
      }
    },
    {
      "cell_type": "code",
      "source": [
        "#type(myage)\n",
        "#type(given_name)\n",
        "\n",
        "print(type(myage), type(given_name))"
      ],
      "metadata": {
        "colab": {
          "base_uri": "https://localhost:8080/"
        },
        "id": "9Z1Som2w-dHI",
        "outputId": "215abc72-ebf7-44a1-fa69-4dfc1b0a979c"
      },
      "execution_count": null,
      "outputs": [
        {
          "output_type": "stream",
          "name": "stdout",
          "text": [
            "<class 'int'> <class 'str'>\n"
          ]
        }
      ]
    },
    {
      "cell_type": "code",
      "source": [
        "myage_str = str(myage)\n",
        "\n",
        "type(myage_str)"
      ],
      "metadata": {
        "colab": {
          "base_uri": "https://localhost:8080/"
        },
        "id": "FaSAH420_CjP",
        "outputId": "1db6b71a-e03d-4e5b-967b-a500be46e36f"
      },
      "execution_count": null,
      "outputs": [
        {
          "output_type": "execute_result",
          "data": {
            "text/plain": [
              "str"
            ]
          },
          "metadata": {},
          "execution_count": 4
        }
      ]
    },
    {
      "cell_type": "code",
      "source": [
        "print(myage + 1)"
      ],
      "metadata": {
        "colab": {
          "base_uri": "https://localhost:8080/"
        },
        "id": "aLADRSO9_W6l",
        "outputId": "c437c4a6-9524-4583-f959-9b40e050a9c6"
      },
      "execution_count": null,
      "outputs": [
        {
          "output_type": "stream",
          "name": "stdout",
          "text": [
            "40\n"
          ]
        }
      ]
    },
    {
      "cell_type": "code",
      "source": [
        "print(myage_str + str(1))"
      ],
      "metadata": {
        "colab": {
          "base_uri": "https://localhost:8080/"
        },
        "id": "ycR57-iw_cGg",
        "outputId": "d91d19d5-e4bb-407d-b93d-b65762f57c4d"
      },
      "execution_count": null,
      "outputs": [
        {
          "output_type": "stream",
          "name": "stdout",
          "text": [
            "391\n"
          ]
        }
      ]
    },
    {
      "cell_type": "code",
      "source": [
        "print(myage + myage)"
      ],
      "metadata": {
        "colab": {
          "base_uri": "https://localhost:8080/"
        },
        "id": "couVqeFM_q2T",
        "outputId": "f641a5b7-4295-4610-f54f-20f81e5962bc"
      },
      "execution_count": null,
      "outputs": [
        {
          "output_type": "stream",
          "name": "stdout",
          "text": [
            "78\n"
          ]
        }
      ]
    },
    {
      "cell_type": "code",
      "source": [
        "print(myage_str + myage_str)"
      ],
      "metadata": {
        "colab": {
          "base_uri": "https://localhost:8080/"
        },
        "id": "0D6wh23Z_zRa",
        "outputId": "8d2a187d-0081-4c07-d8a6-660fd47d3aaa"
      },
      "execution_count": null,
      "outputs": [
        {
          "output_type": "stream",
          "name": "stdout",
          "text": [
            "3939\n"
          ]
        }
      ]
    },
    {
      "cell_type": "markdown",
      "source": [
        "### Indexing\n",
        "\n",
        "**_Python starts counting at ZERO_**"
      ],
      "metadata": {
        "id": "Qs8IH9rf_9o7"
      }
    },
    {
      "cell_type": "code",
      "source": [
        "given_name[0]"
      ],
      "metadata": {
        "colab": {
          "base_uri": "https://localhost:8080/",
          "height": 35
        },
        "id": "XM8I74FU_7mg",
        "outputId": "ea9f6ac2-83e2-43b2-d159-eadfd0e68a72"
      },
      "execution_count": null,
      "outputs": [
        {
          "output_type": "execute_result",
          "data": {
            "text/plain": [
              "'M'"
            ],
            "application/vnd.google.colaboratory.intrinsic+json": {
              "type": "string"
            }
          },
          "metadata": {},
          "execution_count": 9
        }
      ]
    },
    {
      "cell_type": "code",
      "source": [
        "given_name[2:4]"
      ],
      "metadata": {
        "colab": {
          "base_uri": "https://localhost:8080/",
          "height": 35
        },
        "id": "ElrmL9XVAasC",
        "outputId": "71f4548a-0b43-43cc-b994-284d0cea4b8d"
      },
      "execution_count": null,
      "outputs": [
        {
          "output_type": "execute_result",
          "data": {
            "text/plain": [
              "'ch'"
            ],
            "application/vnd.google.colaboratory.intrinsic+json": {
              "type": "string"
            }
          },
          "metadata": {},
          "execution_count": 10
        }
      ]
    },
    {
      "cell_type": "code",
      "source": [
        "given_name[0:4]"
      ],
      "metadata": {
        "colab": {
          "base_uri": "https://localhost:8080/",
          "height": 35
        },
        "id": "s1YgBSoCAgXk",
        "outputId": "2d137845-69b4-4ceb-8cd2-c8008b3978bd"
      },
      "execution_count": null,
      "outputs": [
        {
          "output_type": "execute_result",
          "data": {
            "text/plain": [
              "'Mich'"
            ],
            "application/vnd.google.colaboratory.intrinsic+json": {
              "type": "string"
            }
          },
          "metadata": {},
          "execution_count": 11
        }
      ]
    },
    {
      "cell_type": "code",
      "source": [
        "given_name[2:]"
      ],
      "metadata": {
        "colab": {
          "base_uri": "https://localhost:8080/",
          "height": 35
        },
        "id": "0Uo5HuA9Arlj",
        "outputId": "883ebb6b-beae-425e-9284-a0b724fe80f7"
      },
      "execution_count": null,
      "outputs": [
        {
          "output_type": "execute_result",
          "data": {
            "text/plain": [
              "'chael'"
            ],
            "application/vnd.google.colaboratory.intrinsic+json": {
              "type": "string"
            }
          },
          "metadata": {},
          "execution_count": 12
        }
      ]
    },
    {
      "cell_type": "code",
      "source": [
        "len(given_name)"
      ],
      "metadata": {
        "colab": {
          "base_uri": "https://localhost:8080/"
        },
        "id": "Ua7AgBOeA0BL",
        "outputId": "39730fb3-808f-4536-d2f5-f53db633890e"
      },
      "execution_count": null,
      "outputs": [
        {
          "output_type": "execute_result",
          "data": {
            "text/plain": [
              "7"
            ]
          },
          "metadata": {},
          "execution_count": 13
        }
      ]
    },
    {
      "cell_type": "markdown",
      "source": [
        "### Math: integers vs. floats"
      ],
      "metadata": {
        "id": "Rybz1Or3BCGU"
      }
    },
    {
      "cell_type": "code",
      "source": [
        "print(myage)"
      ],
      "metadata": {
        "colab": {
          "base_uri": "https://localhost:8080/"
        },
        "id": "2luN6xcVBBV6",
        "outputId": "ca046179-da6c-47d0-d208-1b6d71e8c1c5"
      },
      "execution_count": null,
      "outputs": [
        {
          "output_type": "stream",
          "name": "stdout",
          "text": [
            "39\n"
          ]
        }
      ]
    },
    {
      "cell_type": "code",
      "source": [
        "myage/4"
      ],
      "metadata": {
        "colab": {
          "base_uri": "https://localhost:8080/"
        },
        "id": "30tRN8qIBKTc",
        "outputId": "87b71094-413f-4f68-bf07-ad860362caaa"
      },
      "execution_count": null,
      "outputs": [
        {
          "output_type": "execute_result",
          "data": {
            "text/plain": [
              "9.75"
            ]
          },
          "metadata": {},
          "execution_count": 15
        }
      ]
    },
    {
      "cell_type": "code",
      "source": [
        "type(myage/4)"
      ],
      "metadata": {
        "colab": {
          "base_uri": "https://localhost:8080/"
        },
        "id": "NThGzz4QBQvU",
        "outputId": "5de55945-2ef2-41de-b334-5460c7e19d31"
      },
      "execution_count": null,
      "outputs": [
        {
          "output_type": "execute_result",
          "data": {
            "text/plain": [
              "float"
            ]
          },
          "metadata": {},
          "execution_count": 16
        }
      ]
    },
    {
      "cell_type": "code",
      "source": [
        "float(myage)"
      ],
      "metadata": {
        "colab": {
          "base_uri": "https://localhost:8080/"
        },
        "id": "dYZdeMB0BVeR",
        "outputId": "36bc092c-8c20-40bc-9ac3-63869906492d"
      },
      "execution_count": null,
      "outputs": [
        {
          "output_type": "execute_result",
          "data": {
            "text/plain": [
              "39.0"
            ]
          },
          "metadata": {},
          "execution_count": 17
        }
      ]
    },
    {
      "cell_type": "code",
      "source": [
        "myage + float(myage)"
      ],
      "metadata": {
        "colab": {
          "base_uri": "https://localhost:8080/"
        },
        "id": "jVHx-aN1Bjde",
        "outputId": "372f4fa0-07a3-4f26-9ce7-fac5d286b43a"
      },
      "execution_count": null,
      "outputs": [
        {
          "output_type": "execute_result",
          "data": {
            "text/plain": [
              "78.0"
            ]
          },
          "metadata": {},
          "execution_count": 18
        }
      ]
    },
    {
      "cell_type": "markdown",
      "source": [
        "### BASICS Wrap-up"
      ],
      "metadata": {
        "id": "Ww98uLn1BtNS"
      }
    },
    {
      "cell_type": "code",
      "source": [
        "full_name_age = given_name+' Scott '+family_name+' II is my full name, and I am '+str(myage)+' years old :('\n",
        "\n",
        "print(full_name_age)"
      ],
      "metadata": {
        "colab": {
          "base_uri": "https://localhost:8080/"
        },
        "id": "S6ZzVlDVBsrO",
        "outputId": "f3c4701c-ced9-4904-ef8b-5647ee21c1f7"
      },
      "execution_count": null,
      "outputs": [
        {
          "output_type": "stream",
          "name": "stdout",
          "text": [
            "Michael Scott Brewer II is my full name, and I am 39 years old :(\n"
          ]
        }
      ]
    },
    {
      "cell_type": "markdown",
      "source": [
        "## MATH in PYTHON"
      ],
      "metadata": {
        "id": "WVE_y5ALDrHB"
      }
    },
    {
      "cell_type": "code",
      "source": [
        "6/2"
      ],
      "metadata": {
        "colab": {
          "base_uri": "https://localhost:8080/"
        },
        "id": "uK93lCufDwPT",
        "outputId": "aad66cda-b75b-4330-8220-039788c0443d"
      },
      "execution_count": null,
      "outputs": [
        {
          "output_type": "execute_result",
          "data": {
            "text/plain": [
              "3.0"
            ]
          },
          "metadata": {},
          "execution_count": 20
        }
      ]
    },
    {
      "cell_type": "code",
      "source": [
        "5/2"
      ],
      "metadata": {
        "colab": {
          "base_uri": "https://localhost:8080/"
        },
        "id": "KIcbrAcwDzQU",
        "outputId": "27e48869-b786-4de1-d694-205ca8a17eeb"
      },
      "execution_count": null,
      "outputs": [
        {
          "output_type": "execute_result",
          "data": {
            "text/plain": [
              "2.5"
            ]
          },
          "metadata": {},
          "execution_count": 21
        }
      ]
    },
    {
      "cell_type": "code",
      "source": [
        "5//2 # What is this??? It rounds floats to integers following division."
      ],
      "metadata": {
        "colab": {
          "base_uri": "https://localhost:8080/"
        },
        "id": "9LepgIcJD1LU",
        "outputId": "7e563490-0932-46ba-dfac-386c1fca74c3"
      },
      "execution_count": null,
      "outputs": [
        {
          "output_type": "execute_result",
          "data": {
            "text/plain": [
              "2"
            ]
          },
          "metadata": {},
          "execution_count": 22
        }
      ]
    },
    {
      "cell_type": "code",
      "source": [
        "print(type(5/2), type(5//2))"
      ],
      "metadata": {
        "colab": {
          "base_uri": "https://localhost:8080/"
        },
        "id": "lSufUI7pEDVt",
        "outputId": "908dcffa-8337-4cc1-b7b1-7af84de60d8a"
      },
      "execution_count": null,
      "outputs": [
        {
          "output_type": "stream",
          "name": "stdout",
          "text": [
            "<class 'float'> <class 'int'>\n"
          ]
        }
      ]
    },
    {
      "cell_type": "code",
      "source": [
        "2*6"
      ],
      "metadata": {
        "colab": {
          "base_uri": "https://localhost:8080/"
        },
        "id": "U2ugsR7OETNm",
        "outputId": "96c583f8-25a2-424d-83fb-4d04e7836834"
      },
      "execution_count": null,
      "outputs": [
        {
          "output_type": "execute_result",
          "data": {
            "text/plain": [
              "12"
            ]
          },
          "metadata": {},
          "execution_count": 24
        }
      ]
    },
    {
      "cell_type": "code",
      "source": [
        "1+1"
      ],
      "metadata": {
        "colab": {
          "base_uri": "https://localhost:8080/"
        },
        "id": "HZi1fz_VExKf",
        "outputId": "a61f376d-4523-422a-93f2-cc9db4a9056a"
      },
      "execution_count": null,
      "outputs": [
        {
          "output_type": "execute_result",
          "data": {
            "text/plain": [
              "2"
            ]
          },
          "metadata": {},
          "execution_count": 25
        }
      ]
    },
    {
      "cell_type": "code",
      "source": [
        "1-1"
      ],
      "metadata": {
        "colab": {
          "base_uri": "https://localhost:8080/"
        },
        "id": "1NksgtFnEyqr",
        "outputId": "db699cf6-2fc2-4d10-cab4-0b4bd7feaf54"
      },
      "execution_count": null,
      "outputs": [
        {
          "output_type": "execute_result",
          "data": {
            "text/plain": [
              "0"
            ]
          },
          "metadata": {},
          "execution_count": 26
        }
      ]
    },
    {
      "cell_type": "markdown",
      "source": [
        "### Built in Summary Tools"
      ],
      "metadata": {
        "id": "R-6eg0g4E3ld"
      }
    },
    {
      "cell_type": "code",
      "source": [
        "nums = (2,4,1,5,3)\n",
        "type(nums)"
      ],
      "metadata": {
        "colab": {
          "base_uri": "https://localhost:8080/"
        },
        "id": "PC0tyEmjE7YI",
        "outputId": "d63f8451-c4ed-4a47-8ecc-a28598329034"
      },
      "execution_count": null,
      "outputs": [
        {
          "output_type": "execute_result",
          "data": {
            "text/plain": [
              "tuple"
            ]
          },
          "metadata": {},
          "execution_count": 27
        }
      ]
    },
    {
      "cell_type": "code",
      "source": [
        "max(nums)"
      ],
      "metadata": {
        "colab": {
          "base_uri": "https://localhost:8080/"
        },
        "id": "WHnzUhHGFFRP",
        "outputId": "d26df02f-a02f-4f1e-d7fa-af07ae90f6dc"
      },
      "execution_count": null,
      "outputs": [
        {
          "output_type": "execute_result",
          "data": {
            "text/plain": [
              "5"
            ]
          },
          "metadata": {},
          "execution_count": 28
        }
      ]
    },
    {
      "cell_type": "code",
      "source": [
        "min(nums)"
      ],
      "metadata": {
        "colab": {
          "base_uri": "https://localhost:8080/"
        },
        "id": "2_2UEZSNFHkv",
        "outputId": "05369205-c764-4e6b-c8c7-0f596d5caf55"
      },
      "execution_count": null,
      "outputs": [
        {
          "output_type": "execute_result",
          "data": {
            "text/plain": [
              "1"
            ]
          },
          "metadata": {},
          "execution_count": 29
        }
      ]
    },
    {
      "cell_type": "code",
      "source": [
        "pi = 3.14159\n",
        "print(pi)"
      ],
      "metadata": {
        "colab": {
          "base_uri": "https://localhost:8080/"
        },
        "id": "kO8r2Z1gFPjK",
        "outputId": "41d15824-9377-475f-8304-55cd98f948c4"
      },
      "execution_count": null,
      "outputs": [
        {
          "output_type": "stream",
          "name": "stdout",
          "text": [
            "3.14159\n"
          ]
        }
      ]
    },
    {
      "cell_type": "code",
      "source": [
        "round(pi, ndigits=2)"
      ],
      "metadata": {
        "colab": {
          "base_uri": "https://localhost:8080/"
        },
        "id": "Koxsz0kmFWJ5",
        "outputId": "aaa6721d-b6ab-44ca-e71c-b42d842256ad"
      },
      "execution_count": null,
      "outputs": [
        {
          "output_type": "execute_result",
          "data": {
            "text/plain": [
              "3.14"
            ]
          },
          "metadata": {},
          "execution_count": 31
        }
      ]
    },
    {
      "cell_type": "code",
      "source": [
        "round(2.55, ndigits=0)"
      ],
      "metadata": {
        "colab": {
          "base_uri": "https://localhost:8080/"
        },
        "id": "EJvv4sc3Fd7T",
        "outputId": "5a66e765-489b-464e-b8f9-b7bc9e8a45b6"
      },
      "execution_count": null,
      "outputs": [
        {
          "output_type": "execute_result",
          "data": {
            "text/plain": [
              "3.0"
            ]
          },
          "metadata": {},
          "execution_count": 32
        }
      ]
    },
    {
      "cell_type": "code",
      "source": [
        "round(2.55)"
      ],
      "metadata": {
        "id": "CJECU6DrFulj",
        "outputId": "b48e7a8d-e7ac-4863-a7ee-3418e9e7e40f",
        "colab": {
          "base_uri": "https://localhost:8080/"
        }
      },
      "execution_count": null,
      "outputs": [
        {
          "output_type": "execute_result",
          "data": {
            "text/plain": [
              "3"
            ]
          },
          "metadata": {},
          "execution_count": 33
        }
      ]
    },
    {
      "cell_type": "code",
      "source": [
        "help(round)"
      ],
      "metadata": {
        "colab": {
          "base_uri": "https://localhost:8080/"
        },
        "id": "RIUfhvkFFlJZ",
        "outputId": "01aaf0d1-9cca-40e0-b38e-19db49d4afcb"
      },
      "execution_count": null,
      "outputs": [
        {
          "output_type": "stream",
          "name": "stdout",
          "text": [
            "Help on built-in function round in module builtins:\n",
            "\n",
            "round(number, ndigits=None)\n",
            "    Round a number to a given precision in decimal digits.\n",
            "    \n",
            "    The return value is an integer if ndigits is omitted or None.  Otherwise\n",
            "    the return value has the same type as the number.  ndigits may be negative.\n",
            "\n"
          ]
        }
      ]
    },
    {
      "cell_type": "markdown",
      "source": [
        "### Libraries"
      ],
      "metadata": {
        "id": "UHH_NgrfpwoM"
      }
    },
    {
      "cell_type": "code",
      "source": [
        "import math"
      ],
      "metadata": {
        "id": "r0FrpJtoq1Td"
      },
      "execution_count": null,
      "outputs": []
    },
    {
      "cell_type": "code",
      "source": [
        "print(math.pi)"
      ],
      "metadata": {
        "colab": {
          "base_uri": "https://localhost:8080/"
        },
        "id": "BbvUIkm0rJW4",
        "outputId": "bcffd6ed-424b-4963-81b8-1e00ee46117c"
      },
      "execution_count": null,
      "outputs": [
        {
          "output_type": "stream",
          "name": "stdout",
          "text": [
            "3.141592653589793\n"
          ]
        }
      ]
    },
    {
      "cell_type": "code",
      "source": [
        "import math as m\n",
        "print('pi is', m.pi)"
      ],
      "metadata": {
        "colab": {
          "base_uri": "https://localhost:8080/"
        },
        "id": "D20ban3frUVj",
        "outputId": "8335d149-6a53-4050-d42e-32a51f2f47e3"
      },
      "execution_count": null,
      "outputs": [
        {
          "output_type": "stream",
          "name": "stdout",
          "text": [
            "pi is 3.141592653589793\n"
          ]
        }
      ]
    },
    {
      "cell_type": "code",
      "source": [
        "type(m.pi)"
      ],
      "metadata": {
        "colab": {
          "base_uri": "https://localhost:8080/"
        },
        "id": "QXjD9Olxrr1O",
        "outputId": "3c0745b6-a2ed-4981-a6d2-8782fa015c84"
      },
      "execution_count": null,
      "outputs": [
        {
          "output_type": "execute_result",
          "data": {
            "text/plain": [
              "float"
            ]
          },
          "metadata": {},
          "execution_count": 38
        }
      ]
    },
    {
      "cell_type": "code",
      "source": [
        "print('cosine of pi is', m.cos(m.pi))"
      ],
      "metadata": {
        "colab": {
          "base_uri": "https://localhost:8080/"
        },
        "id": "AxtImm8brx9p",
        "outputId": "a749274b-cd0a-4c1e-a72e-1f74cd671e09"
      },
      "execution_count": null,
      "outputs": [
        {
          "output_type": "stream",
          "name": "stdout",
          "text": [
            "cosine of pi is -1.0\n"
          ]
        }
      ]
    },
    {
      "cell_type": "code",
      "source": [
        "help(math)"
      ],
      "metadata": {
        "colab": {
          "base_uri": "https://localhost:8080/"
        },
        "id": "D81SrdRYr6fg",
        "outputId": "9c9dc33a-c164-4ee4-c532-94303396355f"
      },
      "execution_count": null,
      "outputs": [
        {
          "output_type": "stream",
          "name": "stdout",
          "text": [
            "Help on built-in module math:\n",
            "\n",
            "NAME\n",
            "    math\n",
            "\n",
            "DESCRIPTION\n",
            "    This module provides access to the mathematical functions\n",
            "    defined by the C standard.\n",
            "\n",
            "FUNCTIONS\n",
            "    acos(x, /)\n",
            "        Return the arc cosine (measured in radians) of x.\n",
            "    \n",
            "    acosh(x, /)\n",
            "        Return the inverse hyperbolic cosine of x.\n",
            "    \n",
            "    asin(x, /)\n",
            "        Return the arc sine (measured in radians) of x.\n",
            "    \n",
            "    asinh(x, /)\n",
            "        Return the inverse hyperbolic sine of x.\n",
            "    \n",
            "    atan(x, /)\n",
            "        Return the arc tangent (measured in radians) of x.\n",
            "    \n",
            "    atan2(y, x, /)\n",
            "        Return the arc tangent (measured in radians) of y/x.\n",
            "        \n",
            "        Unlike atan(y/x), the signs of both x and y are considered.\n",
            "    \n",
            "    atanh(x, /)\n",
            "        Return the inverse hyperbolic tangent of x.\n",
            "    \n",
            "    ceil(x, /)\n",
            "        Return the ceiling of x as an Integral.\n",
            "        \n",
            "        This is the smallest integer >= x.\n",
            "    \n",
            "    copysign(x, y, /)\n",
            "        Return a float with the magnitude (absolute value) of x but the sign of y.\n",
            "        \n",
            "        On platforms that support signed zeros, copysign(1.0, -0.0)\n",
            "        returns -1.0.\n",
            "    \n",
            "    cos(x, /)\n",
            "        Return the cosine of x (measured in radians).\n",
            "    \n",
            "    cosh(x, /)\n",
            "        Return the hyperbolic cosine of x.\n",
            "    \n",
            "    degrees(x, /)\n",
            "        Convert angle x from radians to degrees.\n",
            "    \n",
            "    erf(x, /)\n",
            "        Error function at x.\n",
            "    \n",
            "    erfc(x, /)\n",
            "        Complementary error function at x.\n",
            "    \n",
            "    exp(x, /)\n",
            "        Return e raised to the power of x.\n",
            "    \n",
            "    expm1(x, /)\n",
            "        Return exp(x)-1.\n",
            "        \n",
            "        This function avoids the loss of precision involved in the direct evaluation of exp(x)-1 for small x.\n",
            "    \n",
            "    fabs(x, /)\n",
            "        Return the absolute value of the float x.\n",
            "    \n",
            "    factorial(x, /)\n",
            "        Find x!.\n",
            "        \n",
            "        Raise a ValueError if x is negative or non-integral.\n",
            "    \n",
            "    floor(x, /)\n",
            "        Return the floor of x as an Integral.\n",
            "        \n",
            "        This is the largest integer <= x.\n",
            "    \n",
            "    fmod(x, y, /)\n",
            "        Return fmod(x, y), according to platform C.\n",
            "        \n",
            "        x % y may differ.\n",
            "    \n",
            "    frexp(x, /)\n",
            "        Return the mantissa and exponent of x, as pair (m, e).\n",
            "        \n",
            "        m is a float and e is an int, such that x = m * 2.**e.\n",
            "        If x is 0, m and e are both 0.  Else 0.5 <= abs(m) < 1.0.\n",
            "    \n",
            "    fsum(seq, /)\n",
            "        Return an accurate floating point sum of values in the iterable seq.\n",
            "        \n",
            "        Assumes IEEE-754 floating point arithmetic.\n",
            "    \n",
            "    gamma(x, /)\n",
            "        Gamma function at x.\n",
            "    \n",
            "    gcd(x, y, /)\n",
            "        greatest common divisor of x and y\n",
            "    \n",
            "    hypot(x, y, /)\n",
            "        Return the Euclidean distance, sqrt(x*x + y*y).\n",
            "    \n",
            "    isclose(a, b, *, rel_tol=1e-09, abs_tol=0.0)\n",
            "        Determine whether two floating point numbers are close in value.\n",
            "        \n",
            "          rel_tol\n",
            "            maximum difference for being considered \"close\", relative to the\n",
            "            magnitude of the input values\n",
            "          abs_tol\n",
            "            maximum difference for being considered \"close\", regardless of the\n",
            "            magnitude of the input values\n",
            "        \n",
            "        Return True if a is close in value to b, and False otherwise.\n",
            "        \n",
            "        For the values to be considered close, the difference between them\n",
            "        must be smaller than at least one of the tolerances.\n",
            "        \n",
            "        -inf, inf and NaN behave similarly to the IEEE 754 Standard.  That\n",
            "        is, NaN is not close to anything, even itself.  inf and -inf are\n",
            "        only close to themselves.\n",
            "    \n",
            "    isfinite(x, /)\n",
            "        Return True if x is neither an infinity nor a NaN, and False otherwise.\n",
            "    \n",
            "    isinf(x, /)\n",
            "        Return True if x is a positive or negative infinity, and False otherwise.\n",
            "    \n",
            "    isnan(x, /)\n",
            "        Return True if x is a NaN (not a number), and False otherwise.\n",
            "    \n",
            "    ldexp(x, i, /)\n",
            "        Return x * (2**i).\n",
            "        \n",
            "        This is essentially the inverse of frexp().\n",
            "    \n",
            "    lgamma(x, /)\n",
            "        Natural logarithm of absolute value of Gamma function at x.\n",
            "    \n",
            "    log(...)\n",
            "        log(x, [base=math.e])\n",
            "        Return the logarithm of x to the given base.\n",
            "        \n",
            "        If the base not specified, returns the natural logarithm (base e) of x.\n",
            "    \n",
            "    log10(x, /)\n",
            "        Return the base 10 logarithm of x.\n",
            "    \n",
            "    log1p(x, /)\n",
            "        Return the natural logarithm of 1+x (base e).\n",
            "        \n",
            "        The result is computed in a way which is accurate for x near zero.\n",
            "    \n",
            "    log2(x, /)\n",
            "        Return the base 2 logarithm of x.\n",
            "    \n",
            "    modf(x, /)\n",
            "        Return the fractional and integer parts of x.\n",
            "        \n",
            "        Both results carry the sign of x and are floats.\n",
            "    \n",
            "    pow(x, y, /)\n",
            "        Return x**y (x to the power of y).\n",
            "    \n",
            "    radians(x, /)\n",
            "        Convert angle x from degrees to radians.\n",
            "    \n",
            "    remainder(x, y, /)\n",
            "        Difference between x and the closest integer multiple of y.\n",
            "        \n",
            "        Return x - n*y where n*y is the closest integer multiple of y.\n",
            "        In the case where x is exactly halfway between two multiples of\n",
            "        y, the nearest even value of n is used. The result is always exact.\n",
            "    \n",
            "    sin(x, /)\n",
            "        Return the sine of x (measured in radians).\n",
            "    \n",
            "    sinh(x, /)\n",
            "        Return the hyperbolic sine of x.\n",
            "    \n",
            "    sqrt(x, /)\n",
            "        Return the square root of x.\n",
            "    \n",
            "    tan(x, /)\n",
            "        Return the tangent of x (measured in radians).\n",
            "    \n",
            "    tanh(x, /)\n",
            "        Return the hyperbolic tangent of x.\n",
            "    \n",
            "    trunc(x, /)\n",
            "        Truncates the Real x to the nearest Integral toward 0.\n",
            "        \n",
            "        Uses the __trunc__ magic method.\n",
            "\n",
            "DATA\n",
            "    e = 2.718281828459045\n",
            "    inf = inf\n",
            "    nan = nan\n",
            "    pi = 3.141592653589793\n",
            "    tau = 6.283185307179586\n",
            "\n",
            "FILE\n",
            "    (built-in)\n",
            "\n",
            "\n"
          ]
        }
      ]
    },
    {
      "cell_type": "markdown",
      "source": [
        "## Reading Tables as Data"
      ],
      "metadata": {
        "id": "5kjKQvL_sG90"
      }
    },
    {
      "cell_type": "code",
      "source": [
        "import pandas as pd"
      ],
      "metadata": {
        "id": "1WtG-m3RsRyi"
      },
      "execution_count": null,
      "outputs": []
    },
    {
      "cell_type": "code",
      "source": [
        "help(pd)"
      ],
      "metadata": {
        "colab": {
          "base_uri": "https://localhost:8080/"
        },
        "id": "JMpaIKjFsfZK",
        "outputId": "128d9ad0-1b6a-4c7d-8392-9bc4adc6ff09"
      },
      "execution_count": null,
      "outputs": [
        {
          "output_type": "stream",
          "name": "stdout",
          "text": [
            "Help on package pandas:\n",
            "\n",
            "NAME\n",
            "    pandas\n",
            "\n",
            "DESCRIPTION\n",
            "    pandas - a powerful data analysis and manipulation library for Python\n",
            "    =====================================================================\n",
            "    \n",
            "    **pandas** is a Python package providing fast, flexible, and expressive data\n",
            "    structures designed to make working with \"relational\" or \"labeled\" data both\n",
            "    easy and intuitive. It aims to be the fundamental high-level building block for\n",
            "    doing practical, **real world** data analysis in Python. Additionally, it has\n",
            "    the broader goal of becoming **the most powerful and flexible open source data\n",
            "    analysis / manipulation tool available in any language**. It is already well on\n",
            "    its way toward this goal.\n",
            "    \n",
            "    Main Features\n",
            "    -------------\n",
            "    Here are just a few of the things that pandas does well:\n",
            "    \n",
            "      - Easy handling of missing data in floating point as well as non-floating\n",
            "        point data.\n",
            "      - Size mutability: columns can be inserted and deleted from DataFrame and\n",
            "        higher dimensional objects\n",
            "      - Automatic and explicit data alignment: objects can be explicitly aligned\n",
            "        to a set of labels, or the user can simply ignore the labels and let\n",
            "        `Series`, `DataFrame`, etc. automatically align the data for you in\n",
            "        computations.\n",
            "      - Powerful, flexible group by functionality to perform split-apply-combine\n",
            "        operations on data sets, for both aggregating and transforming data.\n",
            "      - Make it easy to convert ragged, differently-indexed data in other Python\n",
            "        and NumPy data structures into DataFrame objects.\n",
            "      - Intelligent label-based slicing, fancy indexing, and subsetting of large\n",
            "        data sets.\n",
            "      - Intuitive merging and joining data sets.\n",
            "      - Flexible reshaping and pivoting of data sets.\n",
            "      - Hierarchical labeling of axes (possible to have multiple labels per tick).\n",
            "      - Robust IO tools for loading data from flat files (CSV and delimited),\n",
            "        Excel files, databases, and saving/loading data from the ultrafast HDF5\n",
            "        format.\n",
            "      - Time series-specific functionality: date range generation and frequency\n",
            "        conversion, moving window statistics, date shifting and lagging.\n",
            "\n",
            "PACKAGE CONTENTS\n",
            "    _config (package)\n",
            "    _libs (package)\n",
            "    _testing (package)\n",
            "    _typing\n",
            "    _version\n",
            "    api (package)\n",
            "    arrays (package)\n",
            "    compat (package)\n",
            "    conftest\n",
            "    core (package)\n",
            "    errors (package)\n",
            "    io (package)\n",
            "    plotting (package)\n",
            "    testing\n",
            "    tests (package)\n",
            "    tseries (package)\n",
            "    util (package)\n",
            "\n",
            "SUBMODULES\n",
            "    _hashtable\n",
            "    _lib\n",
            "    _tslib\n",
            "    offsets\n",
            "\n",
            "FUNCTIONS\n",
            "    __getattr__(name)\n",
            "        # GH 27101\n",
            "\n",
            "DATA\n",
            "    IndexSlice = <pandas.core.indexing._IndexSlice object>\n",
            "    NA = <NA>\n",
            "    NaT = NaT\n",
            "    __docformat__ = 'restructuredtext'\n",
            "    __git_version__ = '66e3805b8cabe977f40c05259cc3fcf7ead5687d'\n",
            "    describe_option = <pandas._config.config.CallableDynamicDoc object>\n",
            "    get_option = <pandas._config.config.CallableDynamicDoc object>\n",
            "    options = <pandas._config.config.DictWrapper object>\n",
            "    reset_option = <pandas._config.config.CallableDynamicDoc object>\n",
            "    set_option = <pandas._config.config.CallableDynamicDoc object>\n",
            "\n",
            "VERSION\n",
            "    1.3.5\n",
            "\n",
            "FILE\n",
            "    /usr/local/lib/python3.7/dist-packages/pandas/__init__.py\n",
            "\n",
            "\n"
          ]
        }
      ]
    },
    {
      "cell_type": "code",
      "source": [
        "data = pd.read_csv('sample_data/california_housing_test.csv')\n",
        "print(data)"
      ],
      "metadata": {
        "colab": {
          "base_uri": "https://localhost:8080/"
        },
        "id": "-YDK47nnsv3U",
        "outputId": "83e05516-6a44-4edb-d56b-2ed78c28e474"
      },
      "execution_count": null,
      "outputs": [
        {
          "output_type": "stream",
          "name": "stdout",
          "text": [
            "      longitude  latitude  housing_median_age  total_rooms  total_bedrooms  \\\n",
            "0       -122.05     37.37                27.0       3885.0           661.0   \n",
            "1       -118.30     34.26                43.0       1510.0           310.0   \n",
            "2       -117.81     33.78                27.0       3589.0           507.0   \n",
            "3       -118.36     33.82                28.0         67.0            15.0   \n",
            "4       -119.67     36.33                19.0       1241.0           244.0   \n",
            "...         ...       ...                 ...          ...             ...   \n",
            "2995    -119.86     34.42                23.0       1450.0           642.0   \n",
            "2996    -118.14     34.06                27.0       5257.0          1082.0   \n",
            "2997    -119.70     36.30                10.0        956.0           201.0   \n",
            "2998    -117.12     34.10                40.0         96.0            14.0   \n",
            "2999    -119.63     34.42                42.0       1765.0           263.0   \n",
            "\n",
            "      population  households  median_income  median_house_value  \n",
            "0         1537.0       606.0         6.6085            344700.0  \n",
            "1          809.0       277.0         3.5990            176500.0  \n",
            "2         1484.0       495.0         5.7934            270500.0  \n",
            "3           49.0        11.0         6.1359            330000.0  \n",
            "4          850.0       237.0         2.9375             81700.0  \n",
            "...          ...         ...            ...                 ...  \n",
            "2995      1258.0       607.0         1.1790            225000.0  \n",
            "2996      3496.0      1036.0         3.3906            237200.0  \n",
            "2997       693.0       220.0         2.2895             62000.0  \n",
            "2998        46.0        14.0         3.2708            162500.0  \n",
            "2999       753.0       260.0         8.5608            500001.0  \n",
            "\n",
            "[3000 rows x 9 columns]\n"
          ]
        }
      ]
    },
    {
      "cell_type": "code",
      "source": [
        "data = pd.read_csv('sample_data/california_housing_test.csv', index_col='median_income')\n",
        "print(data)"
      ],
      "metadata": {
        "colab": {
          "base_uri": "https://localhost:8080/"
        },
        "id": "eQOV_omGtDb-",
        "outputId": "5207b1c2-309b-42ac-a26c-ab2cc9a92049"
      },
      "execution_count": null,
      "outputs": [
        {
          "output_type": "stream",
          "name": "stdout",
          "text": [
            "               longitude  latitude  housing_median_age  total_rooms  \\\n",
            "median_income                                                         \n",
            "6.6085           -122.05     37.37                27.0       3885.0   \n",
            "3.5990           -118.30     34.26                43.0       1510.0   \n",
            "5.7934           -117.81     33.78                27.0       3589.0   \n",
            "6.1359           -118.36     33.82                28.0         67.0   \n",
            "2.9375           -119.67     36.33                19.0       1241.0   \n",
            "...                  ...       ...                 ...          ...   \n",
            "1.1790           -119.86     34.42                23.0       1450.0   \n",
            "3.3906           -118.14     34.06                27.0       5257.0   \n",
            "2.2895           -119.70     36.30                10.0        956.0   \n",
            "3.2708           -117.12     34.10                40.0         96.0   \n",
            "8.5608           -119.63     34.42                42.0       1765.0   \n",
            "\n",
            "               total_bedrooms  population  households  median_house_value  \n",
            "median_income                                                              \n",
            "6.6085                  661.0      1537.0       606.0            344700.0  \n",
            "3.5990                  310.0       809.0       277.0            176500.0  \n",
            "5.7934                  507.0      1484.0       495.0            270500.0  \n",
            "6.1359                   15.0        49.0        11.0            330000.0  \n",
            "2.9375                  244.0       850.0       237.0             81700.0  \n",
            "...                       ...         ...         ...                 ...  \n",
            "1.1790                  642.0      1258.0       607.0            225000.0  \n",
            "3.3906                 1082.0      3496.0      1036.0            237200.0  \n",
            "2.2895                  201.0       693.0       220.0             62000.0  \n",
            "3.2708                   14.0        46.0        14.0            162500.0  \n",
            "8.5608                  263.0       753.0       260.0            500001.0  \n",
            "\n",
            "[3000 rows x 8 columns]\n"
          ]
        }
      ]
    },
    {
      "cell_type": "code",
      "source": [
        "type(data)"
      ],
      "metadata": {
        "colab": {
          "base_uri": "https://localhost:8080/"
        },
        "id": "Uj55o9V4tc5E",
        "outputId": "a0311d27-21bb-441a-e49b-887832b666ae"
      },
      "execution_count": null,
      "outputs": [
        {
          "output_type": "execute_result",
          "data": {
            "text/plain": [
              "pandas.core.frame.DataFrame"
            ]
          },
          "metadata": {},
          "execution_count": 45
        }
      ]
    },
    {
      "cell_type": "code",
      "source": [
        "data.info()"
      ],
      "metadata": {
        "colab": {
          "base_uri": "https://localhost:8080/"
        },
        "id": "yV5C4pRctkah",
        "outputId": "e0807305-eff1-4144-be58-e6be61873344"
      },
      "execution_count": null,
      "outputs": [
        {
          "output_type": "stream",
          "name": "stdout",
          "text": [
            "<class 'pandas.core.frame.DataFrame'>\n",
            "Float64Index: 3000 entries, 6.6085 to 8.5608\n",
            "Data columns (total 8 columns):\n",
            " #   Column              Non-Null Count  Dtype  \n",
            "---  ------              --------------  -----  \n",
            " 0   longitude           3000 non-null   float64\n",
            " 1   latitude            3000 non-null   float64\n",
            " 2   housing_median_age  3000 non-null   float64\n",
            " 3   total_rooms         3000 non-null   float64\n",
            " 4   total_bedrooms      3000 non-null   float64\n",
            " 5   population          3000 non-null   float64\n",
            " 6   households          3000 non-null   float64\n",
            " 7   median_house_value  3000 non-null   float64\n",
            "dtypes: float64(8)\n",
            "memory usage: 210.9 KB\n"
          ]
        }
      ]
    },
    {
      "cell_type": "code",
      "source": [
        "print(data.columns)"
      ],
      "metadata": {
        "colab": {
          "base_uri": "https://localhost:8080/"
        },
        "id": "ZxS-Pa58t8O6",
        "outputId": "ddfc8b2b-1286-429a-ef04-f8719178cc28"
      },
      "execution_count": null,
      "outputs": [
        {
          "output_type": "stream",
          "name": "stdout",
          "text": [
            "Index(['longitude', 'latitude', 'housing_median_age', 'total_rooms',\n",
            "       'total_bedrooms', 'population', 'households', 'median_house_value'],\n",
            "      dtype='object')\n"
          ]
        }
      ]
    },
    {
      "cell_type": "code",
      "source": [
        "print(data.T)"
      ],
      "metadata": {
        "colab": {
          "base_uri": "https://localhost:8080/"
        },
        "id": "damuhE30uEnC",
        "outputId": "0c5fb5f5-3e3b-4812-8a1d-69f0197ab373"
      },
      "execution_count": null,
      "outputs": [
        {
          "output_type": "stream",
          "name": "stdout",
          "text": [
            "median_income          6.6085     3.5990     5.7934     6.1359    2.9375  \\\n",
            "longitude             -122.05    -118.30    -117.81    -118.36   -119.67   \n",
            "latitude                37.37      34.26      33.78      33.82     36.33   \n",
            "housing_median_age      27.00      43.00      27.00      28.00     19.00   \n",
            "total_rooms           3885.00    1510.00    3589.00      67.00   1241.00   \n",
            "total_bedrooms         661.00     310.00     507.00      15.00    244.00   \n",
            "population            1537.00     809.00    1484.00      49.00    850.00   \n",
            "households             606.00     277.00     495.00      11.00    237.00   \n",
            "median_house_value  344700.00  176500.00  270500.00  330000.00  81700.00   \n",
            "\n",
            "median_income         1.6635    1.6641     3.2250     3.6696     2.3333  ...  \\\n",
            "longitude            -119.56   -121.43    -120.65    -122.84    -118.02  ...   \n",
            "latitude               36.51     38.63      35.48      38.40      34.08  ...   \n",
            "housing_median_age     37.00     43.00      19.00      15.00      31.00  ...   \n",
            "total_rooms          1018.00   1009.00    2310.00    3080.00    2402.00  ...   \n",
            "total_bedrooms        213.00    225.00     471.00     617.00     632.00  ...   \n",
            "population            663.00    604.00    1341.00    1446.00    2830.00  ...   \n",
            "households            204.00    218.00     441.00     599.00     603.00  ...   \n",
            "median_house_value  67000.00  67000.00  166900.00  194400.00  164200.00  ...   \n",
            "\n",
            "median_income          2.6923     7.1997     6.2263     5.1048     5.5867  \\\n",
            "longitude             -118.23    -117.17    -122.33    -117.91    -117.93   \n",
            "latitude                34.09      34.28      37.39      33.60      33.86   \n",
            "housing_median_age      49.00      13.00      52.00      37.00      35.00   \n",
            "total_rooms           1638.00    4867.00     573.00    2088.00     931.00   \n",
            "total_bedrooms         456.00     718.00     102.00     510.00     181.00   \n",
            "population            1500.00     780.00     232.00     673.00     516.00   \n",
            "households             430.00     250.00      92.00     390.00     174.00   \n",
            "median_house_value  150000.00  253800.00  500001.00  500001.00  182500.00   \n",
            "\n",
            "median_income          1.1790     3.3906   2.2895     3.2708     8.5608  \n",
            "longitude             -119.86    -118.14   -119.7    -117.12    -119.63  \n",
            "latitude                34.42      34.06     36.3      34.10      34.42  \n",
            "housing_median_age      23.00      27.00     10.0      40.00      42.00  \n",
            "total_rooms           1450.00    5257.00    956.0      96.00    1765.00  \n",
            "total_bedrooms         642.00    1082.00    201.0      14.00     263.00  \n",
            "population            1258.00    3496.00    693.0      46.00     753.00  \n",
            "households             607.00    1036.00    220.0      14.00     260.00  \n",
            "median_house_value  225000.00  237200.00  62000.0  162500.00  500001.00  \n",
            "\n",
            "[8 rows x 3000 columns]\n"
          ]
        }
      ]
    },
    {
      "cell_type": "code",
      "source": [
        "print(data.describe())"
      ],
      "metadata": {
        "colab": {
          "base_uri": "https://localhost:8080/"
        },
        "id": "3XNDxyC8ugg2",
        "outputId": "3e93c3a4-b3ad-4f46-ec7b-6b844741404d"
      },
      "execution_count": null,
      "outputs": [
        {
          "output_type": "stream",
          "name": "stdout",
          "text": [
            "         longitude    latitude  housing_median_age   total_rooms  \\\n",
            "count  3000.000000  3000.00000         3000.000000   3000.000000   \n",
            "mean   -119.589200    35.63539           28.845333   2599.578667   \n",
            "std       1.994936     2.12967           12.555396   2155.593332   \n",
            "min    -124.180000    32.56000            1.000000      6.000000   \n",
            "25%    -121.810000    33.93000           18.000000   1401.000000   \n",
            "50%    -118.485000    34.27000           29.000000   2106.000000   \n",
            "75%    -118.020000    37.69000           37.000000   3129.000000   \n",
            "max    -114.490000    41.92000           52.000000  30450.000000   \n",
            "\n",
            "       total_bedrooms    population  households  median_house_value  \n",
            "count     3000.000000   3000.000000  3000.00000          3000.00000  \n",
            "mean       529.950667   1402.798667   489.91200        205846.27500  \n",
            "std        415.654368   1030.543012   365.42271        113119.68747  \n",
            "min          2.000000      5.000000     2.00000         22500.00000  \n",
            "25%        291.000000    780.000000   273.00000        121200.00000  \n",
            "50%        437.000000   1155.000000   409.50000        177650.00000  \n",
            "75%        636.000000   1742.750000   597.25000        263975.00000  \n",
            "max       5419.000000  11935.000000  4930.00000        500001.00000  \n"
          ]
        }
      ]
    },
    {
      "cell_type": "code",
      "source": [
        "print(data.T.describe())"
      ],
      "metadata": {
        "colab": {
          "base_uri": "https://localhost:8080/"
        },
        "id": "g2v9yqWFuqlL",
        "outputId": "e7ab3a9a-7e26-4d34-b7c5-c75f06152f54"
      },
      "execution_count": null,
      "outputs": [
        {
          "output_type": "stream",
          "name": "stdout",
          "text": [
            "median_income         6.6085         3.5990         5.7934         6.1359  \\\n",
            "count               8.000000       8.000000       8.000000       8.000000   \n",
            "mean            43916.415000   22420.620000   34564.746250   41260.682500   \n",
            "std            121541.970835   62259.710451   95340.051195  116668.316062   \n",
            "min              -122.050000    -118.300000    -117.810000    -118.360000   \n",
            "25%                34.777500      40.815000      32.085000      14.000000   \n",
            "50%               633.500000     293.500000     501.000000      30.910000   \n",
            "75%              2124.000000     984.250000    2010.250000      53.500000   \n",
            "max            344700.000000  176500.000000  270500.000000  330000.000000   \n",
            "\n",
            "median_income        2.9375        1.6635        1.6641         3.2250  \\\n",
            "count              8.000000      8.000000      8.000000       8.000000   \n",
            "mean           10525.957500   8631.493750   8627.025000   21424.603750   \n",
            "std            28762.371344  23587.400994  23589.024838   58786.621064   \n",
            "min             -119.670000   -119.560000   -121.430000    -120.650000   \n",
            "25%               31.997500     36.877500     41.907500      31.360000   \n",
            "50%              240.500000    208.500000    221.500000     456.000000   \n",
            "75%              947.750000    751.750000    705.250000    1583.250000   \n",
            "max            81700.000000  67000.000000  67000.000000  166900.000000   \n",
            "\n",
            "median_income         3.6696         2.3333  ...       2.6923         7.1997  \\\n",
            "count               8.000000       8.000000  ...       8.0000       8.000000   \n",
            "mean            25009.070000   21326.757500  ...   19248.6075   32543.138750   \n",
            "std             68452.345193   57740.247048  ...   52835.6918   89416.267414   \n",
            "min              -122.840000    -118.020000  ...    -118.2300    -117.170000   \n",
            "25%                32.550000      33.310000  ...      45.2725      28.960000   \n",
            "50%               608.000000     617.500000  ...     443.0000     484.000000   \n",
            "75%              1854.500000    2509.000000  ...    1534.5000    1801.750000   \n",
            "max            194400.000000  164200.000000  ...  150000.0000  253800.000000   \n",
            "\n",
            "median_income         6.2263         5.1048         5.5867         1.1790  \\\n",
            "count               8.000000       8.000000       8.000000       8.000000   \n",
            "mean            62620.882500   62951.836250   23031.616250   28611.820000   \n",
            "std            176728.371353  176595.895348   64435.814749   79354.891655   \n",
            "min              -122.330000    -117.910000    -117.930000    -119.860000   \n",
            "25%                48.347500      36.150000      34.715000      31.565000   \n",
            "50%                97.000000     450.000000     177.500000     624.500000   \n",
            "75%               317.250000    1026.750000     619.750000    1306.000000   \n",
            "max            500001.000000  500001.000000  182500.000000  225000.000000   \n",
            "\n",
            "median_income         3.3906        2.2895         3.2708         8.5608  \n",
            "count               8.000000      8.000000       8.000000       8.000000  \n",
            "mean            31001.740000   7999.575000   20328.372500   62874.848750  \n",
            "std             83338.462109  21822.508466   57446.044718  176626.669812  \n",
            "min              -118.140000   -119.700000    -117.120000    -119.630000  \n",
            "25%                32.295000     29.725000      14.000000      40.105000  \n",
            "50%              1059.000000    210.500000      37.050000     261.500000  \n",
            "75%              3936.250000    758.750000      58.500000    1006.000000  \n",
            "max            237200.000000  62000.000000  162500.000000  500001.000000  \n",
            "\n",
            "[8 rows x 3000 columns]\n"
          ]
        }
      ]
    },
    {
      "cell_type": "code",
      "source": [
        "data.T.to_csv('sample_data/california_housing_test_TRANSPOSED.csv')"
      ],
      "metadata": {
        "id": "C4thpgDavfrV"
      },
      "execution_count": null,
      "outputs": []
    },
    {
      "cell_type": "markdown",
      "source": [
        "### Plotting Data"
      ],
      "metadata": {
        "id": "lxfhq0KUv83C"
      }
    },
    {
      "cell_type": "code",
      "source": [
        "%matplotlib inline\n",
        "import matplotlib.pyplot as plt"
      ],
      "metadata": {
        "id": "JgRlOxxOwFi5"
      },
      "execution_count": null,
      "outputs": []
    },
    {
      "cell_type": "code",
      "source": [
        "time = [0,1,2,3,4,5]\n",
        "response = [20,25,40,80,65,47]"
      ],
      "metadata": {
        "id": "RKO1q8bLwTfP"
      },
      "execution_count": null,
      "outputs": []
    },
    {
      "cell_type": "code",
      "source": [
        "print(time, response)"
      ],
      "metadata": {
        "colab": {
          "base_uri": "https://localhost:8080/"
        },
        "id": "dhihlfuDwiOS",
        "outputId": "39a1ea92-97df-4d72-98da-c8a258fbe0c4"
      },
      "execution_count": null,
      "outputs": [
        {
          "output_type": "stream",
          "name": "stdout",
          "text": [
            "[0, 1, 2, 3, 4, 5] [20, 25, 40, 80, 65, 47]\n"
          ]
        }
      ]
    },
    {
      "cell_type": "code",
      "source": [
        "plt.plot(time,response)\n",
        "plt.xlabel('Time (hours)')\n",
        "plt.ylabel('Response (cm)')"
      ],
      "metadata": {
        "colab": {
          "base_uri": "https://localhost:8080/",
          "height": 296
        },
        "id": "u2zmQecewu8M",
        "outputId": "eab59221-c89f-47f9-b72f-f3fd92f8c3d1"
      },
      "execution_count": null,
      "outputs": [
        {
          "output_type": "execute_result",
          "data": {
            "text/plain": [
              "Text(0, 0.5, 'Response (cm)')"
            ]
          },
          "metadata": {},
          "execution_count": 55
        },
        {
          "output_type": "display_data",
          "data": {
            "text/plain": [
              "<Figure size 432x288 with 1 Axes>"
            ],
            "image/png": "[encoded data removed]"
          },
          "metadata": {
            "needs_background": "light"
          }
        }
      ]
    },
    {
      "cell_type": "code",
      "source": [
        "!curl -L -o PracCompPyData.zip http://bit.ly/PracCompPyData"
      ],
      "metadata": {
        "colab": {
          "base_uri": "https://localhost:8080/"
        },
        "id": "jUr4y8--f9AZ",
        "outputId": "6c367e2d-cf67-4a56-98e2-cf261f376901"
      },
      "execution_count": null,
      "outputs": [
        {
          "output_type": "stream",
          "name": "stdout",
          "text": [
            "  % Total    % Received % Xferd  Average Speed   Time    Time     Time  Current\n",
            "                                 Dload  Upload   Total   Spent    Left  Speed\n",
            "100   137  100   137    0     0   1670      0 --:--:-- --:--:-- --:--:--  1670\n",
            "100   116    0   116    0     0    202      0 --:--:-- --:--:-- --:--:--   202\n",
            "100   340  100   340    0     0    304      0  0:00:01  0:00:01 --:--:--     0\n",
            "100   534    0   534    0     0    403      0 --:--:--  0:00:01 --:--:--   403\n",
            "100 38179  100 38179    0     0  24552      0  0:00:01  0:00:01 --:--:-- 24552\n"
          ]
        }
      ]
    },
    {
      "cell_type": "code",
      "source": [
        "!unzip PracCompPyData.zip"
      ],
      "metadata": {
        "colab": {
          "base_uri": "https://localhost:8080/"
        },
        "id": "584fq1tSi8po",
        "outputId": "cd6ea285-9c93-4b0b-e23b-5189d40daca1"
      },
      "execution_count": null,
      "outputs": [
        {
          "output_type": "stream",
          "name": "stdout",
          "text": [
            "Archive:  PracCompPyData.zip\n",
            "  inflating: data/gapminder_all.csv  \n",
            "  inflating: data/gapminder_gdp_africa.csv  \n",
            "  inflating: data/gapminder_gdp_americas.csv  \n",
            "  inflating: data/gapminder_gdp_asia.csv  \n",
            "  inflating: data/gapminder_gdp_europe.csv  \n",
            "  inflating: data/gapminder_gdp_oceania.csv  \n"
          ]
        }
      ]
    },
    {
      "cell_type": "code",
      "source": [
        "data = pd.read_csv('data/gapminder_gdp_oceania.csv', index_col='country')"
      ],
      "metadata": {
        "id": "5vOVEi5sxmlU"
      },
      "execution_count": null,
      "outputs": []
    },
    {
      "cell_type": "code",
      "source": [
        "print(data)"
      ],
      "metadata": {
        "colab": {
          "base_uri": "https://localhost:8080/"
        },
        "id": "vS1X6uUvx2MS",
        "outputId": "da8e800e-0658-4fe8-fc83-04a2469337bb"
      },
      "execution_count": null,
      "outputs": [
        {
          "output_type": "stream",
          "name": "stdout",
          "text": [
            "             gdpPercap_1952  gdpPercap_1957  gdpPercap_1962  gdpPercap_1967  \\\n",
            "country                                                                       \n",
            "Australia       10039.59564     10949.64959     12217.22686     14526.12465   \n",
            "New Zealand     10556.57566     12247.39532     13175.67800     14463.91893   \n",
            "\n",
            "             gdpPercap_1972  gdpPercap_1977  gdpPercap_1982  gdpPercap_1987  \\\n",
            "country                                                                       \n",
            "Australia       16788.62948     18334.19751     19477.00928     21888.88903   \n",
            "New Zealand     16046.03728     16233.71770     17632.41040     19007.19129   \n",
            "\n",
            "             gdpPercap_1992  gdpPercap_1997  gdpPercap_2002  gdpPercap_2007  \n",
            "country                                                                      \n",
            "Australia       23424.76683     26997.93657     30687.75473     34435.36744  \n",
            "New Zealand     18363.32494     21050.41377     23189.80135     25185.00911  \n"
          ]
        }
      ]
    },
    {
      "cell_type": "code",
      "source": [
        "years = data.columns.str.strip('gdpPercap_')"
      ],
      "metadata": {
        "id": "0R_iFUVOyITa"
      },
      "execution_count": null,
      "outputs": []
    },
    {
      "cell_type": "code",
      "source": [
        "type(years)"
      ],
      "metadata": {
        "colab": {
          "base_uri": "https://localhost:8080/"
        },
        "id": "aXAGc3JfySPp",
        "outputId": "df695609-b4a5-47c9-8ee1-d5fcb1910ecd"
      },
      "execution_count": null,
      "outputs": [
        {
          "output_type": "execute_result",
          "data": {
            "text/plain": [
              "pandas.core.indexes.base.Index"
            ]
          },
          "metadata": {},
          "execution_count": 61
        }
      ]
    },
    {
      "cell_type": "code",
      "source": [
        "data.info()"
      ],
      "metadata": {
        "colab": {
          "base_uri": "https://localhost:8080/"
        },
        "id": "BkhyOw5NyZG7",
        "outputId": "65b840e2-92b6-4979-ceab-6590b479ec34"
      },
      "execution_count": null,
      "outputs": [
        {
          "output_type": "stream",
          "name": "stdout",
          "text": [
            "<class 'pandas.core.frame.DataFrame'>\n",
            "Index: 2 entries, Australia to New Zealand\n",
            "Data columns (total 12 columns):\n",
            " #   Column          Non-Null Count  Dtype  \n",
            "---  ------          --------------  -----  \n",
            " 0   gdpPercap_1952  2 non-null      float64\n",
            " 1   gdpPercap_1957  2 non-null      float64\n",
            " 2   gdpPercap_1962  2 non-null      float64\n",
            " 3   gdpPercap_1967  2 non-null      float64\n",
            " 4   gdpPercap_1972  2 non-null      float64\n",
            " 5   gdpPercap_1977  2 non-null      float64\n",
            " 6   gdpPercap_1982  2 non-null      float64\n",
            " 7   gdpPercap_1987  2 non-null      float64\n",
            " 8   gdpPercap_1992  2 non-null      float64\n",
            " 9   gdpPercap_1997  2 non-null      float64\n",
            " 10  gdpPercap_2002  2 non-null      float64\n",
            " 11  gdpPercap_2007  2 non-null      float64\n",
            "dtypes: float64(12)\n",
            "memory usage: 208.0+ bytes\n"
          ]
        }
      ]
    },
    {
      "cell_type": "code",
      "source": [
        "print(data.columns)"
      ],
      "metadata": {
        "colab": {
          "base_uri": "https://localhost:8080/"
        },
        "id": "tdawU-DUyfZe",
        "outputId": "26c01b4b-01a3-439a-e606-b4b518c55a16"
      },
      "execution_count": null,
      "outputs": [
        {
          "output_type": "stream",
          "name": "stdout",
          "text": [
            "Index(['gdpPercap_1952', 'gdpPercap_1957', 'gdpPercap_1962', 'gdpPercap_1967',\n",
            "       'gdpPercap_1972', 'gdpPercap_1977', 'gdpPercap_1982', 'gdpPercap_1987',\n",
            "       'gdpPercap_1992', 'gdpPercap_1997', 'gdpPercap_2002', 'gdpPercap_2007'],\n",
            "      dtype='object')\n"
          ]
        }
      ]
    },
    {
      "cell_type": "code",
      "source": [
        "print(data.T)"
      ],
      "metadata": {
        "colab": {
          "base_uri": "https://localhost:8080/"
        },
        "id": "jA_s--MNyu_W",
        "outputId": "418d0414-6f54-49ed-c870-affa3ad9c3d6"
      },
      "execution_count": null,
      "outputs": [
        {
          "output_type": "stream",
          "name": "stdout",
          "text": [
            "country           Australia  New Zealand\n",
            "gdpPercap_1952  10039.59564  10556.57566\n",
            "gdpPercap_1957  10949.64959  12247.39532\n",
            "gdpPercap_1962  12217.22686  13175.67800\n",
            "gdpPercap_1967  14526.12465  14463.91893\n",
            "gdpPercap_1972  16788.62948  16046.03728\n",
            "gdpPercap_1977  18334.19751  16233.71770\n",
            "gdpPercap_1982  19477.00928  17632.41040\n",
            "gdpPercap_1987  21888.88903  19007.19129\n",
            "gdpPercap_1992  23424.76683  18363.32494\n",
            "gdpPercap_1997  26997.93657  21050.41377\n",
            "gdpPercap_2002  30687.75473  23189.80135\n",
            "gdpPercap_2007  34435.36744  25185.00911\n"
          ]
        }
      ]
    },
    {
      "cell_type": "code",
      "source": [
        "print(data.describe())"
      ],
      "metadata": {
        "colab": {
          "base_uri": "https://localhost:8080/"
        },
        "id": "1RgSrJuwy1W4",
        "outputId": "25f095f9-22c5-40c4-87c8-039a21129c18"
      },
      "execution_count": null,
      "outputs": [
        {
          "output_type": "stream",
          "name": "stdout",
          "text": [
            "       gdpPercap_1952  gdpPercap_1957  gdpPercap_1962  gdpPercap_1967  \\\n",
            "count        2.000000        2.000000        2.000000        2.000000   \n",
            "mean     10298.085650    11598.522455    12696.452430    14495.021790   \n",
            "std        365.560078      917.644806      677.727301       43.986086   \n",
            "min      10039.595640    10949.649590    12217.226860    14463.918930   \n",
            "25%      10168.840645    11274.086022    12456.839645    14479.470360   \n",
            "50%      10298.085650    11598.522455    12696.452430    14495.021790   \n",
            "75%      10427.330655    11922.958888    12936.065215    14510.573220   \n",
            "max      10556.575660    12247.395320    13175.678000    14526.124650   \n",
            "\n",
            "       gdpPercap_1972  gdpPercap_1977  gdpPercap_1982  gdpPercap_1987  \\\n",
            "count         2.00000        2.000000        2.000000        2.000000   \n",
            "mean      16417.33338    17283.957605    18554.709840    20448.040160   \n",
            "std         525.09198     1485.263517     1304.328377     2037.668013   \n",
            "min       16046.03728    16233.717700    17632.410400    19007.191290   \n",
            "25%       16231.68533    16758.837652    18093.560120    19727.615725   \n",
            "50%       16417.33338    17283.957605    18554.709840    20448.040160   \n",
            "75%       16602.98143    17809.077558    19015.859560    21168.464595   \n",
            "max       16788.62948    18334.197510    19477.009280    21888.889030   \n",
            "\n",
            "       gdpPercap_1992  gdpPercap_1997  gdpPercap_2002  gdpPercap_2007  \n",
            "count        2.000000        2.000000        2.000000        2.000000  \n",
            "mean     20894.045885    24024.175170    26938.778040    29810.188275  \n",
            "std       3578.979883     4205.533703     5301.853680     6540.991104  \n",
            "min      18363.324940    21050.413770    23189.801350    25185.009110  \n",
            "25%      19628.685412    22537.294470    25064.289695    27497.598692  \n",
            "50%      20894.045885    24024.175170    26938.778040    29810.188275  \n",
            "75%      22159.406358    25511.055870    28813.266385    32122.777858  \n",
            "max      23424.766830    26997.936570    30687.754730    34435.367440  \n"
          ]
        }
      ]
    },
    {
      "cell_type": "code",
      "source": [
        "data.columns = years.astype(int)"
      ],
      "metadata": {
        "id": "tnK-G3C2y8fe"
      },
      "execution_count": null,
      "outputs": []
    },
    {
      "cell_type": "code",
      "source": [
        "print(data.columns)"
      ],
      "metadata": {
        "colab": {
          "base_uri": "https://localhost:8080/"
        },
        "id": "swqzCZQ5zBoD",
        "outputId": "232d52c8-f71d-4eea-deef-ced6b79290a5"
      },
      "execution_count": null,
      "outputs": [
        {
          "output_type": "stream",
          "name": "stdout",
          "text": [
            "Int64Index([1952, 1957, 1962, 1967, 1972, 1977, 1982, 1987, 1992, 1997, 2002,\n",
            "            2007],\n",
            "           dtype='int64')\n"
          ]
        }
      ]
    },
    {
      "cell_type": "code",
      "source": [
        "data.plot()"
      ],
      "metadata": {
        "colab": {
          "base_uri": "https://localhost:8080/",
          "height": 296
        },
        "id": "XTetwfUEzHr5",
        "outputId": "05422ddb-9c97-49fd-de71-defa84e2c301"
      },
      "execution_count": null,
      "outputs": [
        {
          "output_type": "execute_result",
          "data": {
            "text/plain": [
              "<matplotlib.axes._subplots.AxesSubplot at 0x7f1c18159d50>"
            ]
          },
          "metadata": {},
          "execution_count": 68
        },
        {
          "output_type": "display_data",
          "data": {
            "text/plain": [
              "<Figure size 432x288 with 1 Axes>"
            ],
            "image/png": "[encoded data removed]"
          },
          "metadata": {
            "needs_background": "light"
          }
        }
      ]
    },
    {
      "cell_type": "code",
      "source": [
        "data.loc['Australia'].plot()"
      ],
      "metadata": {
        "colab": {
          "base_uri": "https://localhost:8080/",
          "height": 282
        },
        "id": "QL7RYLaIzY6h",
        "outputId": "539f648f-9404-42b0-bed2-f1fa76ae06be"
      },
      "execution_count": null,
      "outputs": [
        {
          "output_type": "execute_result",
          "data": {
            "text/plain": [
              "<matplotlib.axes._subplots.AxesSubplot at 0x7f1c18a8c790>"
            ]
          },
          "metadata": {},
          "execution_count": 69
        },
        {
          "output_type": "display_data",
          "data": {
            "text/plain": [
              "<Figure size 432x288 with 1 Axes>"
            ],
            "image/png": "[encoded data removed]"
          },
          "metadata": {
            "needs_background": "light"
          }
        }
      ]
    },
    {
      "cell_type": "code",
      "source": [
        "data.T.plot()\n",
        "plt.ylabel('GDP/capita')\n",
        "plt.xlabel('Year')"
      ],
      "metadata": {
        "colab": {
          "base_uri": "https://localhost:8080/",
          "height": 296
        },
        "id": "q9za-ZZV0gnC",
        "outputId": "f80459fd-a346-412f-8b38-608bac5ccc84"
      },
      "execution_count": null,
      "outputs": [
        {
          "output_type": "execute_result",
          "data": {
            "text/plain": [
              "Text(0.5, 0, 'Year')"
            ]
          },
          "metadata": {},
          "execution_count": 70
        },
        {
          "output_type": "display_data",
          "data": {
            "text/plain": [
              "<Figure size 432x288 with 1 Axes>"
            ],
            "image/png": "[encoded data removed]"
          },
          "metadata": {
            "needs_background": "light"
          }
        }
      ]
    },
    {
      "cell_type": "code",
      "source": [
        "plt.style.use('ggplot')\n",
        "data.T.plot()\n",
        "plt.ylabel('GDP/capita')\n",
        "plt.xlabel('Year')"
      ],
      "metadata": {
        "colab": {
          "base_uri": "https://localhost:8080/",
          "height": 299
        },
        "id": "09lLNP6J06P6",
        "outputId": "bf762263-1e75-4879-e8a2-f88e45873d1f"
      },
      "execution_count": null,
      "outputs": [
        {
          "output_type": "execute_result",
          "data": {
            "text/plain": [
              "Text(0.5, 0, 'Year')"
            ]
          },
          "metadata": {},
          "execution_count": 71
        },
        {
          "output_type": "display_data",
          "data": {
            "text/plain": [
              "<Figure size 432x288 with 1 Axes>"
            ],
            "image/png": "[encoded data removed]"
          },
          "metadata": {}
        }
      ]
    },
    {
      "cell_type": "code",
      "source": [
        "plt.style.use('ggplot')\n",
        "data.T.plot(kind='bar')\n",
        "plt.ylabel('GDP/capita')\n",
        "plt.xlabel('Year')"
      ],
      "metadata": {
        "colab": {
          "base_uri": "https://localhost:8080/",
          "height": 315
        },
        "id": "hskO9WB11Lvg",
        "outputId": "783e5d16-c042-48fc-eb59-73760f78b70c"
      },
      "execution_count": null,
      "outputs": [
        {
          "output_type": "execute_result",
          "data": {
            "text/plain": [
              "Text(0.5, 0, 'Year')"
            ]
          },
          "metadata": {},
          "execution_count": 72
        },
        {
          "output_type": "display_data",
          "data": {
            "text/plain": [
              "<Figure size 432x288 with 1 Axes>"
            ],
            "image/png": "[encoded data removed]"
          },
          "metadata": {}
        }
      ]
    },
    {
      "cell_type": "code",
      "source": [
        "plt.plot(time,response, 'g--')"
      ],
      "metadata": {
        "colab": {
          "base_uri": "https://localhost:8080/",
          "height": 282
        },
        "id": "SpfHs16a1acC",
        "outputId": "1f51c5b3-027a-4262-f0e6-9267c7d4ca45"
      },
      "execution_count": null,
      "outputs": [
        {
          "output_type": "execute_result",
          "data": {
            "text/plain": [
              "[<matplotlib.lines.Line2D at 0x7f1c18e8d610>]"
            ]
          },
          "metadata": {},
          "execution_count": 73
        },
        {
          "output_type": "display_data",
          "data": {
            "text/plain": [
              "<Figure size 432x288 with 1 Axes>"
            ],
            "image/png": "[encoded data removed]"
          },
          "metadata": {}
        }
      ]
    },
    {
      "cell_type": "code",
      "source": [
        "plt.plot(time,response, 'bo')"
      ],
      "metadata": {
        "colab": {
          "base_uri": "https://localhost:8080/",
          "height": 282
        },
        "id": "eGWd7lC91sai",
        "outputId": "212da128-7bb1-4e06-e2fe-7138bbf795aa"
      },
      "execution_count": null,
      "outputs": [
        {
          "output_type": "execute_result",
          "data": {
            "text/plain": [
              "[<matplotlib.lines.Line2D at 0x7f1c18b52450>]"
            ]
          },
          "metadata": {},
          "execution_count": 74
        },
        {
          "output_type": "display_data",
          "data": {
            "text/plain": [
              "<Figure size 432x288 with 1 Axes>"
            ],
            "image/png": "[encoded data removed]"
          },
          "metadata": {}
        }
      ]
    },
    {
      "cell_type": "code",
      "source": [
        "gdp_australia = data.loc['Australia']\n",
        "gdp_nz =data.loc['New Zealand']\n",
        "\n",
        "plt.plot(years, gdp_australia, 'g--', label='Australia')\n",
        "plt.plot(years, gdp_nz, 'o-', label='New Zealand')\n",
        "\n",
        "plt.xlabel('Year')\n",
        "plt.ylabel('GDP/capita')\n",
        "plt.legend(loc='lower right')"
      ],
      "metadata": {
        "colab": {
          "base_uri": "https://localhost:8080/",
          "height": 299
        },
        "id": "ht6SP1fB2TW7",
        "outputId": "e0d2e70c-169d-4367-c306-173b50bff033"
      },
      "execution_count": null,
      "outputs": [
        {
          "output_type": "execute_result",
          "data": {
            "text/plain": [
              "<matplotlib.legend.Legend at 0x7f1c183cf750>"
            ]
          },
          "metadata": {},
          "execution_count": 75
        },
        {
          "output_type": "display_data",
          "data": {
            "text/plain": [
              "<Figure size 432x288 with 1 Axes>"
            ],
            "image/png": "[encoded data removed]"
          },
          "metadata": {}
        }
      ]
    },
    {
      "cell_type": "code",
      "source": [
        "plt.scatter(gdp_australia,gdp_nz)"
      ],
      "metadata": {
        "colab": {
          "base_uri": "https://localhost:8080/",
          "height": 282
        },
        "id": "rkrD-9HR3h72",
        "outputId": "614605c3-1d95-4113-df19-a52f38fd47d6"
      },
      "execution_count": null,
      "outputs": [
        {
          "output_type": "execute_result",
          "data": {
            "text/plain": [
              "<matplotlib.collections.PathCollection at 0x7f1c183dcc10>"
            ]
          },
          "metadata": {},
          "execution_count": 76
        },
        {
          "output_type": "display_data",
          "data": {
            "text/plain": [
              "<Figure size 432x288 with 1 Axes>"
            ],
            "image/png": "[encoded data removed]"
          },
          "metadata": {}
        }
      ]
    },
    {
      "cell_type": "code",
      "source": [
        "plt.style.use('default')\n",
        "\n",
        "gdp_australia = data.loc['Australia']\n",
        "gdp_nz =data.loc['New Zealand']\n",
        "\n",
        "plt.plot(years, gdp_australia, '--', label='Australia')\n",
        "plt.plot(years, gdp_nz, 'o-', label='New Zealand')\n",
        "\n",
        "plt.xlabel('Year')\n",
        "plt.ylabel('GDP/capita')\n",
        "plt.legend(loc='lower right')"
      ],
      "metadata": {
        "colab": {
          "base_uri": "https://localhost:8080/",
          "height": 466
        },
        "id": "6NjgEx-p35zp",
        "outputId": "7244eb8e-fbcf-4768-cdf3-ba9832707159"
      },
      "execution_count": null,
      "outputs": [
        {
          "output_type": "execute_result",
          "data": {
            "text/plain": [
              "<matplotlib.legend.Legend at 0x7f1c183cfc90>"
            ]
          },
          "metadata": {},
          "execution_count": 77
        },
        {
          "output_type": "display_data",
          "data": {
            "text/plain": [
              "<Figure size 640x480 with 1 Axes>"
            ],
            "image/png": "[encoded data removed]"
          },
          "metadata": {}
        }
      ]
    },
    {
      "cell_type": "code",
      "source": [
        "print(plt.style.available)"
      ],
      "metadata": {
        "colab": {
          "base_uri": "https://localhost:8080/"
        },
        "id": "VG8COlu64pQw",
        "outputId": "476d0753-c12f-434f-bf77-9d58fa4c5058"
      },
      "execution_count": null,
      "outputs": [
        {
          "output_type": "stream",
          "name": "stdout",
          "text": [
            "['Solarize_Light2', '_classic_test_patch', 'bmh', 'classic', 'dark_background', 'fast', 'fivethirtyeight', 'ggplot', 'grayscale', 'seaborn', 'seaborn-bright', 'seaborn-colorblind', 'seaborn-dark', 'seaborn-dark-palette', 'seaborn-darkgrid', 'seaborn-deep', 'seaborn-muted', 'seaborn-notebook', 'seaborn-paper', 'seaborn-pastel', 'seaborn-poster', 'seaborn-talk', 'seaborn-ticks', 'seaborn-white', 'seaborn-whitegrid', 'tableau-colorblind10']\n"
          ]
        }
      ]
    },
    {
      "cell_type": "markdown",
      "source": [
        "#### Fancier Plotting and Stats"
      ],
      "metadata": {
        "id": "q4FZwTKt839I"
      }
    },
    {
      "cell_type": "markdown",
      "source": [
        "Creating random distributions"
      ],
      "metadata": {
        "id": "4fBaOYz19AwX"
      }
    },
    {
      "cell_type": "code",
      "source": [
        "%matplotlib inline\n",
        "import matplotlib.pyplot as plt\n",
        "\n",
        "import numpy as np\n",
        "randx = np.random.randint(0,1000, size=100)\n",
        "print(randx)"
      ],
      "metadata": {
        "colab": {
          "base_uri": "https://localhost:8080/"
        },
        "id": "vTFZ0HPj9DVf",
        "outputId": "de503795-6bfc-486b-a2f9-3809264aa5d3"
      },
      "execution_count": null,
      "outputs": [
        {
          "output_type": "stream",
          "name": "stdout",
          "text": [
            "[915 332 136 120 346 838  38 535 125 457 359 564  30  72 397 531 318 662\n",
            " 435 480 174 532 710 986 670 841 462 277 827 450  22  38 452 141 735 157\n",
            " 655 191 374 704 289 485 928 236 746 882 891 145 838 746 558 958  30 405\n",
            " 245 325 215 351 315 749 553 315 927 630  70  82 324 622 689 221 376 319\n",
            " 962 132 141  44 268 531 444 591 517 519 138 509 633 289 417 359 743 613\n",
            " 978 591 328  70 957 623  76 747 710 144]\n"
          ]
        }
      ]
    },
    {
      "cell_type": "code",
      "source": [
        "randy = np.random.randint(0,1000,size=100)"
      ],
      "metadata": {
        "id": "dg-Qlf5B-YR2"
      },
      "execution_count": null,
      "outputs": []
    },
    {
      "cell_type": "code",
      "source": [
        "plt.style.use(\"Solarize_Light2\")\n",
        "plt.scatter(randx,randy)"
      ],
      "metadata": {
        "colab": {
          "base_uri": "https://localhost:8080/",
          "height": 283
        },
        "id": "o8XrcVBH-nKC",
        "outputId": "b9d975fb-ebe4-4041-cbc5-b28925644be3"
      },
      "execution_count": null,
      "outputs": [
        {
          "output_type": "execute_result",
          "data": {
            "text/plain": [
              "<matplotlib.collections.PathCollection at 0x7f2890697bd0>"
            ]
          },
          "metadata": {},
          "execution_count": 32
        },
        {
          "output_type": "display_data",
          "data": {
            "text/plain": [
              "<Figure size 432x288 with 1 Axes>"
            ],
            "image/png": "[encoded data removed]"
          },
          "metadata": {}
        }
      ]
    },
    {
      "cell_type": "code",
      "source": [
        "np.corrcoef(randx,randy)"
      ],
      "metadata": {
        "colab": {
          "base_uri": "https://localhost:8080/"
        },
        "id": "Z7-mqZ0u_WFg",
        "outputId": "5bc3c869-c78f-48f5-c1e2-82ae46a65566"
      },
      "execution_count": null,
      "outputs": [
        {
          "output_type": "execute_result",
          "data": {
            "text/plain": [
              "array([[1.        , 0.01974871],\n",
              "       [0.01974871, 1.        ]])"
            ]
          },
          "metadata": {},
          "execution_count": 33
        }
      ]
    },
    {
      "cell_type": "code",
      "source": [
        "import pandas as pd\n",
        "import seaborn as sns\n",
        "rand_df=pd.DataFrame()\n",
        "rand_df['x']=randx\n",
        "rand_df['y']=randy\n",
        "print(rand_df)"
      ],
      "metadata": {
        "colab": {
          "base_uri": "https://localhost:8080/"
        },
        "id": "uPHVh-3-_3Zn",
        "outputId": "669793dd-e0b4-4e8e-f05f-c08aae7191df"
      },
      "execution_count": null,
      "outputs": [
        {
          "output_type": "stream",
          "name": "stdout",
          "text": [
            "      x    y\n",
            "0   915  901\n",
            "1   332  610\n",
            "2   136  980\n",
            "3   120  225\n",
            "4   346  449\n",
            "..  ...  ...\n",
            "95  623  805\n",
            "96   76  189\n",
            "97  747  224\n",
            "98  710  237\n",
            "99  144  159\n",
            "\n",
            "[100 rows x 2 columns]\n"
          ]
        }
      ]
    },
    {
      "cell_type": "code",
      "source": [
        "plt.scatter('x','y', data=rand_df)"
      ],
      "metadata": {
        "colab": {
          "base_uri": "https://localhost:8080/",
          "height": 283
        },
        "id": "xLNiUtvdAl_t",
        "outputId": "fcc48289-6062-4163-d491-bd1bd8d3cf41"
      },
      "execution_count": null,
      "outputs": [
        {
          "output_type": "execute_result",
          "data": {
            "text/plain": [
              "<matplotlib.collections.PathCollection at 0x7f2890538390>"
            ]
          },
          "metadata": {},
          "execution_count": 35
        },
        {
          "output_type": "display_data",
          "data": {
            "text/plain": [
              "<Figure size 432x288 with 1 Axes>"
            ],
            "image/png": "[encoded data removed]"
          },
          "metadata": {}
        }
      ]
    },
    {
      "cell_type": "code",
      "source": [
        "sns.regplot('x','y', data=rand_df)"
      ],
      "metadata": {
        "colab": {
          "base_uri": "https://localhost:8080/",
          "height": 356
        },
        "id": "l4zwEMrkAyQ5",
        "outputId": "d12c7ac9-fb03-4d81-8852-9cf5cf465d18"
      },
      "execution_count": null,
      "outputs": [
        {
          "output_type": "stream",
          "name": "stderr",
          "text": [
            "/usr/local/lib/python3.7/dist-packages/seaborn/_decorators.py:43: FutureWarning: Pass the following variables as keyword args: x, y. From version 0.12, the only valid positional argument will be `data`, and passing other arguments without an explicit keyword will result in an error or misinterpretation.\n",
            "  FutureWarning\n"
          ]
        },
        {
          "output_type": "execute_result",
          "data": {
            "text/plain": [
              "<matplotlib.axes._subplots.AxesSubplot at 0x7f2890498f10>"
            ]
          },
          "metadata": {},
          "execution_count": 36
        },
        {
          "output_type": "display_data",
          "data": {
            "text/plain": [
              "<Figure size 432x288 with 1 Axes>"
            ],
            "image/png": "[encoded data removed]"
          },
          "metadata": {}
        }
      ]
    },
    {
      "cell_type": "code",
      "source": [
        "sns.lmplot('x','y',data=rand_df)"
      ],
      "metadata": {
        "colab": {
          "base_uri": "https://localhost:8080/",
          "height": 443
        },
        "id": "TkqEL8AVA-dB",
        "outputId": "336cdf6b-2efe-4c1a-9731-10256d8b4965"
      },
      "execution_count": null,
      "outputs": [
        {
          "output_type": "stream",
          "name": "stderr",
          "text": [
            "/usr/local/lib/python3.7/dist-packages/seaborn/_decorators.py:43: FutureWarning: Pass the following variables as keyword args: x, y. From version 0.12, the only valid positional argument will be `data`, and passing other arguments without an explicit keyword will result in an error or misinterpretation.\n",
            "  FutureWarning\n"
          ]
        },
        {
          "output_type": "execute_result",
          "data": {
            "text/plain": [
              "<seaborn.axisgrid.FacetGrid at 0x7f2890458050>"
            ]
          },
          "metadata": {},
          "execution_count": 37
        },
        {
          "output_type": "display_data",
          "data": {
            "text/plain": [
              "<Figure size 360x360 with 1 Axes>"
            ],
            "image/png": "[encoded data removed]"
          },
          "metadata": {}
        }
      ]
    },
    {
      "cell_type": "code",
      "source": [
        "sns.kdeplot(rand_df.x,rand_df.y)"
      ],
      "metadata": {
        "colab": {
          "base_uri": "https://localhost:8080/",
          "height": 356
        },
        "id": "AMKsUl7TBLD-",
        "outputId": "7a373513-91a0-4dac-8f7b-bf3e0951a5a8"
      },
      "execution_count": null,
      "outputs": [
        {
          "output_type": "stream",
          "name": "stderr",
          "text": [
            "/usr/local/lib/python3.7/dist-packages/seaborn/_decorators.py:43: FutureWarning: Pass the following variable as a keyword arg: y. From version 0.12, the only valid positional argument will be `data`, and passing other arguments without an explicit keyword will result in an error or misinterpretation.\n",
            "  FutureWarning\n"
          ]
        },
        {
          "output_type": "execute_result",
          "data": {
            "text/plain": [
              "<matplotlib.axes._subplots.AxesSubplot at 0x7f28903e4950>"
            ]
          },
          "metadata": {},
          "execution_count": 38
        },
        {
          "output_type": "display_data",
          "data": {
            "text/plain": [
              "<Figure size 432x288 with 1 Axes>"
            ],
            "image/png": "[encoded data removed]"
          },
          "metadata": {}
        }
      ]
    },
    {
      "cell_type": "code",
      "source": [
        "sns.barplot('x', data=rand_df)"
      ],
      "metadata": {
        "colab": {
          "base_uri": "https://localhost:8080/",
          "height": 356
        },
        "id": "OcwGKEdVBde9",
        "outputId": "3373a910-d421-42ec-a271-c1af15bc25d4"
      },
      "execution_count": null,
      "outputs": [
        {
          "output_type": "stream",
          "name": "stderr",
          "text": [
            "/usr/local/lib/python3.7/dist-packages/seaborn/_decorators.py:43: FutureWarning: Pass the following variable as a keyword arg: x. From version 0.12, the only valid positional argument will be `data`, and passing other arguments without an explicit keyword will result in an error or misinterpretation.\n",
            "  FutureWarning\n"
          ]
        },
        {
          "output_type": "execute_result",
          "data": {
            "text/plain": [
              "<matplotlib.axes._subplots.AxesSubplot at 0x7f28902c6810>"
            ]
          },
          "metadata": {},
          "execution_count": 39
        },
        {
          "output_type": "display_data",
          "data": {
            "text/plain": [
              "<Figure size 432x288 with 1 Axes>"
            ],
            "image/png": "[encoded data removed]"
          },
          "metadata": {}
        }
      ]
    },
    {
      "cell_type": "code",
      "source": [
        "sns.barplot(rand_df.y)"
      ],
      "metadata": {
        "colab": {
          "base_uri": "https://localhost:8080/",
          "height": 356
        },
        "id": "1DwJKI95Bm74",
        "outputId": "fb9b519b-ef14-4c24-a30a-af6bef0843dd"
      },
      "execution_count": null,
      "outputs": [
        {
          "output_type": "stream",
          "name": "stderr",
          "text": [
            "/usr/local/lib/python3.7/dist-packages/seaborn/_decorators.py:43: FutureWarning: Pass the following variable as a keyword arg: x. From version 0.12, the only valid positional argument will be `data`, and passing other arguments without an explicit keyword will result in an error or misinterpretation.\n",
            "  FutureWarning\n"
          ]
        },
        {
          "output_type": "execute_result",
          "data": {
            "text/plain": [
              "<matplotlib.axes._subplots.AxesSubplot at 0x7f289027fa10>"
            ]
          },
          "metadata": {},
          "execution_count": 40
        },
        {
          "output_type": "display_data",
          "data": {
            "text/plain": [
              "<Figure size 432x288 with 1 Axes>"
            ],
            "image/png": "[encoded data removed]"
          },
          "metadata": {}
        }
      ]
    },
    {
      "cell_type": "code",
      "source": [
        "rand_df.describe()"
      ],
      "metadata": {
        "colab": {
          "base_uri": "https://localhost:8080/",
          "height": 300
        },
        "id": "PJbUFPz3Btl9",
        "outputId": "f8204691-162d-4ba2-9896-a5afa6a99b82"
      },
      "execution_count": null,
      "outputs": [
        {
          "output_type": "execute_result",
          "data": {
            "text/plain": [
              "                x           y\n",
              "count  100.000000  100.000000\n",
              "mean   456.270000  534.760000\n",
              "std    275.828334  290.066419\n",
              "min     22.000000    1.000000\n",
              "25%    232.250000  292.750000\n",
              "50%    447.000000  545.000000\n",
              "75%    664.000000  784.500000\n",
              "max    986.000000  988.000000"
            ],
            "text/html": [
              "\n",
              "  <div id=\"df-69a7ead6-6ac1-4318-929b-6a3826b69332\">\n",
              "    <div class=\"colab-df-container\">\n",
              "      <div>\n",
              "<style scoped>\n",
              "    .dataframe tbody tr th:only-of-type {\n",
              "        vertical-align: middle;\n",
              "    }\n",
              "\n",
              "    .dataframe tbody tr th {\n",
              "        vertical-align: top;\n",
              "    }\n",
              "\n",
              "    .dataframe thead th {\n",
              "        text-align: right;\n",
              "    }\n",
              "</style>\n",
              "<table border=\"1\" class=\"dataframe\">\n",
              "  <thead>\n",
              "    <tr style=\"text-align: right;\">\n",
              "      <th></th>\n",
              "      <th>x</th>\n",
              "      <th>y</th>\n",
              "    </tr>\n",
              "  </thead>\n",
              "  <tbody>\n",
              "    <tr>\n",
              "      <th>count</th>\n",
              "      <td>100.000000</td>\n",
              "      <td>100.000000</td>\n",
              "    </tr>\n",
              "    <tr>\n",
              "      <th>mean</th>\n",
              "      <td>456.270000</td>\n",
              "      <td>534.760000</td>\n",
              "    </tr>\n",
              "    <tr>\n",
              "      <th>std</th>\n",
              "      <td>275.828334</td>\n",
              "      <td>290.066419</td>\n",
              "    </tr>\n",
              "    <tr>\n",
              "      <th>min</th>\n",
              "      <td>22.000000</td>\n",
              "      <td>1.000000</td>\n",
              "    </tr>\n",
              "    <tr>\n",
              "      <th>25%</th>\n",
              "      <td>232.250000</td>\n",
              "      <td>292.750000</td>\n",
              "    </tr>\n",
              "    <tr>\n",
              "      <th>50%</th>\n",
              "      <td>447.000000</td>\n",
              "      <td>545.000000</td>\n",
              "    </tr>\n",
              "    <tr>\n",
              "      <th>75%</th>\n",
              "      <td>664.000000</td>\n",
              "      <td>784.500000</td>\n",
              "    </tr>\n",
              "    <tr>\n",
              "      <th>max</th>\n",
              "      <td>986.000000</td>\n",
              "      <td>988.000000</td>\n",
              "    </tr>\n",
              "  </tbody>\n",
              "</table>\n",
              "</div>\n",
              "      <button class=\"colab-df-convert\" onclick=\"convertToInteractive('df-69a7ead6-6ac1-4318-929b-6a3826b69332')\"\n",
              "              title=\"Convert this dataframe to an interactive table.\"\n",
              "              style=\"display:none;\">\n",
              "        \n",
              "  <svg xmlns=\"http://www.w3.org/2000/svg\" height=\"24px\"viewBox=\"0 0 24 24\"\n",
              "       width=\"24px\">\n",
              "    <path d=\"M0 0h24v24H0V0z\" fill=\"none\"/>\n",
              "    <path d=\"M18.56 5.44l.94 2.06.94-2.06 2.06-.94-2.06-.94-.94-2.06-.94 2.06-2.06.94zm-11 1L8.5 8.5l.94-2.06 2.06-.94-2.06-.94L8.5 2.5l-.94 2.06-2.06.94zm10 10l.94 2.06.94-2.06 2.06-.94-2.06-.94-.94-2.06-.94 2.06-2.06.94z\"/><path d=\"M17.41 7.96l-1.37-1.37c-.4-.4-.92-.59-1.43-.59-.52 0-1.04.2-1.43.59L10.3 9.45l-7.72 7.72c-.78.78-.78 2.05 0 2.83L4 21.41c.39.39.9.59 1.41.59.51 0 1.02-.2 1.41-.59l7.78-7.78 2.81-2.81c.8-.78.8-2.07 0-2.86zM5.41 20L4 18.59l7.72-7.72 1.47 1.35L5.41 20z\"/>\n",
              "  </svg>\n",
              "      </button>\n",
              "      \n",
              "  <style>\n",
              "    .colab-df-container {\n",
              "      display:flex;\n",
              "      flex-wrap:wrap;\n",
              "      gap: 12px;\n",
              "    }\n",
              "\n",
              "    .colab-df-convert {\n",
              "      background-color: #E8F0FE;\n",
              "      border: none;\n",
              "      border-radius: 50%;\n",
              "      cursor: pointer;\n",
              "      display: none;\n",
              "      fill: #1967D2;\n",
              "      height: 32px;\n",
              "      padding: 0 0 0 0;\n",
              "      width: 32px;\n",
              "    }\n",
              "\n",
              "    .colab-df-convert:hover {\n",
              "      background-color: #E2EBFA;\n",
              "      box-shadow: 0px 1px 2px rgba(60, 64, 67, 0.3), 0px 1px 3px 1px rgba(60, 64, 67, 0.15);\n",
              "      fill: #174EA6;\n",
              "    }\n",
              "\n",
              "    [theme=dark] .colab-df-convert {\n",
              "      background-color: #3B4455;\n",
              "      fill: #D2E3FC;\n",
              "    }\n",
              "\n",
              "    [theme=dark] .colab-df-convert:hover {\n",
              "      background-color: #434B5C;\n",
              "      box-shadow: 0px 1px 3px 1px rgba(0, 0, 0, 0.15);\n",
              "      filter: drop-shadow(0px 1px 2px rgba(0, 0, 0, 0.3));\n",
              "      fill: #FFFFFF;\n",
              "    }\n",
              "  </style>\n",
              "\n",
              "      <script>\n",
              "        const buttonEl =\n",
              "          document.querySelector('#df-69a7ead6-6ac1-4318-929b-6a3826b69332 button.colab-df-convert');\n",
              "        buttonEl.style.display =\n",
              "          google.colab.kernel.accessAllowed ? 'block' : 'none';\n",
              "\n",
              "        async function convertToInteractive(key) {\n",
              "          const element = document.querySelector('#df-69a7ead6-6ac1-4318-929b-6a3826b69332');\n",
              "          const dataTable =\n",
              "            await google.colab.kernel.invokeFunction('convertToInteractive',\n",
              "                                                     [key], {});\n",
              "          if (!dataTable) return;\n",
              "\n",
              "          const docLinkHtml = 'Like what you see? Visit the ' +\n",
              "            '<a target=\"_blank\" href=https://colab.research.google.com/notebooks/data_table.ipynb>data table notebook</a>'\n",
              "            + ' to learn more about interactive tables.';\n",
              "          element.innerHTML = '';\n",
              "          dataTable['output_type'] = 'display_data';\n",
              "          await google.colab.output.renderOutput(dataTable, element);\n",
              "          const docLink = document.createElement('div');\n",
              "          docLink.innerHTML = docLinkHtml;\n",
              "          element.appendChild(docLink);\n",
              "        }\n",
              "      </script>\n",
              "    </div>\n",
              "  </div>\n",
              "  "
            ]
          },
          "metadata": {},
          "execution_count": 41
        }
      ]
    },
    {
      "cell_type": "code",
      "source": [
        "sns.boxplot(rand_df.x)"
      ],
      "metadata": {
        "colab": {
          "base_uri": "https://localhost:8080/",
          "height": 356
        },
        "id": "DmMOgW4kB2jJ",
        "outputId": "a2611b4a-16fc-4acf-add5-e5921cb284c6"
      },
      "execution_count": null,
      "outputs": [
        {
          "output_type": "stream",
          "name": "stderr",
          "text": [
            "/usr/local/lib/python3.7/dist-packages/seaborn/_decorators.py:43: FutureWarning: Pass the following variable as a keyword arg: x. From version 0.12, the only valid positional argument will be `data`, and passing other arguments without an explicit keyword will result in an error or misinterpretation.\n",
            "  FutureWarning\n"
          ]
        },
        {
          "output_type": "execute_result",
          "data": {
            "text/plain": [
              "<matplotlib.axes._subplots.AxesSubplot at 0x7f2890247810>"
            ]
          },
          "metadata": {},
          "execution_count": 42
        },
        {
          "output_type": "display_data",
          "data": {
            "text/plain": [
              "<Figure size 432x288 with 1 Axes>"
            ],
            "image/png": "[encoded data removed]"
          },
          "metadata": {}
        }
      ]
    },
    {
      "cell_type": "code",
      "source": [
        "sns.violinplot(rand_df.x)"
      ],
      "metadata": {
        "colab": {
          "base_uri": "https://localhost:8080/",
          "height": 356
        },
        "id": "Cj7Iiy6WCMyR",
        "outputId": "09f94018-a3ef-40c4-c5cb-2fd3bca2f450"
      },
      "execution_count": null,
      "outputs": [
        {
          "output_type": "stream",
          "name": "stderr",
          "text": [
            "/usr/local/lib/python3.7/dist-packages/seaborn/_decorators.py:43: FutureWarning: Pass the following variable as a keyword arg: x. From version 0.12, the only valid positional argument will be `data`, and passing other arguments without an explicit keyword will result in an error or misinterpretation.\n",
            "  FutureWarning\n"
          ]
        },
        {
          "output_type": "execute_result",
          "data": {
            "text/plain": [
              "<matplotlib.axes._subplots.AxesSubplot at 0x7f28901c8d90>"
            ]
          },
          "metadata": {},
          "execution_count": 43
        },
        {
          "output_type": "display_data",
          "data": {
            "text/plain": [
              "<Figure size 432x288 with 1 Axes>"
            ],
            "image/png": "[encoded data removed]"
          },
          "metadata": {}
        }
      ]
    },
    {
      "cell_type": "code",
      "source": [
        "sns.violinplot('y', data=rand_df)"
      ],
      "metadata": {
        "colab": {
          "base_uri": "https://localhost:8080/",
          "height": 356
        },
        "id": "I6KijUw-CpeY",
        "outputId": "74d69032-c1ca-4bbc-b029-272e5c04fe38"
      },
      "execution_count": null,
      "outputs": [
        {
          "output_type": "stream",
          "name": "stderr",
          "text": [
            "/usr/local/lib/python3.7/dist-packages/seaborn/_decorators.py:43: FutureWarning: Pass the following variable as a keyword arg: x. From version 0.12, the only valid positional argument will be `data`, and passing other arguments without an explicit keyword will result in an error or misinterpretation.\n",
            "  FutureWarning\n"
          ]
        },
        {
          "output_type": "execute_result",
          "data": {
            "text/plain": [
              "<matplotlib.axes._subplots.AxesSubplot at 0x7f28901421d0>"
            ]
          },
          "metadata": {},
          "execution_count": 45
        },
        {
          "output_type": "display_data",
          "data": {
            "text/plain": [
              "<Figure size 432x288 with 1 Axes>"
            ],
            "image/png": "[encoded data removed]"
          },
          "metadata": {}
        }
      ]
    },
    {
      "cell_type": "code",
      "source": [
        "!pip install py3Dmol\n",
        "import py3Dmol\n",
        "view = py3Dmol.view(query='pdb:2F9R')\n",
        "view.setStyle({'cartoon':{'color':'spectrum'}})\n",
        "view"
      ],
      "metadata": {
        "colab": {
          "base_uri": "https://localhost:8080/",
          "height": 551
        },
        "id": "S81eggdVC7Xs",
        "outputId": "01e95769-9444-4b46-896b-e8e19d88a17a"
      },
      "execution_count": null,
      "outputs": [
        {
          "output_type": "stream",
          "name": "stdout",
          "text": [
            "Looking in indexes: https://pypi.org/simple, https://us-python.pkg.dev/colab-wheels/public/simple/\n",
            "Requirement already satisfied: py3Dmol in /usr/local/lib/python3.7/dist-packages (1.8.1)\n"
          ]
        },
        {
          "output_type": "display_data",
          "data": {
            "application/3dmoljs_load.v0": "<div id=\"3dmolviewer_16632782018989797\"  style=\"position: relative; width: 640px; height: 480px\">\n        <p id=\"3dmolwarning_16632782018989797\" style=\"background-color:#ffcccc;color:black\">You appear to be running in JupyterLab (or JavaScript failed to load for some other reason).  You need to install the 3dmol extension: <br>\n        <tt>jupyter labextension install jupyterlab_3dmol</tt></p>\n        </div>\n<script>\n\nvar loadScriptAsync = function(uri){\n  return new Promise((resolve, reject) => {\n    var tag = document.createElement('script');\n    tag.src = uri;\n    tag.async = true;\n    tag.onload = () => {\n      resolve();\n    };\n  var firstScriptTag = document.getElementsByTagName('script')[0];\n  firstScriptTag.parentNode.insertBefore(tag, firstScriptTag);\n});\n};\n\nif(typeof $3Dmolpromise === 'undefined') {\n$3Dmolpromise = null;\n  $3Dmolpromise = loadScriptAsync('https://cdn.jsdelivr.net/npm/3dmol@latest/build/3Dmol-min.min.js');\n}\n\nvar viewer_16632782018989797 = null;\nvar warn = document.getElementById(\"3dmolwarning_16632782018989797\");\nif(warn) {\n    warn.parentNode.removeChild(warn);\n}\n$3Dmolpromise.then(function() {\nviewer_16632782018989797 = $3Dmol.createViewer($(\"#3dmolviewer_16632782018989797\"),{backgroundColor:\"white\"});\n$3Dmol.download(\"pdb:2F9R\", viewer_16632782018989797, {}, function() {\nviewer_16632782018989797.zoomTo();\n\tviewer_16632782018989797.setStyle({\"cartoon\": {\"color\": \"spectrum\"}});\nviewer_16632782018989797.render();\n})\n});\n</script>",
            "text/html": [
              "<div id=\"3dmolviewer_16632782018989797\"  style=\"position: relative; width: 640px; height: 480px\">\n",
              "        <p id=\"3dmolwarning_16632782018989797\" style=\"background-color:#ffcccc;color:black\">You appear to be running in JupyterLab (or JavaScript failed to load for some other reason).  You need to install the 3dmol extension: <br>\n",
              "        <tt>jupyter labextension install jupyterlab_3dmol</tt></p>\n",
              "        </div>\n",
              "<script>\n",
              "\n",
              "var loadScriptAsync = function(uri){\n",
              "  return new Promise((resolve, reject) => {\n",
              "    var tag = document.createElement('script');\n",
              "    tag.src = uri;\n",
              "    tag.async = true;\n",
              "    tag.onload = () => {\n",
              "      resolve();\n",
              "    };\n",
              "  var firstScriptTag = document.getElementsByTagName('script')[0];\n",
              "  firstScriptTag.parentNode.insertBefore(tag, firstScriptTag);\n",
              "});\n",
              "};\n",
              "\n",
              "if(typeof $3Dmolpromise === 'undefined') {\n",
              "$3Dmolpromise = null;\n",
              "  $3Dmolpromise = loadScriptAsync('https://cdn.jsdelivr.net/npm/3dmol@latest/build/3Dmol-min.min.js');\n",
              "}\n",
              "\n",
              "var viewer_16632782018989797 = null;\n",
              "var warn = document.getElementById(\"3dmolwarning_16632782018989797\");\n",
              "if(warn) {\n",
              "    warn.parentNode.removeChild(warn);\n",
              "}\n",
              "$3Dmolpromise.then(function() {\n",
              "viewer_16632782018989797 = $3Dmol.createViewer($(\"#3dmolviewer_16632782018989797\"),{backgroundColor:\"white\"});\n",
              "$3Dmol.download(\"pdb:2F9R\", viewer_16632782018989797, {}, function() {\n",
              "viewer_16632782018989797.zoomTo();\n",
              "\tviewer_16632782018989797.setStyle({\"cartoon\": {\"color\": \"spectrum\"}});\n",
              "viewer_16632782018989797.render();\n",
              "})\n",
              "});\n",
              "</script>"
            ]
          },
          "metadata": {}
        },
        {
          "output_type": "execute_result",
          "data": {
            "text/plain": [
              "<py3Dmol.view at 0x7f288fa56f50>"
            ]
          },
          "metadata": {},
          "execution_count": 48
        }
      ]
    },
    {
      "cell_type": "markdown",
      "source": [
        "## Lists and Loops"
      ],
      "metadata": {
        "id": "w_hCNOVOsTkb"
      }
    },
    {
      "cell_type": "code",
      "source": [
        "temps = [0.0, 32.0, 100, 212, 98.6]"
      ],
      "metadata": {
        "id": "KwgDwXoItHQT"
      },
      "execution_count": 9,
      "outputs": []
    },
    {
      "cell_type": "code",
      "source": [
        "print('first temperature:', temps[0])\n",
        "print('length:', len(temps))"
      ],
      "metadata": {
        "colab": {
          "base_uri": "https://localhost:8080/"
        },
        "id": "ZdBx9RibtahO",
        "outputId": "eef3f051-463e-40b2-f567-1c035287fb46"
      },
      "execution_count": 10,
      "outputs": [
        {
          "output_type": "stream",
          "name": "stdout",
          "text": [
            "first temperature: 0.0\n",
            "length: 5\n"
          ]
        }
      ]
    },
    {
      "cell_type": "code",
      "source": [
        "print('first temperature:', temps[0])\n",
        "print('last temperature:', temps[-1])\n",
        "print('middle temperatures:', temps[1:4])"
      ],
      "metadata": {
        "colab": {
          "base_uri": "https://localhost:8080/"
        },
        "id": "2fUVOEDUtszP",
        "outputId": "6085f252-2f37-45a3-8812-059730585fb2"
      },
      "execution_count": 11,
      "outputs": [
        {
          "output_type": "stream",
          "name": "stdout",
          "text": [
            "first temperature: 0.0\n",
            "last temperature: 98.6\n",
            "middle temperatures: [32.0, 100, 212]\n"
          ]
        }
      ]
    },
    {
      "cell_type": "code",
      "source": [
        "temps[0]=-5\n",
        "print(temps)"
      ],
      "metadata": {
        "colab": {
          "base_uri": "https://localhost:8080/"
        },
        "id": "5hiDkSSEuFkP",
        "outputId": "2f469ff4-3709-468e-d6fc-acfa4b5450c2"
      },
      "execution_count": 12,
      "outputs": [
        {
          "output_type": "stream",
          "name": "stdout",
          "text": [
            "[-5, 32.0, 100, 212, 98.6]\n"
          ]
        }
      ]
    },
    {
      "cell_type": "code",
      "source": [
        "temps.append(72)\n",
        "print(temps)"
      ],
      "metadata": {
        "colab": {
          "base_uri": "https://localhost:8080/"
        },
        "id": "AFLoxd0XuQPg",
        "outputId": "aa5a5e56-8933-4c13-b72f-693836c49762"
      },
      "execution_count": 13,
      "outputs": [
        {
          "output_type": "stream",
          "name": "stdout",
          "text": [
            "[-5, 32.0, 100, 212, 98.6, 72]\n"
          ]
        }
      ]
    },
    {
      "cell_type": "code",
      "source": [
        "temps.insert(0, 0.0)\n",
        "print(temps)"
      ],
      "metadata": {
        "colab": {
          "base_uri": "https://localhost:8080/"
        },
        "id": "vOzKamOmuaus",
        "outputId": "b0b6f510-944e-446c-c509-7cfdecf3030c"
      },
      "execution_count": 14,
      "outputs": [
        {
          "output_type": "stream",
          "name": "stdout",
          "text": [
            "[0.0, -5, 32.0, 100, 212, 98.6, 72]\n"
          ]
        }
      ]
    },
    {
      "cell_type": "code",
      "source": [
        "temps.insert(-1, -40)\n",
        "print(temps)"
      ],
      "metadata": {
        "colab": {
          "base_uri": "https://localhost:8080/"
        },
        "id": "qMMXys_ruvXh",
        "outputId": "1e2ed2d0-e7bb-40cf-bfc7-a6a50350f034"
      },
      "execution_count": 15,
      "outputs": [
        {
          "output_type": "stream",
          "name": "stdout",
          "text": [
            "[-40, 0.0, -5, 32.0, 100, 212, 98.6, 72]\n"
          ]
        }
      ]
    },
    {
      "cell_type": "code",
      "source": [
        "temps2 = [-45,75,1000]\n",
        "print(temps2)"
      ],
      "metadata": {
        "colab": {
          "base_uri": "https://localhost:8080/"
        },
        "id": "iydrreSpvPIR",
        "outputId": "51e0c04d-54bd-4215-971e-2d625ff7a5d6"
      },
      "execution_count": 16,
      "outputs": [
        {
          "output_type": "stream",
          "name": "stdout",
          "text": [
            "[-45, 75, 1000]\n"
          ]
        }
      ]
    },
    {
      "cell_type": "code",
      "source": [
        "temps.extend(temps2)\n",
        "print(temps)"
      ],
      "metadata": {
        "colab": {
          "base_uri": "https://localhost:8080/"
        },
        "id": "59FfakiZvVyZ",
        "outputId": "3c7f88c0-403c-40ae-92f6-6a6f1e1275ea"
      },
      "execution_count": 17,
      "outputs": [
        {
          "output_type": "stream",
          "name": "stdout",
          "text": [
            "[-40, 0.0, -5, 32.0, 100, 212, 98.6, 72, -45, 75, 1000]\n"
          ]
        }
      ]
    },
    {
      "cell_type": "code",
      "source": [
        "del temps[6:]\n",
        "print(temps)"
      ],
      "metadata": {
        "colab": {
          "base_uri": "https://localhost:8080/"
        },
        "id": "wXlxNcn3vdxP",
        "outputId": "000cf6b1-f099-41d3-db4a-7aeb44669613"
      },
      "execution_count": 18,
      "outputs": [
        {
          "output_type": "stream",
          "name": "stdout",
          "text": [
            "[-40, 0.0, -5, 32.0, 100, 212]\n"
          ]
        }
      ]
    },
    {
      "cell_type": "code",
      "source": [
        "temps.append(98.6)\n",
        "temps.append(212)\n",
        "print(temps)"
      ],
      "metadata": {
        "colab": {
          "base_uri": "https://localhost:8080/"
        },
        "id": "RRAlgfwivnQX",
        "outputId": "67de3e87-6b28-4b65-c629-0b82c3f633d7"
      },
      "execution_count": 19,
      "outputs": [
        {
          "output_type": "stream",
          "name": "stdout",
          "text": [
            "[-40, 0.0, -5, 32.0, 100, 212, 98.6, 212]\n"
          ]
        }
      ]
    },
    {
      "cell_type": "code",
      "source": [
        "data = ['large',25,'green',62.25]\n",
        "print(data)"
      ],
      "metadata": {
        "colab": {
          "base_uri": "https://localhost:8080/"
        },
        "id": "QEVHcD4yvzg1",
        "outputId": "aa5a3724-4127-43da-a483-9becd2ab9579"
      },
      "execution_count": 20,
      "outputs": [
        {
          "output_type": "stream",
          "name": "stdout",
          "text": [
            "['large', 25, 'green', 62.25]\n"
          ]
        }
      ]
    },
    {
      "cell_type": "code",
      "source": [
        "print(data[0])"
      ],
      "metadata": {
        "colab": {
          "base_uri": "https://localhost:8080/"
        },
        "id": "lrPCi4ABv7zO",
        "outputId": "ebabcebf-1d4b-41d4-cfd8-1df29167e4b5"
      },
      "execution_count": 21,
      "outputs": [
        {
          "output_type": "stream",
          "name": "stdout",
          "text": [
            "large\n"
          ]
        }
      ]
    },
    {
      "cell_type": "code",
      "source": [
        "print(data[0][0:3])"
      ],
      "metadata": {
        "colab": {
          "base_uri": "https://localhost:8080/"
        },
        "id": "WxAlKFJZwA4U",
        "outputId": "c9832507-be30-4701-86cb-19590835750e"
      },
      "execution_count": 22,
      "outputs": [
        {
          "output_type": "stream",
          "name": "stdout",
          "text": [
            "lar\n"
          ]
        }
      ]
    },
    {
      "cell_type": "code",
      "source": [
        "print(sorted(temps))"
      ],
      "metadata": {
        "colab": {
          "base_uri": "https://localhost:8080/"
        },
        "id": "WuZacATNwQdQ",
        "outputId": "7d58983b-65f2-4ce0-e1d8-c3d29f0dd670"
      },
      "execution_count": 23,
      "outputs": [
        {
          "output_type": "stream",
          "name": "stdout",
          "text": [
            "[-40, -5, 0.0, 32.0, 98.6, 100, 212, 212]\n"
          ]
        }
      ]
    },
    {
      "cell_type": "code",
      "source": [
        "print(temps)"
      ],
      "metadata": {
        "colab": {
          "base_uri": "https://localhost:8080/"
        },
        "id": "Nce7rZN8wXhk",
        "outputId": "3c183373-9c62-4ec6-b09c-fee2fffb4ac7"
      },
      "execution_count": 24,
      "outputs": [
        {
          "output_type": "stream",
          "name": "stdout",
          "text": [
            "[-40, 0.0, -5, 32.0, 100, 212, 98.6, 212]\n"
          ]
        }
      ]
    },
    {
      "cell_type": "code",
      "source": [
        "temps.sort()"
      ],
      "metadata": {
        "id": "cjoVC9_cwg5c"
      },
      "execution_count": 25,
      "outputs": []
    },
    {
      "cell_type": "code",
      "source": [
        "print(temps)"
      ],
      "metadata": {
        "colab": {
          "base_uri": "https://localhost:8080/"
        },
        "id": "9puXD0hnwpMB",
        "outputId": "7821d97f-3b5c-4615-bb48-296e284c77af"
      },
      "execution_count": 26,
      "outputs": [
        {
          "output_type": "stream",
          "name": "stdout",
          "text": [
            "[-40, -5, 0.0, 32.0, 98.6, 100, 212, 212]\n"
          ]
        }
      ]
    },
    {
      "cell_type": "code",
      "source": [
        "print(temps[0])\n",
        "print(temps[1])\n",
        "print(temps[2])\n",
        "print(temps[3])\n",
        "print(temps[4])\n",
        "print(temps[5])\n",
        "print(temps[6])\n",
        "print(temps[7])"
      ],
      "metadata": {
        "colab": {
          "base_uri": "https://localhost:8080/"
        },
        "id": "1KSaw-e1w1ud",
        "outputId": "96f70df0-8127-4f9d-dad0-9b9f7831497f"
      },
      "execution_count": 27,
      "outputs": [
        {
          "output_type": "stream",
          "name": "stdout",
          "text": [
            "-40\n",
            "-5\n",
            "0.0\n",
            "32.0\n",
            "98.6\n",
            "100\n",
            "212\n",
            "212\n"
          ]
        }
      ]
    },
    {
      "cell_type": "code",
      "source": [
        "for x in temps:\n",
        "  print(x)"
      ],
      "metadata": {
        "colab": {
          "base_uri": "https://localhost:8080/"
        },
        "id": "730bUZcBxBVy",
        "outputId": "463c0571-410c-4b58-bd29-8993829afdfe"
      },
      "execution_count": 31,
      "outputs": [
        {
          "output_type": "stream",
          "name": "stdout",
          "text": [
            "-40\n",
            "-5\n",
            "0.0\n"
          ]
        }
      ]
    },
    {
      "cell_type": "code",
      "source": [
        "magnitude=[]\n",
        "for x in [1,2,3,4,5]:\n",
        "  y=x*10\n",
        "  magnitude.append(y)\n",
        "print(magnitude)"
      ],
      "metadata": {
        "colab": {
          "base_uri": "https://localhost:8080/"
        },
        "id": "eiHb5fVbxOzL",
        "outputId": "d4844de6-fa33-446e-ecf0-f0a05f97b1f6"
      },
      "execution_count": 37,
      "outputs": [
        {
          "output_type": "stream",
          "name": "stdout",
          "text": [
            "[10, 20, 30, 40, 50]\n"
          ]
        }
      ]
    },
    {
      "cell_type": "code",
      "source": [
        "import math as m\n",
        "for x in [1,2,3,4,5]:\n",
        "  sq=x ** 2\n",
        "  cb=x ** 3\n",
        "  log=m.log(x)\n",
        "\n",
        "  print(x,sq,cb,log)"
      ],
      "metadata": {
        "colab": {
          "base_uri": "https://localhost:8080/"
        },
        "id": "DQa_0elyyryM",
        "outputId": "7fe6e71b-e510-481e-afb9-a5c5aacb1738"
      },
      "execution_count": 39,
      "outputs": [
        {
          "output_type": "stream",
          "name": "stdout",
          "text": [
            "1 1 1 0.0\n",
            "2 4 8 0.6931471805599453\n",
            "3 9 27 1.0986122886681098\n",
            "4 16 64 1.3862943611198906\n",
            "5 25 125 1.6094379124341003\n"
          ]
        }
      ]
    },
    {
      "cell_type": "code",
      "source": [
        "ls = []\n",
        "for x in range(10,1000):\n",
        "  ls.append(x*x)\n",
        "\n",
        "print(ls[42])"
      ],
      "metadata": {
        "colab": {
          "base_uri": "https://localhost:8080/"
        },
        "id": "TNaXgaLWzMQb",
        "outputId": "fb584d5d-f434-4a14-ada4-473b95abd5b2"
      },
      "execution_count": 42,
      "outputs": [
        {
          "output_type": "stream",
          "name": "stdout",
          "text": [
            "2704\n"
          ]
        }
      ]
    },
    {
      "cell_type": "markdown",
      "source": [
        "### Conditionals"
      ],
      "metadata": {
        "id": "LD3HsB6qzsrd"
      }
    },
    {
      "cell_type": "code",
      "source": [
        "temp=200\n",
        "if temp <200:\n",
        "  print('TOO COLD')\n",
        "elif temp >200:\n",
        "  print('TOO HOT')\n",
        "else:\n",
        "  print('JUST RIGHT')\n"
      ],
      "metadata": {
        "colab": {
          "base_uri": "https://localhost:8080/"
        },
        "id": "eXLwKj1qznJk",
        "outputId": "08eb4caa-88d8-43d2-c66b-286c0f60f4e0"
      },
      "execution_count": 45,
      "outputs": [
        {
          "output_type": "stream",
          "name": "stdout",
          "text": [
            "TOO HOT\n"
          ]
        }
      ]
    },
    {
      "cell_type": "code",
      "source": [
        "print(temps)"
      ],
      "metadata": {
        "colab": {
          "base_uri": "https://localhost:8080/"
        },
        "id": "kRKt4DEm0RfG",
        "outputId": "43afd4ed-9a4a-436e-fd44-b3a0169d135f"
      },
      "execution_count": 46,
      "outputs": [
        {
          "output_type": "stream",
          "name": "stdout",
          "text": [
            "[-40, -5, 0.0, 32.0, 98.6, 100, 212, 212]\n"
          ]
        }
      ]
    },
    {
      "cell_type": "code",
      "source": [
        "for temp in temps:\n",
        "  if temp < 98.6:\n",
        "    print('TOO COLD')\n",
        "  elif temp > 98.6:\n",
        "    print('TOO HOT')\n",
        "  else:\n",
        "    print('JUST RIGHT')"
      ],
      "metadata": {
        "colab": {
          "base_uri": "https://localhost:8080/"
        },
        "id": "zczg4lba0T8A",
        "outputId": "6412b06f-c2bd-46bd-c77e-384eab870c2d"
      },
      "execution_count": 58,
      "outputs": [
        {
          "output_type": "stream",
          "name": "stdout",
          "text": [
            "TOO COLD\n",
            "TOO COLD\n",
            "TOO COLD\n",
            "TOO COLD\n",
            "JUST RIGHT\n",
            "TOO HOT\n",
            "TOO HOT\n",
            "TOO HOT\n"
          ]
        }
      ]
    },
    {
      "cell_type": "code",
      "source": [
        "dummy = 1\n",
        "while dummy <= 10:\n",
        "  print(dummy)\n",
        "  dummy+=1"
      ],
      "metadata": {
        "colab": {
          "base_uri": "https://localhost:8080/"
        },
        "id": "cB7oE9hP1jLI",
        "outputId": "120e68fe-6bfd-485e-ba51-870dbb835745"
      },
      "execution_count": 59,
      "outputs": [
        {
          "output_type": "stream",
          "name": "stdout",
          "text": [
            "1\n",
            "2\n",
            "3\n",
            "4\n",
            "5\n",
            "6\n",
            "7\n",
            "8\n",
            "9\n",
            "10\n"
          ]
        }
      ]
    },
    {
      "cell_type": "markdown",
      "source": [
        "### Looping Over Datasets"
      ],
      "metadata": {
        "id": "WNHlPWbT2AHX"
      }
    },
    {
      "cell_type": "code",
      "source": [
        "!curl -L -o PracCompPyData.zip http://bit.ly/PracCompPyData\n",
        "!unzip PracCompPyData.zip"
      ],
      "metadata": {
        "colab": {
          "base_uri": "https://localhost:8080/"
        },
        "id": "ijfa5lm92Uxo",
        "outputId": "c1b6ba9d-7b9b-4629-95cd-d82a9887f07c"
      },
      "execution_count": 61,
      "outputs": [
        {
          "output_type": "stream",
          "name": "stdout",
          "text": [
            "  % Total    % Received % Xferd  Average Speed   Time    Time     Time  Current\n",
            "                                 Dload  Upload   Total   Spent    Left  Speed\n",
            "100   137  100   137    0     0   1929      0 --:--:-- --:--:-- --:--:--  1929\n",
            "100   116    0   116    0     0    329      0 --:--:-- --:--:-- --:--:--  1546\n",
            "100   340  100   340    0     0    529      0 --:--:-- --:--:-- --:--:--   529\n",
            "100   534    0   534    0     0    671      0 --:--:-- --:--:-- --:--:--   671\n",
            "100 38179  100 38179    0     0  33876      0  0:00:01  0:00:01 --:--:-- 33876\n",
            "Archive:  PracCompPyData.zip\n",
            "  inflating: data/gapminder_all.csv  \n",
            "  inflating: data/gapminder_gdp_africa.csv  \n",
            "  inflating: data/gapminder_gdp_americas.csv  \n",
            "  inflating: data/gapminder_gdp_asia.csv  \n",
            "  inflating: data/gapminder_gdp_europe.csv  \n",
            "  inflating: data/gapminder_gdp_oceania.csv  \n"
          ]
        }
      ]
    },
    {
      "cell_type": "code",
      "source": [
        "import pandas as pd\n",
        "for FileName in ['data/gapminder_gdp_americas.csv', 'data/gapminder_gdp_asia.csv']:\n",
        "  data = pd.read_csv(FileName, index_col='country')\n",
        "  print(FileName,data.min())"
      ],
      "metadata": {
        "colab": {
          "base_uri": "https://localhost:8080/"
        },
        "id": "FOm9c4ST2DEV",
        "outputId": "84cb3c55-9dac-4b1d-a1f1-4aad6f40bc03"
      },
      "execution_count": 64,
      "outputs": [
        {
          "output_type": "stream",
          "name": "stdout",
          "text": [
            "data/gapminder_gdp_americas.csv continent            Americas\n",
            "gdpPercap_1952    1397.717137\n",
            "gdpPercap_1957    1544.402995\n",
            "gdpPercap_1962    1662.137359\n",
            "gdpPercap_1967    1452.057666\n",
            "gdpPercap_1972    1654.456946\n",
            "gdpPercap_1977    1874.298931\n",
            "gdpPercap_1982    2011.159549\n",
            "gdpPercap_1987    1823.015995\n",
            "gdpPercap_1992    1456.309517\n",
            "gdpPercap_1997    1341.726931\n",
            "gdpPercap_2002    1270.364932\n",
            "gdpPercap_2007    1201.637154\n",
            "dtype: object\n",
            "data/gapminder_gdp_asia.csv gdpPercap_1952    331.0\n",
            "gdpPercap_1957    350.0\n",
            "gdpPercap_1962    388.0\n",
            "gdpPercap_1967    349.0\n",
            "gdpPercap_1972    357.0\n",
            "gdpPercap_1977    371.0\n",
            "gdpPercap_1982    424.0\n",
            "gdpPercap_1987    385.0\n",
            "gdpPercap_1992    347.0\n",
            "gdpPercap_1997    415.0\n",
            "gdpPercap_2002    611.0\n",
            "gdpPercap_2007    944.0\n",
            "dtype: float64\n"
          ]
        }
      ]
    },
    {
      "cell_type": "code",
      "source": [
        "import glob\n",
        "print('all csv files:', glob.glob('data/gapminder_*.csv'))"
      ],
      "metadata": {
        "colab": {
          "base_uri": "https://localhost:8080/"
        },
        "id": "vnaU5nD93S9j",
        "outputId": "bb9a8d4a-2ef9-462e-af0d-4ff1094c1777"
      },
      "execution_count": 66,
      "outputs": [
        {
          "output_type": "stream",
          "name": "stdout",
          "text": [
            "all csv files: ['data/gapminder_gdp_europe.csv', 'data/gapminder_gdp_americas.csv', 'data/gapminder_gdp_oceania.csv', 'data/gapminder_gdp_africa.csv', 'data/gapminder_gdp_asia.csv', 'data/gapminder_all.csv']\n"
          ]
        }
      ]
    },
    {
      "cell_type": "code",
      "source": [
        "for FileName in glob.glob('data/gapminder_gdp*.csv'):\n",
        "  data = pd.read_csv(FileName)\n",
        "  print(FileName, 'GDP_1977_Minimum', data['gdpPercap_1977'].min())"
      ],
      "metadata": {
        "colab": {
          "base_uri": "https://localhost:8080/"
        },
        "id": "PSNb6MBV3uB2",
        "outputId": "7b534b47-fca8-4402-c3b9-fd1826fba71f"
      },
      "execution_count": 67,
      "outputs": [
        {
          "output_type": "stream",
          "name": "stdout",
          "text": [
            "data/gapminder_gdp_europe.csv GDP_1977_Minimum 3528.481305\n",
            "data/gapminder_gdp_americas.csv GDP_1977_Minimum 1874.298931\n",
            "data/gapminder_gdp_oceania.csv GDP_1977_Minimum 16233.7177\n",
            "data/gapminder_gdp_africa.csv GDP_1977_Minimum 502.3197334\n",
            "data/gapminder_gdp_asia.csv GDP_1977_Minimum 371.0\n"
          ]
        }
      ]
    },
    {
      "cell_type": "code",
      "source": [
        "for FileName in glob.glob('data/gapminder_gdp*.csv'):\n",
        "  data = pd.read_csv(FileName)\n",
        "  print(FileName, 'GDP_2007_Minimum', data['gdpPercap_2007'].min())"
      ],
      "metadata": {
        "colab": {
          "base_uri": "https://localhost:8080/"
        },
        "id": "8NNDr2rr4XYt",
        "outputId": "92bc5db8-60b1-4d70-8cd1-e0b6e770d091"
      },
      "execution_count": 68,
      "outputs": [
        {
          "output_type": "stream",
          "name": "stdout",
          "text": [
            "data/gapminder_gdp_europe.csv GDP_2007_Minimum 5937.029526\n",
            "data/gapminder_gdp_americas.csv GDP_2007_Minimum 1201.637154\n",
            "data/gapminder_gdp_oceania.csv GDP_2007_Minimum 25185.00911\n",
            "data/gapminder_gdp_africa.csv GDP_2007_Minimum 277.5518587\n",
            "data/gapminder_gdp_asia.csv GDP_2007_Minimum 944.0\n"
          ]
        }
      ]
    },
    {
      "cell_type": "markdown",
      "source": [
        "## Functions"
      ],
      "metadata": {
        "id": "WhlUrY7M45e_"
      }
    },
    {
      "cell_type": "code",
      "source": [
        "InitCtemp = 100\n",
        "Ftemp=(9/5)*float(InitCtemp)+32\n",
        "print(Ftemp)"
      ],
      "metadata": {
        "colab": {
          "base_uri": "https://localhost:8080/"
        },
        "id": "M6RFblD747Rc",
        "outputId": "7fb65a81-47c8-4694-be4d-d5395ccc10be"
      },
      "execution_count": 70,
      "outputs": [
        {
          "output_type": "stream",
          "name": "stdout",
          "text": [
            "212.0\n"
          ]
        }
      ]
    },
    {
      "cell_type": "code",
      "source": [
        "def temp_cov(temp, scale):\n",
        "  if scale.upper() == 'C' or scale.upper()=='CELSIUS':\n",
        "    #print(str(temp)+' C = '+str((9/5)*float(temp)+32)+' F')\n",
        "    return str((9/5)*float(temp)+32)\n",
        "  elif scale.upper() == 'F' or scale.upper()=='FAHRENHEIT':\n",
        "    #print(str(temp)+ ' F '+str((5/9)*float(temp)-32)+' C')\n",
        "    return str((5/9)*float(temp)-32)\n",
        "  else:\n",
        "    print('You made a mistake')"
      ],
      "metadata": {
        "id": "LGH17jUY5Moe"
      },
      "execution_count": 117,
      "outputs": []
    },
    {
      "cell_type": "code",
      "source": [
        "temp_cov(98.6, 'fahrenheit')"
      ],
      "metadata": {
        "colab": {
          "base_uri": "https://localhost:8080/",
          "height": 35
        },
        "id": "38-JUEis5udH",
        "outputId": "62a9549e-676d-4768-8e9c-c079c2f55c40"
      },
      "execution_count": 118,
      "outputs": [
        {
          "output_type": "execute_result",
          "data": {
            "text/plain": [
              "'22.77777777777778'"
            ],
            "application/vnd.google.colaboratory.intrinsic+json": {
              "type": "string"
            }
          },
          "metadata": {},
          "execution_count": 118
        }
      ]
    },
    {
      "cell_type": "code",
      "source": [
        "new_temps=[]\n",
        "for x in temps:\n",
        "  y=float(temp_cov(x, 'F'))\n",
        "  #print(type(y))\n",
        "  new_temps.append(y)"
      ],
      "metadata": {
        "id": "S1F0Kf_47xXS"
      },
      "execution_count": 124,
      "outputs": []
    },
    {
      "cell_type": "code",
      "source": [
        "print(new_temps)"
      ],
      "metadata": {
        "colab": {
          "base_uri": "https://localhost:8080/"
        },
        "id": "XE4c4yAZ8La5",
        "outputId": "8e0e76af-2ac5-4c11-d47c-a98e6d23ef99"
      },
      "execution_count": 126,
      "outputs": [
        {
          "output_type": "stream",
          "name": "stdout",
          "text": [
            "[-54.22222222222222, -34.77777777777778, -32.0, -14.222222222222221, 22.77777777777778, 23.555555555555557, 85.77777777777779, 85.77777777777779]\n"
          ]
        }
      ]
    },
    {
      "cell_type": "markdown",
      "source": [
        "# Render a PDF"
      ],
      "metadata": {
        "id": "9nco8kKt3zm_"
      }
    },
    {
      "cell_type": "code",
      "source": [
        "!apt-get install texlive texlive-xetex texlive-latex-extra pandoc\n",
        "!pip install pypandoc\n",
        "\n",
        "from google.colab import drive\n",
        "drive.mount('/content/drive')\n",
        "\n",
        "!cp drive/My\\ Drive/Colab\\ Notebooks/PracComp2022.ipynb ./\n",
        "\n",
        "!jupyter nbconvert --to PDF \"PracComp2022.ipynb\"\n",
        "\n",
        "!rm ./PracComp2022.ipynb\n",
        "\n",
        "!mv PracComp2022.pdf drive/My\\ Drive/Colab\\ Notebooks/PracComp2022.pdf"
      ],
      "metadata": {
        "colab": {
          "base_uri": "https://localhost:8080/",
          "height": 1000
        },
        "id": "VRjqlQWtlkj_",
        "outputId": "a7636913-0c6a-4553-9630-13535594c679"
      },
      "execution_count": 125,
      "outputs": [
        {
          "output_type": "stream",
          "name": "stdout",
          "text": [
            "^C\n",
            "Traceback (most recent call last):\n",
            "  File \"<frozen importlib._bootstrap>\", line 983, in _find_and_load\n",
            "  File \"<frozen importlib._bootstrap>\", line 967, in _find_and_load_unlocked\n",
            "  File \"<frozen importlib._bootstrap>\", line 677, in _load_unlocked\n",
            "  File \"<frozen importlib._bootstrap_external>\", line 728, in exec_module\n",
            "  File \"<frozen importlib._bootstrap>\", line 219, in _call_with_frames_removed\n",
            "  File \"/usr/local/lib/python3.7/dist-packages/pip/_internal/exceptions.py\", line 8, in <module>\n",
            "    from pip._vendor.requests.models import Request, Response\n",
            "  File \"/usr/local/lib/python3.7/dist-packages/pip/_vendor/requests/__init__.py\", line 44, in <module>\n",
            "    from pip._vendor import chardet\n",
            "  File \"/usr/local/lib/python3.7/dist-packages/pip/_vendor/chardet/__init__.py\", line 19, in <module>\n",
            "    from .universaldetector import UniversalDetector\n",
            "  File \"/usr/local/lib/python3.7/dist-packages/pip/_vendor/chardet/universaldetector.py\", line 51, in <module>\n",
            "    class UniversalDetector(object):\n",
            "KeyboardInterrupt\n",
            "\n",
            "During handling of the above exception, another exception occurred:\n",
            "\n",
            "Traceback (most recent call last):\n",
            "  File \"/usr/local/bin/pip3\", line 5, in <module>\n",
            "    from pip._internal.cli.main import main\n",
            "  File \"/usr/local/lib/python3.7/dist-packages/pip/_internal/cli/main.py\", line 9, in <module>\n",
            "    from pip._internal.cli.autocompletion import autocomplete\n",
            "  File \"/usr/local/lib/python3.7/dist-packages/pip/_internal/cli/autocompletion.py\", line 10, in <module>\n",
            "    from pip._internal.cli.main_parser import create_main_parser\n",
            "  File \"/usr/local/lib/python3.7/dist-packages/pip/_internal/cli/main_parser.py\", line 8, in <module>\n",
            "    from pip._internal.cli import cmdoptions\n",
            "  File \"/usr/local/lib/python3.7/dist-packages/pip/_internal/cli/cmdoptions.py\", line 23, in <module>\n",
            "    from pip._internal.cli.parser import ConfigOptionParser\n",
            "  File \"/usr/local/lib/python3.7/dist-packages/pip/_internal/cli/parser.py\", line 12, in <module>\n",
            "    from pip._internal.configuration import Configuration, ConfigurationError\n",
            "  File \"/usr/local/lib/python3.7/dist-packages/pip/_internal/configuration.py\", line 21, in <module>\n",
            "    from pip._internal.exceptions import (\n",
            "  File \"<frozen importlib._bootstrap>\", line 983, in _find_and_load\n",
            "KeyboardInterrupt\n"
          ]
        },
        {
          "output_type": "error",
          "ename": "KeyboardInterrupt",
          "evalue": "ignored",
          "traceback": [
            "\u001b[0;31m---------------------------------------------------------------------------\u001b[0m",
            "\u001b[0;31mKeyboardInterrupt\u001b[0m                         Traceback (most recent call last)",
            "\u001b[0;32m<ipython-input-125-bdb481e0ed39>\u001b[0m in \u001b[0;36m<module>\u001b[0;34m\u001b[0m\n\u001b[1;32m      3\u001b[0m \u001b[0;34m\u001b[0m\u001b[0m\n\u001b[1;32m      4\u001b[0m \u001b[0;32mfrom\u001b[0m \u001b[0mgoogle\u001b[0m\u001b[0;34m.\u001b[0m\u001b[0mcolab\u001b[0m \u001b[0;32mimport\u001b[0m \u001b[0mdrive\u001b[0m\u001b[0;34m\u001b[0m\u001b[0;34m\u001b[0m\u001b[0m\n\u001b[0;32m----> 5\u001b[0;31m \u001b[0mdrive\u001b[0m\u001b[0;34m.\u001b[0m\u001b[0mmount\u001b[0m\u001b[0;34m(\u001b[0m\u001b[0;34m'/content/drive'\u001b[0m\u001b[0;34m)\u001b[0m\u001b[0;34m\u001b[0m\u001b[0;34m\u001b[0m\u001b[0m\n\u001b[0m\u001b[1;32m      6\u001b[0m \u001b[0;34m\u001b[0m\u001b[0m\n\u001b[1;32m      7\u001b[0m \u001b[0mget_ipython\u001b[0m\u001b[0;34m(\u001b[0m\u001b[0;34m)\u001b[0m\u001b[0;34m.\u001b[0m\u001b[0msystem\u001b[0m\u001b[0;34m(\u001b[0m\u001b[0;34m'cp drive/My\\\\ Drive/Colab\\\\ Notebooks/PracComp2022.ipynb ./'\u001b[0m\u001b[0;34m)\u001b[0m\u001b[0;34m\u001b[0m\u001b[0;34m\u001b[0m\u001b[0m\n",
            "\u001b[0;32m/usr/local/lib/python3.7/dist-packages/google/colab/drive.py\u001b[0m in \u001b[0;36mmount\u001b[0;34m(mountpoint, force_remount, timeout_ms)\u001b[0m\n\u001b[1;32m    103\u001b[0m       \u001b[0mforce_remount\u001b[0m\u001b[0;34m=\u001b[0m\u001b[0mforce_remount\u001b[0m\u001b[0;34m,\u001b[0m\u001b[0;34m\u001b[0m\u001b[0;34m\u001b[0m\u001b[0m\n\u001b[1;32m    104\u001b[0m       \u001b[0mtimeout_ms\u001b[0m\u001b[0;34m=\u001b[0m\u001b[0mtimeout_ms\u001b[0m\u001b[0;34m,\u001b[0m\u001b[0;34m\u001b[0m\u001b[0;34m\u001b[0m\u001b[0m\n\u001b[0;32m--> 105\u001b[0;31m       ephemeral=True)\n\u001b[0m\u001b[1;32m    106\u001b[0m \u001b[0;34m\u001b[0m\u001b[0m\n\u001b[1;32m    107\u001b[0m \u001b[0;34m\u001b[0m\u001b[0m\n",
            "\u001b[0;32m/usr/local/lib/python3.7/dist-packages/google/colab/drive.py\u001b[0m in \u001b[0;36m_mount\u001b[0;34m(mountpoint, force_remount, timeout_ms, ephemeral)\u001b[0m\n\u001b[1;32m    118\u001b[0m   \u001b[0;32mif\u001b[0m \u001b[0mephemeral\u001b[0m\u001b[0;34m:\u001b[0m\u001b[0;34m\u001b[0m\u001b[0;34m\u001b[0m\u001b[0m\n\u001b[1;32m    119\u001b[0m     _message.blocking_request(\n\u001b[0;32m--> 120\u001b[0;31m         'request_auth', request={'authType': 'dfs_ephemeral'}, timeout_sec=None)\n\u001b[0m\u001b[1;32m    121\u001b[0m \u001b[0;34m\u001b[0m\u001b[0m\n\u001b[1;32m    122\u001b[0m   \u001b[0mmountpoint\u001b[0m \u001b[0;34m=\u001b[0m \u001b[0m_os\u001b[0m\u001b[0;34m.\u001b[0m\u001b[0mpath\u001b[0m\u001b[0;34m.\u001b[0m\u001b[0mexpanduser\u001b[0m\u001b[0;34m(\u001b[0m\u001b[0mmountpoint\u001b[0m\u001b[0;34m)\u001b[0m\u001b[0;34m\u001b[0m\u001b[0;34m\u001b[0m\u001b[0m\n",
            "\u001b[0;32m/usr/local/lib/python3.7/dist-packages/google/colab/_message.py\u001b[0m in \u001b[0;36mblocking_request\u001b[0;34m(request_type, request, timeout_sec, parent)\u001b[0m\n\u001b[1;32m    169\u001b[0m   request_id = send_request(\n\u001b[1;32m    170\u001b[0m       request_type, request, parent=parent, expect_reply=True)\n\u001b[0;32m--> 171\u001b[0;31m   \u001b[0;32mreturn\u001b[0m \u001b[0mread_reply_from_input\u001b[0m\u001b[0;34m(\u001b[0m\u001b[0mrequest_id\u001b[0m\u001b[0;34m,\u001b[0m \u001b[0mtimeout_sec\u001b[0m\u001b[0;34m)\u001b[0m\u001b[0;34m\u001b[0m\u001b[0;34m\u001b[0m\u001b[0m\n\u001b[0m",
            "\u001b[0;32m/usr/local/lib/python3.7/dist-packages/google/colab/_message.py\u001b[0m in \u001b[0;36mread_reply_from_input\u001b[0;34m(message_id, timeout_sec)\u001b[0m\n\u001b[1;32m     95\u001b[0m     \u001b[0mreply\u001b[0m \u001b[0;34m=\u001b[0m \u001b[0m_read_next_input_message\u001b[0m\u001b[0;34m(\u001b[0m\u001b[0;34m)\u001b[0m\u001b[0;34m\u001b[0m\u001b[0;34m\u001b[0m\u001b[0m\n\u001b[1;32m     96\u001b[0m     \u001b[0;32mif\u001b[0m \u001b[0mreply\u001b[0m \u001b[0;34m==\u001b[0m \u001b[0m_NOT_READY\u001b[0m \u001b[0;32mor\u001b[0m \u001b[0;32mnot\u001b[0m \u001b[0misinstance\u001b[0m\u001b[0;34m(\u001b[0m\u001b[0mreply\u001b[0m\u001b[0;34m,\u001b[0m \u001b[0mdict\u001b[0m\u001b[0;34m)\u001b[0m\u001b[0;34m:\u001b[0m\u001b[0;34m\u001b[0m\u001b[0;34m\u001b[0m\u001b[0m\n\u001b[0;32m---> 97\u001b[0;31m       \u001b[0mtime\u001b[0m\u001b[0;34m.\u001b[0m\u001b[0msleep\u001b[0m\u001b[0;34m(\u001b[0m\u001b[0;36m0.025\u001b[0m\u001b[0;34m)\u001b[0m\u001b[0;34m\u001b[0m\u001b[0;34m\u001b[0m\u001b[0m\n\u001b[0m\u001b[1;32m     98\u001b[0m       \u001b[0;32mcontinue\u001b[0m\u001b[0;34m\u001b[0m\u001b[0;34m\u001b[0m\u001b[0m\n\u001b[1;32m     99\u001b[0m     if (reply.get('type') == 'colab_reply' and\n",
            "\u001b[0;31mKeyboardInterrupt\u001b[0m: "
          ]
        }
      ]
    }
  ]
}